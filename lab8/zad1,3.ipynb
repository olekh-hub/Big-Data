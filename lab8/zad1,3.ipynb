{
 "cells": [
  {
   "cell_type": "markdown",
   "metadata": {
    "application/vnd.databricks.v1+cell": {
     "cellMetadata": {},
     "inputWidgets": {},
     "nuid": "4dc59a4b-77ab-45f2-b126-ea5864104815",
     "showTitle": false,
     "tableResultSettingsMap": {},
     "title": ""
    }
   },
   "source": [
    "**Zadanie 1**"
   ]
  },
  {
   "cell_type": "code",
   "execution_count": 0,
   "metadata": {
    "application/vnd.databricks.v1+cell": {
     "cellMetadata": {
      "byteLimit": 2048000,
      "rowLimit": 10000
     },
     "inputWidgets": {},
     "nuid": "d492a538-058d-403d-a2ef-6ad62321104b",
     "showTitle": false,
     "tableResultSettingsMap": {},
     "title": ""
    }
   },
   "outputs": [],
   "source": [
    "file = \"dbfs:/FileStore/tables/brzydki.json\"\n"
   ]
  },
  {
   "cell_type": "code",
   "execution_count": 0,
   "metadata": {
    "application/vnd.databricks.v1+cell": {
     "cellMetadata": {
      "byteLimit": 2048000,
      "rowLimit": 10000
     },
     "inputWidgets": {},
     "nuid": "6c9109c6-79e8-4aaa-8eb2-3ba65064b185",
     "showTitle": false,
     "tableResultSettingsMap": {},
     "title": ""
    }
   },
   "outputs": [],
   "source": [
    "from pyspark.sql.functions import *"
   ]
  },
  {
   "cell_type": "code",
   "execution_count": 0,
   "metadata": {
    "application/vnd.databricks.v1+cell": {
     "cellMetadata": {
      "byteLimit": 2048000,
      "rowLimit": 10000
     },
     "inputWidgets": {},
     "nuid": "6926b0fe-2e13-4b05-b136-12cc679e6cfb",
     "showTitle": false,
     "tableResultSettingsMap": {},
     "title": ""
    }
   },
   "outputs": [
    {
     "output_type": "display_data",
     "data": {
      "text/html": [
       "<style scoped>\n",
       "  .table-result-container {\n",
       "    max-height: 300px;\n",
       "    overflow: auto;\n",
       "  }\n",
       "  table, th, td {\n",
       "    border: 1px solid black;\n",
       "    border-collapse: collapse;\n",
       "  }\n",
       "  th, td {\n",
       "    padding: 5px;\n",
       "  }\n",
       "  th {\n",
       "    text-align: left;\n",
       "  }\n",
       "</style><div class='table-result-container'><table class='table-result'><thead style='background-color: white'><tr><th>features</th><th>jobDetails</th><th>maiaExtractProcessDetails</th><th>numberOfFeatures</th><th>type</th></tr></thead><tbody><tr><td>List(List(List(List(List([445751.0,244970.0,138.984], [446492.041,244970.0,101.861], [446492.041,245088.372,102.604], [445751.0,245088.372,140.312], [445751.0,244970.0,138.984])), Polygon), List(null, null, null, List(), null, null, List(List(), a6a7e7ff-232fg-e222-e040-adg354fg345, Named Thoroughfare, null, List(Unknown, Confident, 2005-09-20, 2005-09-20, 0, Refinement), 1), List(), null, update, List(List(2003-03-13, New), List(2005-09-20, Modified), List(2018-07-27, Modified), List(2022-08-03, Attributes)), null, null, null, null, null, Named Extent+Group+None, a6a7e7ff-71d3-e455-0a2c5c6a, null, null, null, List(List(), 2342432jj-71dc-e222-e040-a234j324k5c6a, List(as344fr-8385-bbae-e040-a40a262c31b2, 9eeb7c1a-d123-41ca-b531-ssdf44556), List(), null, List(Collection, Confident, 2022-08-03, 2019-07-05, 34567535, Real), 3, List()), null, null, null, null, 3453654, null, List(List(), a6a7e7ff-71d7-e222-e040-a40a262c5c6a, Defined, null, List(Unknown, Confident, 2005-09-20, 2005-09-20, 0, Refinement), 1), null, null, null, List(List(List(), List(List(Initial Load, Product History, 2005-09-20, Name, null)), a6a7e7ff-71d8-e222-e040-bsfds3243, Lane, English, null, List(Unknown, Confident, 2005-09-20, 2005-09-20, 0, Refinement), 1)), null, null, null, null, null, List(List(), List(), a6a7e7ff-71d5-e222-e040-qwe234234rw, Not Applicable, null, Stylised, List(Photogrammetry, Confident, 2022-08-03, 2019-07-05, 34567535, Real), 3), null, null, null, null, null, null, null, List(), List(), List(List(List(), 689a801f-9b91-4d72-b19b-851b6c88144f, null, List(List(Lower Left, Normal Text, 2.75 m, 1, 357.3, List(List(446819.26, 245084.52), Point), MILL LANE (TRACK))), List(Collection, Confident, 2018-07-26, 2018-07-26, 42334591, Real), 1), List(List(), a6ae45e5-3439-f291-e040-a40a262c1e53, null, List(List(Centre, Normal Text, 2.75 m, 1, 10.2, List(List(445975.95, 245013.95), Point), MILL LANE)), List(Unknown, Confident, 2005-03-07, 2005-03-07, 0, Refinement), 1)), null, null, 3544354345349395541, null, 2022-08-06T03:29:46Z, null, null, null, null, null), Feature), List(List(List(List(446492.041, 245087.712, 102.616), List(446498.463, 245087.71, 103.178), List(446503.199, 245088.442, 103.205), List(446510.93, 245089.636, 102.862)), LineString), List(null, null, null, List(), null, null, List(List(), 3cf5b258-fe22-4ebc-a779-75932395e98e, Single Carriageway, null, List(Collection, Confident, 2018-07-26, 2018-07-26, 42334591, Real), 1), List(List(List(), ad7234f3fa-1fbc-4880-b55f-b0e04ab14430, Restricted Access, Active, List(), null, List(Collection, Confident, 2018-07-26, 2018-07-26, 42334591, Real), 1)), null, delete, List(List(2018-07-28, New)), null, null, null, null, null, Network+Line+None, 17e3f1c4-1802-4952-a826-ba148d063716, null, List(List(), ae22d84d-dab4-409d-9637-sdfs34234, 0, 0, null, List(Collection, Confident, 2018-07-26, 2018-07-26, 42334591, Real), 1), null, null, null, null, null, null, 34567535, null, List(List(), 709b0382-2b30-4ad3-9f6f-ere334te332ret, Defined, null, List(Collection, Confident, 2018-07-26, 2018-07-26, 42334591, Real), 1), List(List(), cd23423-ffea-4217-89b4-344frfre334, Level, 2018-07-28, null, List(Interpolation, Confident, 2018-07-28, 2018-07-28, 423424391, Real), 1), List(List(), 2342342-342435-45dc-83d3-34612b1d74a8, 3973b6cf-a2e4-432c-8f61-13e2da62bcd1, null, null, null, null, a6a39ce2-2abd-7486-e040-de3452c6e95, null, null, null, List(Collection, Confident, 2018-07-26, 2018-07-26, 42334591, Real), 1), null, List(), null, null, null, null, null, null, List(List(), List(), 0021b346-8a3c-46ca-9d2e-75e0c96a46c9, Unknown, null, Exact, List(Photogrammetry, Confident, 2018-07-26, 2018-07-26, 42334591, Real), 1), null, null, null, List(List(), 3f009479-0b1d-4c95-98dc-61064233d85b, false, false, null, List(Collection, Confident, 2018-07-26, 2018-07-26, 42334591, Real), 1), null, null, List(), List(), List(), null, null, osgb5000005233652043, null, 2022-08-06T03:29:46Z, null, null, null, null, null), Feature))</td><td>List(2022-08-06T03:29:46Z, 345345, XSDR_344985_WGZX_2022_A008_V, Stereo, 345353)</td><td>List(Incremental Update, 2022-08-06T03:30:35Z, 1.10, 110572, null, null)</td><td>2</td><td>Collection</td></tr></tbody></table></div>"
      ]
     },
     "metadata": {
      "application/vnd.databricks.v1+output": {
       "addedWidgets": {},
       "aggData": [],
       "aggError": "",
       "aggOverflow": false,
       "aggSchema": [],
       "aggSeriesLimitReached": false,
       "aggType": "",
       "arguments": {},
       "columnCustomDisplayInfos": {},
       "data": [
        [
         [
          [
           [
            [
             [
              "[445751.0,244970.0,138.984]",
              "[446492.041,244970.0,101.861]",
              "[446492.041,245088.372,102.604]",
              "[445751.0,245088.372,140.312]",
              "[445751.0,244970.0,138.984]"
             ]
            ],
            "Polygon"
           ],
           [
            null,
            null,
            null,
            [],
            null,
            null,
            [
             [],
             "a6a7e7ff-232fg-e222-e040-adg354fg345",
             "Named Thoroughfare",
             null,
             [
              "Unknown",
              "Confident",
              "2005-09-20",
              "2005-09-20",
              0,
              "Refinement"
             ],
             1
            ],
            [],
            null,
            "update",
            [
             [
              "2003-03-13",
              "New"
             ],
             [
              "2005-09-20",
              "Modified"
             ],
             [
              "2018-07-27",
              "Modified"
             ],
             [
              "2022-08-03",
              "Attributes"
             ]
            ],
            null,
            null,
            null,
            null,
            null,
            "Named Extent+Group+None",
            "a6a7e7ff-71d3-e455-0a2c5c6a",
            null,
            null,
            null,
            [
             [],
             "2342432jj-71dc-e222-e040-a234j324k5c6a",
             [
              "as344fr-8385-bbae-e040-a40a262c31b2",
              "9eeb7c1a-d123-41ca-b531-ssdf44556"
             ],
             [],
             null,
             [
              "Collection",
              "Confident",
              "2022-08-03",
              "2019-07-05",
              34567535,
              "Real"
             ],
             3,
             []
            ],
            null,
            null,
            null,
            null,
            3453654,
            null,
            [
             [],
             "a6a7e7ff-71d7-e222-e040-a40a262c5c6a",
             "Defined",
             null,
             [
              "Unknown",
              "Confident",
              "2005-09-20",
              "2005-09-20",
              0,
              "Refinement"
             ],
             1
            ],
            null,
            null,
            null,
            [
             [
              [],
              [
               [
                "Initial Load",
                "Product History",
                "2005-09-20",
                "Name",
                null
               ]
              ],
              "a6a7e7ff-71d8-e222-e040-bsfds3243",
              "Lane",
              "English",
              null,
              [
               "Unknown",
               "Confident",
               "2005-09-20",
               "2005-09-20",
               0,
               "Refinement"
              ],
              1
             ]
            ],
            null,
            null,
            null,
            null,
            null,
            [
             [],
             [],
             "a6a7e7ff-71d5-e222-e040-qwe234234rw",
             "Not Applicable",
             null,
             "Stylised",
             [
              "Photogrammetry",
              "Confident",
              "2022-08-03",
              "2019-07-05",
              34567535,
              "Real"
             ],
             3
            ],
            null,
            null,
            null,
            null,
            null,
            null,
            null,
            [],
            [],
            [
             [
              [],
              "689a801f-9b91-4d72-b19b-851b6c88144f",
              null,
              [
               [
                "Lower Left",
                "Normal Text",
                "2.75 m",
                1,
                357.3,
                [
                 [
                  446819.26,
                  245084.52
                 ],
                 "Point"
                ],
                "MILL LANE (TRACK)"
               ]
              ],
              [
               "Collection",
               "Confident",
               "2018-07-26",
               "2018-07-26",
               42334591,
               "Real"
              ],
              1
             ],
             [
              [],
              "a6ae45e5-3439-f291-e040-a40a262c1e53",
              null,
              [
               [
                "Centre",
                "Normal Text",
                "2.75 m",
                1,
                10.2,
                [
                 [
                  445975.95,
                  245013.95
                 ],
                 "Point"
                ],
                "MILL LANE"
               ]
              ],
              [
               "Unknown",
               "Confident",
               "2005-03-07",
               "2005-03-07",
               0,
               "Refinement"
              ],
              1
             ]
            ],
            null,
            null,
            "3544354345349395541",
            null,
            "2022-08-06T03:29:46Z",
            null,
            null,
            null,
            null,
            null
           ],
           "Feature"
          ],
          [
           [
            [
             [
              "446492.041",
              "245087.712",
              "102.616"
             ],
             [
              "446498.463",
              "245087.71",
              "103.178"
             ],
             [
              "446503.199",
              "245088.442",
              "103.205"
             ],
             [
              "446510.93",
              "245089.636",
              "102.862"
             ]
            ],
            "LineString"
           ],
           [
            null,
            null,
            null,
            [],
            null,
            null,
            [
             [],
             "3cf5b258-fe22-4ebc-a779-75932395e98e",
             "Single Carriageway",
             null,
             [
              "Collection",
              "Confident",
              "2018-07-26",
              "2018-07-26",
              42334591,
              "Real"
             ],
             1
            ],
            [
             [
              [],
              "ad7234f3fa-1fbc-4880-b55f-b0e04ab14430",
              "Restricted Access",
              "Active",
              [],
              null,
              [
               "Collection",
               "Confident",
               "2018-07-26",
               "2018-07-26",
               42334591,
               "Real"
              ],
              1
             ]
            ],
            null,
            "delete",
            [
             [
              "2018-07-28",
              "New"
             ]
            ],
            null,
            null,
            null,
            null,
            null,
            "Network+Line+None",
            "17e3f1c4-1802-4952-a826-ba148d063716",
            null,
            [
             [],
             "ae22d84d-dab4-409d-9637-sdfs34234",
             0,
             0,
             null,
             [
              "Collection",
              "Confident",
              "2018-07-26",
              "2018-07-26",
              42334591,
              "Real"
             ],
             1
            ],
            null,
            null,
            null,
            null,
            null,
            null,
            34567535,
            null,
            [
             [],
             "709b0382-2b30-4ad3-9f6f-ere334te332ret",
             "Defined",
             null,
             [
              "Collection",
              "Confident",
              "2018-07-26",
              "2018-07-26",
              42334591,
              "Real"
             ],
             1
            ],
            [
             [],
             "cd23423-ffea-4217-89b4-344frfre334",
             "Level",
             "2018-07-28",
             null,
             [
              "Interpolation",
              "Confident",
              "2018-07-28",
              "2018-07-28",
              423424391,
              "Real"
             ],
             1
            ],
            [
             [],
             "2342342-342435-45dc-83d3-34612b1d74a8",
             "3973b6cf-a2e4-432c-8f61-13e2da62bcd1",
             null,
             null,
             null,
             null,
             "a6a39ce2-2abd-7486-e040-de3452c6e95",
             null,
             null,
             null,
             [
              "Collection",
              "Confident",
              "2018-07-26",
              "2018-07-26",
              42334591,
              "Real"
             ],
             1
            ],
            null,
            [],
            null,
            null,
            null,
            null,
            null,
            null,
            [
             [],
             [],
             "0021b346-8a3c-46ca-9d2e-75e0c96a46c9",
             "Unknown",
             null,
             "Exact",
             [
              "Photogrammetry",
              "Confident",
              "2018-07-26",
              "2018-07-26",
              42334591,
              "Real"
             ],
             1
            ],
            null,
            null,
            null,
            [
             [],
             "3f009479-0b1d-4c95-98dc-61064233d85b",
             false,
             false,
             null,
             [
              "Collection",
              "Confident",
              "2018-07-26",
              "2018-07-26",
              42334591,
              "Real"
             ],
             1
            ],
            null,
            null,
            [],
            [],
            [],
            null,
            null,
            "osgb5000005233652043",
            null,
            "2022-08-06T03:29:46Z",
            null,
            null,
            null,
            null,
            null
           ],
           "Feature"
          ]
         ],
         [
          "2022-08-06T03:29:46Z",
          345345,
          "XSDR_344985_WGZX_2022_A008_V",
          "Stereo",
          345353
         ],
         [
          "Incremental Update",
          "2022-08-06T03:30:35Z",
          "1.10",
          110572,
          null,
          null
         ],
         2,
         "Collection"
        ]
       ],
       "datasetInfos": [],
       "dbfsResultPath": null,
       "isJsonSchema": true,
       "metadata": {},
       "overflow": false,
       "plotOptions": {
        "customPlotOptions": {},
        "displayType": "table",
        "pivotAggregation": null,
        "pivotColumns": null,
        "xColumns": null,
        "yColumns": null
       },
       "removedWidgets": [],
       "schema": [
        {
         "metadata": "{}",
         "name": "features",
         "type": "{\"type\":\"array\",\"elementType\":{\"type\":\"struct\",\"fields\":[{\"name\":\"geometry\",\"type\":{\"type\":\"struct\",\"fields\":[{\"name\":\"coordinates\",\"type\":{\"type\":\"array\",\"elementType\":{\"type\":\"array\",\"elementType\":\"string\",\"containsNull\":true},\"containsNull\":true},\"nullable\":true,\"metadata\":{}},{\"name\":\"type\",\"type\":\"string\",\"nullable\":true,\"metadata\":{}}]},\"nullable\":true,\"metadata\":{}},{\"name\":\"properties\",\"type\":{\"type\":\"struct\",\"fields\":[{\"name\":\"accessTopologyComponent\",\"type\":\"string\",\"nullable\":true,\"metadata\":{}},{\"name\":\"administrativeExceptionComponent\",\"type\":\"string\",\"nullable\":true,\"metadata\":{}},{\"name\":\"administrativeUnitComponent\",\"type\":\"string\",\"nullable\":true,\"metadata\":{}},{\"name\":\"alternativeToids\",\"type\":{\"type\":\"array\",\"elementType\":\"string\",\"containsNull\":true},\"nullable\":true,\"metadata\":{}},{\"name\":\"anomalyComponent\",\"type\":\"string\",\"nullable\":true,\"metadata\":{}},{\"name\":\"areaHeightComponent\",\"type\":\"string\",\"nullable\":true,\"metadata\":{}},{\"name\":\"baseFormComponent\",\"type\":{\"type\":\"struct\",\"fields\":[{\"name\":\"applicableContracts\",\"type\":{\"type\":\"array\",\"elementType\":\"string\",\"containsNull\":true},\"nullable\":true,\"metadata\":{}},{\"name\":\"componentId\",\"type\":\"string\",\"nullable\":true,\"metadata\":{}},{\"name\":\"form\",\"type\":\"string\",\"nullable\":true,\"metadata\":{}},{\"name\":\"source\",\"type\":\"string\",\"nullable\":true,\"metadata\":{}},{\"name\":\"versionCreationMetadata\",\"type\":{\"type\":\"struct\",\"fields\":[{\"name\":\"captureMethod\",\"type\":\"string\",\"nullable\":true,\"metadata\":{}},{\"name\":\"confidenceLevel\",\"type\":\"string\",\"nullable\":true,\"metadata\":{}},{\"name\":\"editDate\",\"type\":\"string\",\"nullable\":true,\"metadata\":{}},{\"name\":\"evidenceDate\",\"type\":\"string\",\"nullable\":true,\"metadata\":{}},{\"name\":\"jobReference\",\"type\":\"long\",\"nullable\":true,\"metadata\":{}},{\"name\":\"reasonForChange\",\"type\":\"string\",\"nullable\":true,\"metadata\":{}}]},\"nullable\":true,\"metadata\":{}},{\"name\":\"versionNumber\",\"type\":\"long\",\"nullable\":true,\"metadata\":{}}]},\"nullable\":true,\"metadata\":{}},{\"name\":\"baseFunctionComponents\",\"type\":{\"type\":\"array\",\"elementType\":{\"type\":\"struct\",\"fields\":[{\"name\":\"applicableContracts\",\"type\":{\"type\":\"array\",\"elementType\":\"string\",\"containsNull\":true},\"nullable\":true,\"metadata\":{}},{\"name\":\"componentId\",\"type\":\"string\",\"nullable\":true,\"metadata\":{}},{\"name\":\"function\",\"type\":\"string\",\"nullable\":true,\"metadata\":{}},{\"name\":\"operationalStatus\",\"type\":\"string\",\"nullable\":true,\"metadata\":{}},{\"name\":\"qualifiers\",\"type\":{\"type\":\"array\",\"elementType\":\"string\",\"containsNull\":true},\"nullable\":true,\"metadata\":{}},{\"name\":\"source\",\"type\":\"string\",\"nullable\":true,\"metadata\":{}},{\"name\":\"versionCreationMetadata\",\"type\":{\"type\":\"struct\",\"fields\":[{\"name\":\"captureMethod\",\"type\":\"string\",\"nullable\":true,\"metadata\":{}},{\"name\":\"confidenceLevel\",\"type\":\"string\",\"nullable\":true,\"metadata\":{}},{\"name\":\"editDate\",\"type\":\"string\",\"nullable\":true,\"metadata\":{}},{\"name\":\"evidenceDate\",\"type\":\"string\",\"nullable\":true,\"metadata\":{}},{\"name\":\"jobReference\",\"type\":\"long\",\"nullable\":true,\"metadata\":{}},{\"name\":\"reasonForChange\",\"type\":\"string\",\"nullable\":true,\"metadata\":{}}]},\"nullable\":true,\"metadata\":{}},{\"name\":\"versionNumber\",\"type\":\"long\",\"nullable\":true,\"metadata\":{}}]},\"containsNull\":true},\"nullable\":true,\"metadata\":{}},{\"name\":\"boundaryLinkComponent\",\"type\":\"string\",\"nullable\":true,\"metadata\":{}},{\"name\":\"changeEventType\",\"type\":\"string\",\"nullable\":true,\"metadata\":{}},{\"name\":\"changeHistory\",\"type\":{\"type\":\"array\",\"elementType\":{\"type\":\"struct\",\"fields\":[{\"name\":\"changeDate\",\"type\":\"string\",\"nullable\":true,\"metadata\":{}},{\"name\":\"reasonForChange\",\"type\":\"string\",\"nullable\":true,\"metadata\":{}}]},\"containsNull\":true},\"nullable\":true,\"metadata\":{}},{\"name\":\"controlComponent\",\"type\":\"string\",\"nullable\":true,\"metadata\":{}},{\"name\":\"crossingComponent\",\"type\":\"string\",\"nullable\":true,\"metadata\":{}},{\"name\":\"dmuComponent\",\"type\":\"string\",\"nullable\":true,\"metadata\":{}},{\"name\":\"evidenceComponent\",\"type\":\"string\",\"nullable\":true,\"metadata\":{}},{\"name\":\"externalSourceComponent\",\"type\":\"string\",\"nullable\":true,\"metadata\":{}},{\"name\":\"featureGroup\",\"type\":\"string\",\"nullable\":true,\"metadata\":{}},{\"name\":\"featureId\",\"type\":\"string\",\"nullable\":true,\"metadata\":{}},{\"name\":\"geometricZoneComponent\",\"type\":\"string\",\"nullable\":true,\"metadata\":{}},{\"name\":\"gradeSeparationComponent\",\"type\":{\"type\":\"struct\",\"fields\":[{\"name\":\"applicableContracts\",\"type\":{\"type\":\"array\",\"elementType\":\"string\",\"containsNull\":true},\"nullable\":true,\"metadata\":{}},{\"name\":\"componentId\",\"type\":\"string\",\"nullable\":true,\"metadata\":{}},{\"name\":\"gradeAtEnd\",\"type\":\"long\",\"nullable\":true,\"metadata\":{}},{\"name\":\"gradeAtStart\",\"type\":\"long\",\"nullable\":true,\"metadata\":{}},{\"name\":\"source\",\"type\":\"string\",\"nullable\":true,\"metadata\":{}},{\"name\":\"versionCreationMetadata\",\"type\":{\"type\":\"struct\",\"fields\":[{\"name\":\"captureMethod\",\"type\":\"string\",\"nullable\":true,\"metadata\":{}},{\"name\":\"confidenceLevel\",\"type\":\"string\",\"nullable\":true,\"metadata\":{}},{\"name\":\"editDate\",\"type\":\"string\",\"nullable\":true,\"metadata\":{}},{\"name\":\"evidenceDate\",\"type\":\"string\",\"nullable\":true,\"metadata\":{}},{\"name\":\"jobReference\",\"type\":\"long\",\"nullable\":true,\"metadata\":{}},{\"name\":\"reasonForChange\",\"type\":\"string\",\"nullable\":true,\"metadata\":{}}]},\"nullable\":true,\"metadata\":{}},{\"name\":\"versionNumber\",\"type\":\"long\",\"nullable\":true,\"metadata\":{}}]},\"nullable\":true,\"metadata\":{}},{\"name\":\"hasContentDefinedByComponent\",\"type\":\"string\",\"nullable\":true,\"metadata\":{}},{\"name\":\"hasDetailDefinedByComponent\",\"type\":{\"type\":\"struct\",\"fields\":[{\"name\":\"applicableContracts\",\"type\":{\"type\":\"array\",\"elementType\":\"string\",\"containsNull\":true},\"nullable\":true,\"metadata\":{}},{\"name\":\"componentId\",\"type\":\"string\",\"nullable\":true,\"metadata\":{}},{\"name\":\"networkLinkReferences\",\"type\":{\"type\":\"array\",\"elementType\":\"string\",\"containsNull\":true},\"nullable\":true,\"metadata\":{}},{\"name\":\"networkNodeReferences\",\"type\":{\"type\":\"array\",\"elementType\":\"string\",\"containsNull\":true},\"nullable\":true,\"metadata\":{}},{\"name\":\"source\",\"type\":\"string\",\"nullable\":true,\"metadata\":{}},{\"name\":\"versionCreationMetadata\",\"type\":{\"type\":\"struct\",\"fields\":[{\"name\":\"captureMethod\",\"type\":\"string\",\"nullable\":true,\"metadata\":{}},{\"name\":\"confidenceLevel\",\"type\":\"string\",\"nullable\":true,\"metadata\":{}},{\"name\":\"editDate\",\"type\":\"string\",\"nullable\":true,\"metadata\":{}},{\"name\":\"evidenceDate\",\"type\":\"string\",\"nullable\":true,\"metadata\":{}},{\"name\":\"jobReference\",\"type\":\"long\",\"nullable\":true,\"metadata\":{}},{\"name\":\"reasonForChange\",\"type\":\"string\",\"nullable\":true,\"metadata\":{}}]},\"nullable\":true,\"metadata\":{}},{\"name\":\"versionNumber\",\"type\":\"long\",\"nullable\":true,\"metadata\":{}},{\"name\":\"waterLinkReferences\",\"type\":{\"type\":\"array\",\"elementType\":\"string\",\"containsNull\":true},\"nullable\":true,\"metadata\":{}}]},\"nullable\":true,\"metadata\":{}},{\"name\":\"hasParentComponent\",\"type\":\"string\",\"nullable\":true,\"metadata\":{}},{\"name\":\"heightDatumComponent\",\"type\":\"string\",\"nullable\":true,\"metadata\":{}},{\"name\":\"indicatesBeginningOfComponent\",\"type\":\"string\",\"nullable\":true,\"metadata\":{}},{\"name\":\"interactsComponent\",\"type\":\"string\",\"nullable\":true,\"metadata\":{}},{\"name\":\"jobReference\",\"type\":\"long\",\"nullable\":true,\"metadata\":{}},{\"name\":\"legalDocumentAttribution\",\"type\":\"string\",\"nullable\":true,\"metadata\":{}},{\"name\":\"lifecycleStatusComponent\",\"type\":{\"type\":\"struct\",\"fields\":[{\"name\":\"applicableContracts\",\"type\":{\"type\":\"array\",\"elementType\":\"string\",\"containsNull\":true},\"nullable\":true,\"metadata\":{}},{\"name\":\"componentId\",\"type\":\"string\",\"nullable\":true,\"metadata\":{}},{\"name\":\"lifecycleStatus\",\"type\":\"string\",\"nullable\":true,\"metadata\":{}},{\"name\":\"source\",\"type\":\"string\",\"nullable\":true,\"metadata\":{}},{\"name\":\"versionCreationMetadata\",\"type\":{\"type\":\"struct\",\"fields\":[{\"name\":\"captureMethod\",\"type\":\"string\",\"nullable\":true,\"metadata\":{}},{\"name\":\"confidenceLevel\",\"type\":\"string\",\"nullable\":true,\"metadata\":{}},{\"name\":\"editDate\",\"type\":\"string\",\"nullable\":true,\"metadata\":{}},{\"name\":\"evidenceDate\",\"type\":\"string\",\"nullable\":true,\"metadata\":{}},{\"name\":\"jobReference\",\"type\":\"long\",\"nullable\":true,\"metadata\":{}},{\"name\":\"reasonForChange\",\"type\":\"string\",\"nullable\":true,\"metadata\":{}}]},\"nullable\":true,\"metadata\":{}},{\"name\":\"versionNumber\",\"type\":\"long\",\"nullable\":true,\"metadata\":{}}]},\"nullable\":true,\"metadata\":{}},{\"name\":\"linearHeightComponent\",\"type\":{\"type\":\"struct\",\"fields\":[{\"name\":\"applicableContracts\",\"type\":{\"type\":\"array\",\"elementType\":\"string\",\"containsNull\":true},\"nullable\":true,\"metadata\":{}},{\"name\":\"componentId\",\"type\":\"string\",\"nullable\":true,\"metadata\":{}},{\"name\":\"heightLocationType\",\"type\":\"string\",\"nullable\":true,\"metadata\":{}},{\"name\":\"lastInterpolationDate\",\"type\":\"string\",\"nullable\":true,\"metadata\":{}},{\"name\":\"source\",\"type\":\"string\",\"nullable\":true,\"metadata\":{}},{\"name\":\"versionCreationMetadata\",\"type\":{\"type\":\"struct\",\"fields\":[{\"name\":\"captureMethod\",\"type\":\"string\",\"nullable\":true,\"metadata\":{}},{\"name\":\"confidenceLevel\",\"type\":\"string\",\"nullable\":true,\"metadata\":{}},{\"name\":\"editDate\",\"type\":\"string\",\"nullable\":true,\"metadata\":{}},{\"name\":\"evidenceDate\",\"type\":\"string\",\"nullable\":true,\"metadata\":{}},{\"name\":\"jobReference\",\"type\":\"long\",\"nullable\":true,\"metadata\":{}},{\"name\":\"reasonForChange\",\"type\":\"string\",\"nullable\":true,\"metadata\":{}}]},\"nullable\":true,\"metadata\":{}},{\"name\":\"versionNumber\",\"type\":\"long\",\"nullable\":true,\"metadata\":{}}]},\"nullable\":true,\"metadata\":{}},{\"name\":\"linkTopologyComponent\",\"type\":{\"type\":\"struct\",\"fields\":[{\"name\":\"applicableContracts\",\"type\":{\"type\":\"array\",\"elementType\":\"string\",\"containsNull\":true},\"nullable\":true,\"metadata\":{}},{\"name\":\"componentId\",\"type\":\"string\",\"nullable\":true,\"metadata\":{}},{\"name\":\"endNetworkNodeReference\",\"type\":\"string\",\"nullable\":true,\"metadata\":{}},{\"name\":\"endOverheadSupportAreaReference\",\"type\":\"string\",\"nullable\":true,\"metadata\":{}},{\"name\":\"endOverheadSupportPointReference\",\"type\":\"string\",\"nullable\":true,\"metadata\":{}},{\"name\":\"endWaterNodeReference\",\"type\":\"string\",\"nullable\":true,\"metadata\":{}},{\"name\":\"source\",\"type\":\"string\",\"nullable\":true,\"metadata\":{}},{\"name\":\"startNetworkNodeReference\",\"type\":\"string\",\"nullable\":true,\"metadata\":{}},{\"name\":\"startOverheadSupportAreaReference\",\"type\":\"string\",\"nullable\":true,\"metadata\":{}},{\"name\":\"startOverheadSupportPointReference\",\"type\":\"string\",\"nullable\":true,\"metadata\":{}},{\"name\":\"startWaterNodeReference\",\"type\":\"string\",\"nullable\":true,\"metadata\":{}},{\"name\":\"versionCreationMetadata\",\"type\":{\"type\":\"struct\",\"fields\":[{\"name\":\"captureMethod\",\"type\":\"string\",\"nullable\":true,\"metadata\":{}},{\"name\":\"confidenceLevel\",\"type\":\"string\",\"nullable\":true,\"metadata\":{}},{\"name\":\"editDate\",\"type\":\"string\",\"nullable\":true,\"metadata\":{}},{\"name\":\"evidenceDate\",\"type\":\"string\",\"nullable\":true,\"metadata\":{}},{\"name\":\"jobReference\",\"type\":\"long\",\"nullable\":true,\"metadata\":{}},{\"name\":\"reasonForChange\",\"type\":\"string\",\"nullable\":true,\"metadata\":{}}]},\"nullable\":true,\"metadata\":{}},{\"name\":\"versionNumber\",\"type\":\"long\",\"nullable\":true,\"metadata\":{}}]},\"nullable\":true,\"metadata\":{}},{\"name\":\"maintainersNoteComponent\",\"type\":\"string\",\"nullable\":true,\"metadata\":{}},{\"name\":\"nameComponents\",\"type\":{\"type\":\"array\",\"elementType\":{\"type\":\"struct\",\"fields\":[{\"name\":\"applicableContracts\",\"type\":{\"type\":\"array\",\"elementType\":\"string\",\"containsNull\":true},\"nullable\":true,\"metadata\":{}},{\"name\":\"authorities\",\"type\":{\"type\":\"array\",\"elementType\":{\"type\":\"struct\",\"fields\":[{\"name\":\"authorisingRole\",\"type\":\"string\",\"nullable\":true,\"metadata\":{}},{\"name\":\"authorityType\",\"type\":\"string\",\"nullable\":true,\"metadata\":{}},{\"name\":\"confirmationDate\",\"type\":\"string\",\"nullable\":true,\"metadata\":{}},{\"name\":\"confirmationType\",\"type\":\"string\",\"nullable\":true,\"metadata\":{}},{\"name\":\"note\",\"type\":\"string\",\"nullable\":true,\"metadata\":{}}]},\"containsNull\":true},\"nullable\":true,\"metadata\":{}},{\"name\":\"componentId\",\"type\":\"string\",\"nullable\":true,\"metadata\":{}},{\"name\":\"distinctiveNameOrNumber\",\"type\":\"string\",\"nullable\":true,\"metadata\":{}},{\"name\":\"language\",\"type\":\"string\",\"nullable\":true,\"metadata\":{}},{\"name\":\"source\",\"type\":\"string\",\"nullable\":true,\"metadata\":{}},{\"name\":\"versionCreationMetadata\",\"type\":{\"type\":\"struct\",\"fields\":[{\"name\":\"captureMethod\",\"type\":\"string\",\"nullable\":true,\"metadata\":{}},{\"name\":\"confidenceLevel\",\"type\":\"string\",\"nullable\":true,\"metadata\":{}},{\"name\":\"editDate\",\"type\":\"string\",\"nullable\":true,\"metadata\":{}},{\"name\":\"evidenceDate\",\"type\":\"string\",\"nullable\":true,\"metadata\":{}},{\"name\":\"jobReference\",\"type\":\"long\",\"nullable\":true,\"metadata\":{}},{\"name\":\"reasonForChange\",\"type\":\"string\",\"nullable\":true,\"metadata\":{}}]},\"nullable\":true,\"metadata\":{}},{\"name\":\"versionNumber\",\"type\":\"long\",\"nullable\":true,\"metadata\":{}}]},\"containsNull\":true},\"nullable\":true,\"metadata\":{}},{\"name\":\"networkReferenceComponent\",\"type\":\"string\",\"nullable\":true,\"metadata\":{}},{\"name\":\"oneWayRouteInformationComponent\",\"type\":\"string\",\"nullable\":true,\"metadata\":{}},{\"name\":\"overheadNodeComponent\",\"type\":\"string\",\"nullable\":true,\"metadata\":{}},{\"name\":\"overheadPointsComponent\",\"type\":\"string\",\"nullable\":true,\"metadata\":{}},{\"name\":\"physicalRestrictionComponent\",\"type\":\"string\",\"nullable\":true,\"metadata\":{}},{\"name\":\"planarAreaLocationComponent\",\"type\":{\"type\":\"struct\",\"fields\":[{\"name\":\"applicableContracts\",\"type\":{\"type\":\"array\",\"elementType\":\"string\",\"containsNull\":true},\"nullable\":true,\"metadata\":{}},{\"name\":\"authorities\",\"type\":{\"type\":\"array\",\"elementType\":\"string\",\"containsNull\":true},\"nullable\":true,\"metadata\":{}},{\"name\":\"componentId\",\"type\":\"string\",\"nullable\":true,\"metadata\":{}},{\"name\":\"locationType\",\"type\":\"string\",\"nullable\":true,\"metadata\":{}},{\"name\":\"source\",\"type\":\"string\",\"nullable\":true,\"metadata\":{}},{\"name\":\"vagueness\",\"type\":\"string\",\"nullable\":true,\"metadata\":{}},{\"name\":\"versionCreationMetadata\",\"type\":{\"type\":\"struct\",\"fields\":[{\"name\":\"captureMethod\",\"type\":\"string\",\"nullable\":true,\"metadata\":{}},{\"name\":\"confidenceLevel\",\"type\":\"string\",\"nullable\":true,\"metadata\":{}},{\"name\":\"editDate\",\"type\":\"string\",\"nullable\":true,\"metadata\":{}},{\"name\":\"evidenceDate\",\"type\":\"string\",\"nullable\":true,\"metadata\":{}},{\"name\":\"jobReference\",\"type\":\"long\",\"nullable\":true,\"metadata\":{}},{\"name\":\"reasonForChange\",\"type\":\"string\",\"nullable\":true,\"metadata\":{}}]},\"nullable\":true,\"metadata\":{}},{\"name\":\"versionNumber\",\"type\":\"long\",\"nullable\":true,\"metadata\":{}}]},\"nullable\":true,\"metadata\":{}},{\"name\":\"planarLinearLocationComponent\",\"type\":{\"type\":\"struct\",\"fields\":[{\"name\":\"applicableContracts\",\"type\":{\"type\":\"array\",\"elementType\":\"string\",\"containsNull\":true},\"nullable\":true,\"metadata\":{}},{\"name\":\"authorities\",\"type\":{\"type\":\"array\",\"elementType\":\"string\",\"containsNull\":true},\"nullable\":true,\"metadata\":{}},{\"name\":\"componentId\",\"type\":\"string\",\"nullable\":true,\"metadata\":{}},{\"name\":\"locationType\",\"type\":\"string\",\"nullable\":true,\"metadata\":{}},{\"name\":\"source\",\"type\":\"string\",\"nullable\":true,\"metadata\":{}},{\"name\":\"vagueness\",\"type\":\"string\",\"nullable\":true,\"metadata\":{}},{\"name\":\"versionCreationMetadata\",\"type\":{\"type\":\"struct\",\"fields\":[{\"name\":\"captureMethod\",\"type\":\"string\",\"nullable\":true,\"metadata\":{}},{\"name\":\"confidenceLevel\",\"type\":\"string\",\"nullable\":true,\"metadata\":{}},{\"name\":\"editDate\",\"type\":\"string\",\"nullable\":true,\"metadata\":{}},{\"name\":\"evidenceDate\",\"type\":\"string\",\"nullable\":true,\"metadata\":{}},{\"name\":\"jobReference\",\"type\":\"long\",\"nullable\":true,\"metadata\":{}},{\"name\":\"reasonForChange\",\"type\":\"string\",\"nullable\":true,\"metadata\":{}}]},\"nullable\":true,\"metadata\":{}},{\"name\":\"versionNumber\",\"type\":\"long\",\"nullable\":true,\"metadata\":{}}]},\"nullable\":true,\"metadata\":{}},{\"name\":\"planarPointLocationComponent\",\"type\":\"string\",\"nullable\":true,\"metadata\":{}},{\"name\":\"pointHeightComponent\",\"type\":\"string\",\"nullable\":true,\"metadata\":{}},{\"name\":\"primaryStructureComponent\",\"type\":\"string\",\"nullable\":true,\"metadata\":{}},{\"name\":\"roadLinkComponent\",\"type\":{\"type\":\"struct\",\"fields\":[{\"name\":\"applicableContracts\",\"type\":{\"type\":\"array\",\"elementType\":\"string\",\"containsNull\":true},\"nullable\":true,\"metadata\":{}},{\"name\":\"componentId\",\"type\":\"string\",\"nullable\":true,\"metadata\":{}},{\"name\":\"isPrimary\",\"type\":\"boolean\",\"nullable\":true,\"metadata\":{}},{\"name\":\"isTrunk\",\"type\":\"boolean\",\"nullable\":true,\"metadata\":{}},{\"name\":\"source\",\"type\":\"string\",\"nullable\":true,\"metadata\":{}},{\"name\":\"versionCreationMetadata\",\"type\":{\"type\":\"struct\",\"fields\":[{\"name\":\"captureMethod\",\"type\":\"string\",\"nullable\":true,\"metadata\":{}},{\"name\":\"confidenceLevel\",\"type\":\"string\",\"nullable\":true,\"metadata\":{}},{\"name\":\"editDate\",\"type\":\"string\",\"nullable\":true,\"metadata\":{}},{\"name\":\"evidenceDate\",\"type\":\"string\",\"nullable\":true,\"metadata\":{}},{\"name\":\"jobReference\",\"type\":\"long\",\"nullable\":true,\"metadata\":{}},{\"name\":\"reasonForChange\",\"type\":\"string\",\"nullable\":true,\"metadata\":{}}]},\"nullable\":true,\"metadata\":{}},{\"name\":\"versionNumber\",\"type\":\"long\",\"nullable\":true,\"metadata\":{}}]},\"nullable\":true,\"metadata\":{}},{\"name\":\"routeLocationComponent\",\"type\":\"string\",\"nullable\":true,\"metadata\":{}},{\"name\":\"siteNodeComponent\",\"type\":\"string\",\"nullable\":true,\"metadata\":{}},{\"name\":\"stakeholderComponents\",\"type\":{\"type\":\"array\",\"elementType\":\"string\",\"containsNull\":true},\"nullable\":true,\"metadata\":{}},{\"name\":\"symbolCartographyComponents\",\"type\":{\"type\":\"array\",\"elementType\":\"string\",\"containsNull\":true},\"nullable\":true,\"metadata\":{}},{\"name\":\"textCartographyComponents\",\"type\":{\"type\":\"array\",\"elementType\":{\"type\":\"struct\",\"fields\":[{\"name\":\"applicableContracts\",\"type\":{\"type\":\"array\",\"elementType\":\"string\",\"containsNull\":true},\"nullable\":true,\"metadata\":{}},{\"name\":\"componentId\",\"type\":\"string\",\"nullable\":true,\"metadata\":{}},{\"name\":\"source\",\"type\":\"string\",\"nullable\":true,\"metadata\":{}},{\"name\":\"textElements\",\"type\":{\"type\":\"array\",\"elementType\":{\"type\":\"struct\",\"fields\":[{\"name\":\"anchorPoint\",\"type\":\"string\",\"nullable\":true,\"metadata\":{}},{\"name\":\"font\",\"type\":\"string\",\"nullable\":true,\"metadata\":{}},{\"name\":\"fontHeight\",\"type\":\"string\",\"nullable\":true,\"metadata\":{}},{\"name\":\"groupOrder\",\"type\":\"long\",\"nullable\":true,\"metadata\":{}},{\"name\":\"orientation\",\"type\":\"double\",\"nullable\":true,\"metadata\":{}},{\"name\":\"position\",\"type\":{\"type\":\"struct\",\"fields\":[{\"name\":\"coordinates\",\"type\":{\"type\":\"array\",\"elementType\":\"double\",\"containsNull\":true},\"nullable\":true,\"metadata\":{}},{\"name\":\"type\",\"type\":\"string\",\"nullable\":true,\"metadata\":{}}]},\"nullable\":true,\"metadata\":{}},{\"name\":\"textString\",\"type\":\"string\",\"nullable\":true,\"metadata\":{}}]},\"containsNull\":true},\"nullable\":true,\"metadata\":{}},{\"name\":\"versionCreationMetadata\",\"type\":{\"type\":\"struct\",\"fields\":[{\"name\":\"captureMethod\",\"type\":\"string\",\"nullable\":true,\"metadata\":{}},{\"name\":\"confidenceLevel\",\"type\":\"string\",\"nullable\":true,\"metadata\":{}},{\"name\":\"editDate\",\"type\":\"string\",\"nullable\":true,\"metadata\":{}},{\"name\":\"evidenceDate\",\"type\":\"string\",\"nullable\":true,\"metadata\":{}},{\"name\":\"jobReference\",\"type\":\"long\",\"nullable\":true,\"metadata\":{}},{\"name\":\"reasonForChange\",\"type\":\"string\",\"nullable\":true,\"metadata\":{}}]},\"nullable\":true,\"metadata\":{}},{\"name\":\"versionNumber\",\"type\":\"long\",\"nullable\":true,\"metadata\":{}}]},\"containsNull\":true},\"nullable\":true,\"metadata\":{}},{\"name\":\"thirdPartyInformationComponent\",\"type\":\"string\",\"nullable\":true,\"metadata\":{}},{\"name\":\"tideInformationComponent\",\"type\":\"string\",\"nullable\":true,\"metadata\":{}},{\"name\":\"toid\",\"type\":\"string\",\"nullable\":true,\"metadata\":{}},{\"name\":\"topo93SeedGeometryComponent\",\"type\":\"string\",\"nullable\":true,\"metadata\":{}},{\"name\":\"validFromTimestamp\",\"type\":\"string\",\"nullable\":true,\"metadata\":{}},{\"name\":\"waterFlowComponent\",\"type\":\"string\",\"nullable\":true,\"metadata\":{}},{\"name\":\"waterNavigabilityComponent\",\"type\":\"string\",\"nullable\":true,\"metadata\":{}},{\"name\":\"waterPermanenceComponent\",\"type\":\"string\",\"nullable\":true,\"metadata\":{}},{\"name\":\"waterProvenanceComponent\",\"type\":\"string\",\"nullable\":true,\"metadata\":{}},{\"name\":\"zoneLocationComponent\",\"type\":\"string\",\"nullable\":true,\"metadata\":{}}]},\"nullable\":true,\"metadata\":{}},{\"name\":\"type\",\"type\":\"string\",\"nullable\":true,\"metadata\":{}}]},\"containsNull\":true}"
        },
        {
         "metadata": "{}",
         "name": "jobDetails",
         "type": "{\"type\":\"struct\",\"fields\":[{\"name\":\"changesTimestamp\",\"type\":\"string\",\"nullable\":true,\"metadata\":{}},{\"name\":\"jobId\",\"type\":\"long\",\"nullable\":true,\"metadata\":{}},{\"name\":\"jobName\",\"type\":\"string\",\"nullable\":true,\"metadata\":{}},{\"name\":\"jobType\",\"type\":\"string\",\"nullable\":true,\"metadata\":{}},{\"name\":\"workspaceId\",\"type\":\"long\",\"nullable\":true,\"metadata\":{}}]}"
        },
        {
         "metadata": "{}",
         "name": "maiaExtractProcessDetails",
         "type": "{\"type\":\"struct\",\"fields\":[{\"name\":\"extractMode\",\"type\":\"string\",\"nullable\":true,\"metadata\":{}},{\"name\":\"extractionTimestamp\",\"type\":\"string\",\"nullable\":true,\"metadata\":{}},{\"name\":\"extractorVersion\",\"type\":\"string\",\"nullable\":true,\"metadata\":{}},{\"name\":\"fileSequenceNumber\",\"type\":\"long\",\"nullable\":true,\"metadata\":{}},{\"name\":\"maiaSavepoint\",\"type\":\"string\",\"nullable\":true,\"metadata\":{}},{\"name\":\"queryBox\",\"type\":\"string\",\"nullable\":true,\"metadata\":{}}]}"
        },
        {
         "metadata": "{}",
         "name": "numberOfFeatures",
         "type": "\"long\""
        },
        {
         "metadata": "{}",
         "name": "type",
         "type": "\"string\""
        }
       ],
       "type": "table"
      }
     },
     "output_type": "display_data"
    }
   ],
   "source": [
    "df = spark.read.option(\"multiline\", \"true\").json(file)\n",
    "display(df)"
   ]
  },
  {
   "cell_type": "code",
   "execution_count": 0,
   "metadata": {
    "application/vnd.databricks.v1+cell": {
     "cellMetadata": {
      "byteLimit": 2048000,
      "rowLimit": 10000
     },
     "inputWidgets": {},
     "nuid": "1ea563ca-0f84-4474-8562-bae42af75ed0",
     "showTitle": false,
     "tableResultSettingsMap": {},
     "title": ""
    }
   },
   "outputs": [
    {
     "output_type": "display_data",
     "data": {
      "text/html": [
       "<style scoped>\n",
       "  .table-result-container {\n",
       "    max-height: 300px;\n",
       "    overflow: auto;\n",
       "  }\n",
       "  table, th, td {\n",
       "    border: 1px solid black;\n",
       "    border-collapse: collapse;\n",
       "  }\n",
       "  th, td {\n",
       "    padding: 5px;\n",
       "  }\n",
       "  th {\n",
       "    text-align: left;\n",
       "  }\n",
       "</style><div class='table-result-container'><table class='table-result'><thead style='background-color: white'><tr><th>feature</th></tr></thead><tbody><tr><td>List(List(List(List([445751.0,244970.0,138.984], [446492.041,244970.0,101.861], [446492.041,245088.372,102.604], [445751.0,245088.372,140.312], [445751.0,244970.0,138.984])), Polygon), List(null, null, null, List(), null, null, List(List(), a6a7e7ff-232fg-e222-e040-adg354fg345, Named Thoroughfare, null, List(Unknown, Confident, 2005-09-20, 2005-09-20, 0, Refinement), 1), List(), null, update, List(List(2003-03-13, New), List(2005-09-20, Modified), List(2018-07-27, Modified), List(2022-08-03, Attributes)), null, null, null, null, null, Named Extent+Group+None, a6a7e7ff-71d3-e455-0a2c5c6a, null, null, null, List(List(), 2342432jj-71dc-e222-e040-a234j324k5c6a, List(as344fr-8385-bbae-e040-a40a262c31b2, 9eeb7c1a-d123-41ca-b531-ssdf44556), List(), null, List(Collection, Confident, 2022-08-03, 2019-07-05, 34567535, Real), 3, List()), null, null, null, null, 3453654, null, List(List(), a6a7e7ff-71d7-e222-e040-a40a262c5c6a, Defined, null, List(Unknown, Confident, 2005-09-20, 2005-09-20, 0, Refinement), 1), null, null, null, List(List(List(), List(List(Initial Load, Product History, 2005-09-20, Name, null)), a6a7e7ff-71d8-e222-e040-bsfds3243, Lane, English, null, List(Unknown, Confident, 2005-09-20, 2005-09-20, 0, Refinement), 1)), null, null, null, null, null, List(List(), List(), a6a7e7ff-71d5-e222-e040-qwe234234rw, Not Applicable, null, Stylised, List(Photogrammetry, Confident, 2022-08-03, 2019-07-05, 34567535, Real), 3), null, null, null, null, null, null, null, List(), List(), List(List(List(), 689a801f-9b91-4d72-b19b-851b6c88144f, null, List(List(Lower Left, Normal Text, 2.75 m, 1, 357.3, List(List(446819.26, 245084.52), Point), MILL LANE (TRACK))), List(Collection, Confident, 2018-07-26, 2018-07-26, 42334591, Real), 1), List(List(), a6ae45e5-3439-f291-e040-a40a262c1e53, null, List(List(Centre, Normal Text, 2.75 m, 1, 10.2, List(List(445975.95, 245013.95), Point), MILL LANE)), List(Unknown, Confident, 2005-03-07, 2005-03-07, 0, Refinement), 1)), null, null, 3544354345349395541, null, 2022-08-06T03:29:46Z, null, null, null, null, null), Feature)</td></tr><tr><td>List(List(List(List(446492.041, 245087.712, 102.616), List(446498.463, 245087.71, 103.178), List(446503.199, 245088.442, 103.205), List(446510.93, 245089.636, 102.862)), LineString), List(null, null, null, List(), null, null, List(List(), 3cf5b258-fe22-4ebc-a779-75932395e98e, Single Carriageway, null, List(Collection, Confident, 2018-07-26, 2018-07-26, 42334591, Real), 1), List(List(List(), ad7234f3fa-1fbc-4880-b55f-b0e04ab14430, Restricted Access, Active, List(), null, List(Collection, Confident, 2018-07-26, 2018-07-26, 42334591, Real), 1)), null, delete, List(List(2018-07-28, New)), null, null, null, null, null, Network+Line+None, 17e3f1c4-1802-4952-a826-ba148d063716, null, List(List(), ae22d84d-dab4-409d-9637-sdfs34234, 0, 0, null, List(Collection, Confident, 2018-07-26, 2018-07-26, 42334591, Real), 1), null, null, null, null, null, null, 34567535, null, List(List(), 709b0382-2b30-4ad3-9f6f-ere334te332ret, Defined, null, List(Collection, Confident, 2018-07-26, 2018-07-26, 42334591, Real), 1), List(List(), cd23423-ffea-4217-89b4-344frfre334, Level, 2018-07-28, null, List(Interpolation, Confident, 2018-07-28, 2018-07-28, 423424391, Real), 1), List(List(), 2342342-342435-45dc-83d3-34612b1d74a8, 3973b6cf-a2e4-432c-8f61-13e2da62bcd1, null, null, null, null, a6a39ce2-2abd-7486-e040-de3452c6e95, null, null, null, List(Collection, Confident, 2018-07-26, 2018-07-26, 42334591, Real), 1), null, List(), null, null, null, null, null, null, List(List(), List(), 0021b346-8a3c-46ca-9d2e-75e0c96a46c9, Unknown, null, Exact, List(Photogrammetry, Confident, 2018-07-26, 2018-07-26, 42334591, Real), 1), null, null, null, List(List(), 3f009479-0b1d-4c95-98dc-61064233d85b, false, false, null, List(Collection, Confident, 2018-07-26, 2018-07-26, 42334591, Real), 1), null, null, List(), List(), List(), null, null, osgb5000005233652043, null, 2022-08-06T03:29:46Z, null, null, null, null, null), Feature)</td></tr></tbody></table></div>"
      ]
     },
     "metadata": {
      "application/vnd.databricks.v1+output": {
       "addedWidgets": {},
       "aggData": [],
       "aggError": "",
       "aggOverflow": false,
       "aggSchema": [],
       "aggSeriesLimitReached": false,
       "aggType": "",
       "arguments": {},
       "columnCustomDisplayInfos": {},
       "data": [
        [
         [
          [
           [
            [
             "[445751.0,244970.0,138.984]",
             "[446492.041,244970.0,101.861]",
             "[446492.041,245088.372,102.604]",
             "[445751.0,245088.372,140.312]",
             "[445751.0,244970.0,138.984]"
            ]
           ],
           "Polygon"
          ],
          [
           null,
           null,
           null,
           [],
           null,
           null,
           [
            [],
            "a6a7e7ff-232fg-e222-e040-adg354fg345",
            "Named Thoroughfare",
            null,
            [
             "Unknown",
             "Confident",
             "2005-09-20",
             "2005-09-20",
             0,
             "Refinement"
            ],
            1
           ],
           [],
           null,
           "update",
           [
            [
             "2003-03-13",
             "New"
            ],
            [
             "2005-09-20",
             "Modified"
            ],
            [
             "2018-07-27",
             "Modified"
            ],
            [
             "2022-08-03",
             "Attributes"
            ]
           ],
           null,
           null,
           null,
           null,
           null,
           "Named Extent+Group+None",
           "a6a7e7ff-71d3-e455-0a2c5c6a",
           null,
           null,
           null,
           [
            [],
            "2342432jj-71dc-e222-e040-a234j324k5c6a",
            [
             "as344fr-8385-bbae-e040-a40a262c31b2",
             "9eeb7c1a-d123-41ca-b531-ssdf44556"
            ],
            [],
            null,
            [
             "Collection",
             "Confident",
             "2022-08-03",
             "2019-07-05",
             34567535,
             "Real"
            ],
            3,
            []
           ],
           null,
           null,
           null,
           null,
           3453654,
           null,
           [
            [],
            "a6a7e7ff-71d7-e222-e040-a40a262c5c6a",
            "Defined",
            null,
            [
             "Unknown",
             "Confident",
             "2005-09-20",
             "2005-09-20",
             0,
             "Refinement"
            ],
            1
           ],
           null,
           null,
           null,
           [
            [
             [],
             [
              [
               "Initial Load",
               "Product History",
               "2005-09-20",
               "Name",
               null
              ]
             ],
             "a6a7e7ff-71d8-e222-e040-bsfds3243",
             "Lane",
             "English",
             null,
             [
              "Unknown",
              "Confident",
              "2005-09-20",
              "2005-09-20",
              0,
              "Refinement"
             ],
             1
            ]
           ],
           null,
           null,
           null,
           null,
           null,
           [
            [],
            [],
            "a6a7e7ff-71d5-e222-e040-qwe234234rw",
            "Not Applicable",
            null,
            "Stylised",
            [
             "Photogrammetry",
             "Confident",
             "2022-08-03",
             "2019-07-05",
             34567535,
             "Real"
            ],
            3
           ],
           null,
           null,
           null,
           null,
           null,
           null,
           null,
           [],
           [],
           [
            [
             [],
             "689a801f-9b91-4d72-b19b-851b6c88144f",
             null,
             [
              [
               "Lower Left",
               "Normal Text",
               "2.75 m",
               1,
               357.3,
               [
                [
                 446819.26,
                 245084.52
                ],
                "Point"
               ],
               "MILL LANE (TRACK)"
              ]
             ],
             [
              "Collection",
              "Confident",
              "2018-07-26",
              "2018-07-26",
              42334591,
              "Real"
             ],
             1
            ],
            [
             [],
             "a6ae45e5-3439-f291-e040-a40a262c1e53",
             null,
             [
              [
               "Centre",
               "Normal Text",
               "2.75 m",
               1,
               10.2,
               [
                [
                 445975.95,
                 245013.95
                ],
                "Point"
               ],
               "MILL LANE"
              ]
             ],
             [
              "Unknown",
              "Confident",
              "2005-03-07",
              "2005-03-07",
              0,
              "Refinement"
             ],
             1
            ]
           ],
           null,
           null,
           "3544354345349395541",
           null,
           "2022-08-06T03:29:46Z",
           null,
           null,
           null,
           null,
           null
          ],
          "Feature"
         ]
        ],
        [
         [
          [
           [
            [
             "446492.041",
             "245087.712",
             "102.616"
            ],
            [
             "446498.463",
             "245087.71",
             "103.178"
            ],
            [
             "446503.199",
             "245088.442",
             "103.205"
            ],
            [
             "446510.93",
             "245089.636",
             "102.862"
            ]
           ],
           "LineString"
          ],
          [
           null,
           null,
           null,
           [],
           null,
           null,
           [
            [],
            "3cf5b258-fe22-4ebc-a779-75932395e98e",
            "Single Carriageway",
            null,
            [
             "Collection",
             "Confident",
             "2018-07-26",
             "2018-07-26",
             42334591,
             "Real"
            ],
            1
           ],
           [
            [
             [],
             "ad7234f3fa-1fbc-4880-b55f-b0e04ab14430",
             "Restricted Access",
             "Active",
             [],
             null,
             [
              "Collection",
              "Confident",
              "2018-07-26",
              "2018-07-26",
              42334591,
              "Real"
             ],
             1
            ]
           ],
           null,
           "delete",
           [
            [
             "2018-07-28",
             "New"
            ]
           ],
           null,
           null,
           null,
           null,
           null,
           "Network+Line+None",
           "17e3f1c4-1802-4952-a826-ba148d063716",
           null,
           [
            [],
            "ae22d84d-dab4-409d-9637-sdfs34234",
            0,
            0,
            null,
            [
             "Collection",
             "Confident",
             "2018-07-26",
             "2018-07-26",
             42334591,
             "Real"
            ],
            1
           ],
           null,
           null,
           null,
           null,
           null,
           null,
           34567535,
           null,
           [
            [],
            "709b0382-2b30-4ad3-9f6f-ere334te332ret",
            "Defined",
            null,
            [
             "Collection",
             "Confident",
             "2018-07-26",
             "2018-07-26",
             42334591,
             "Real"
            ],
            1
           ],
           [
            [],
            "cd23423-ffea-4217-89b4-344frfre334",
            "Level",
            "2018-07-28",
            null,
            [
             "Interpolation",
             "Confident",
             "2018-07-28",
             "2018-07-28",
             423424391,
             "Real"
            ],
            1
           ],
           [
            [],
            "2342342-342435-45dc-83d3-34612b1d74a8",
            "3973b6cf-a2e4-432c-8f61-13e2da62bcd1",
            null,
            null,
            null,
            null,
            "a6a39ce2-2abd-7486-e040-de3452c6e95",
            null,
            null,
            null,
            [
             "Collection",
             "Confident",
             "2018-07-26",
             "2018-07-26",
             42334591,
             "Real"
            ],
            1
           ],
           null,
           [],
           null,
           null,
           null,
           null,
           null,
           null,
           [
            [],
            [],
            "0021b346-8a3c-46ca-9d2e-75e0c96a46c9",
            "Unknown",
            null,
            "Exact",
            [
             "Photogrammetry",
             "Confident",
             "2018-07-26",
             "2018-07-26",
             42334591,
             "Real"
            ],
            1
           ],
           null,
           null,
           null,
           [
            [],
            "3f009479-0b1d-4c95-98dc-61064233d85b",
            false,
            false,
            null,
            [
             "Collection",
             "Confident",
             "2018-07-26",
             "2018-07-26",
             42334591,
             "Real"
            ],
            1
           ],
           null,
           null,
           [],
           [],
           [],
           null,
           null,
           "osgb5000005233652043",
           null,
           "2022-08-06T03:29:46Z",
           null,
           null,
           null,
           null,
           null
          ],
          "Feature"
         ]
        ]
       ],
       "datasetInfos": [],
       "dbfsResultPath": null,
       "isJsonSchema": true,
       "metadata": {},
       "overflow": false,
       "plotOptions": {
        "customPlotOptions": {},
        "displayType": "table",
        "pivotAggregation": null,
        "pivotColumns": null,
        "xColumns": null,
        "yColumns": null
       },
       "removedWidgets": [],
       "schema": [
        {
         "metadata": "{}",
         "name": "feature",
         "type": "{\"type\":\"struct\",\"fields\":[{\"name\":\"geometry\",\"type\":{\"type\":\"struct\",\"fields\":[{\"name\":\"coordinates\",\"type\":{\"type\":\"array\",\"elementType\":{\"type\":\"array\",\"elementType\":\"string\",\"containsNull\":true},\"containsNull\":true},\"nullable\":true,\"metadata\":{}},{\"name\":\"type\",\"type\":\"string\",\"nullable\":true,\"metadata\":{}}]},\"nullable\":true,\"metadata\":{}},{\"name\":\"properties\",\"type\":{\"type\":\"struct\",\"fields\":[{\"name\":\"accessTopologyComponent\",\"type\":\"string\",\"nullable\":true,\"metadata\":{}},{\"name\":\"administrativeExceptionComponent\",\"type\":\"string\",\"nullable\":true,\"metadata\":{}},{\"name\":\"administrativeUnitComponent\",\"type\":\"string\",\"nullable\":true,\"metadata\":{}},{\"name\":\"alternativeToids\",\"type\":{\"type\":\"array\",\"elementType\":\"string\",\"containsNull\":true},\"nullable\":true,\"metadata\":{}},{\"name\":\"anomalyComponent\",\"type\":\"string\",\"nullable\":true,\"metadata\":{}},{\"name\":\"areaHeightComponent\",\"type\":\"string\",\"nullable\":true,\"metadata\":{}},{\"name\":\"baseFormComponent\",\"type\":{\"type\":\"struct\",\"fields\":[{\"name\":\"applicableContracts\",\"type\":{\"type\":\"array\",\"elementType\":\"string\",\"containsNull\":true},\"nullable\":true,\"metadata\":{}},{\"name\":\"componentId\",\"type\":\"string\",\"nullable\":true,\"metadata\":{}},{\"name\":\"form\",\"type\":\"string\",\"nullable\":true,\"metadata\":{}},{\"name\":\"source\",\"type\":\"string\",\"nullable\":true,\"metadata\":{}},{\"name\":\"versionCreationMetadata\",\"type\":{\"type\":\"struct\",\"fields\":[{\"name\":\"captureMethod\",\"type\":\"string\",\"nullable\":true,\"metadata\":{}},{\"name\":\"confidenceLevel\",\"type\":\"string\",\"nullable\":true,\"metadata\":{}},{\"name\":\"editDate\",\"type\":\"string\",\"nullable\":true,\"metadata\":{}},{\"name\":\"evidenceDate\",\"type\":\"string\",\"nullable\":true,\"metadata\":{}},{\"name\":\"jobReference\",\"type\":\"long\",\"nullable\":true,\"metadata\":{}},{\"name\":\"reasonForChange\",\"type\":\"string\",\"nullable\":true,\"metadata\":{}}]},\"nullable\":true,\"metadata\":{}},{\"name\":\"versionNumber\",\"type\":\"long\",\"nullable\":true,\"metadata\":{}}]},\"nullable\":true,\"metadata\":{}},{\"name\":\"baseFunctionComponents\",\"type\":{\"type\":\"array\",\"elementType\":{\"type\":\"struct\",\"fields\":[{\"name\":\"applicableContracts\",\"type\":{\"type\":\"array\",\"elementType\":\"string\",\"containsNull\":true},\"nullable\":true,\"metadata\":{}},{\"name\":\"componentId\",\"type\":\"string\",\"nullable\":true,\"metadata\":{}},{\"name\":\"function\",\"type\":\"string\",\"nullable\":true,\"metadata\":{}},{\"name\":\"operationalStatus\",\"type\":\"string\",\"nullable\":true,\"metadata\":{}},{\"name\":\"qualifiers\",\"type\":{\"type\":\"array\",\"elementType\":\"string\",\"containsNull\":true},\"nullable\":true,\"metadata\":{}},{\"name\":\"source\",\"type\":\"string\",\"nullable\":true,\"metadata\":{}},{\"name\":\"versionCreationMetadata\",\"type\":{\"type\":\"struct\",\"fields\":[{\"name\":\"captureMethod\",\"type\":\"string\",\"nullable\":true,\"metadata\":{}},{\"name\":\"confidenceLevel\",\"type\":\"string\",\"nullable\":true,\"metadata\":{}},{\"name\":\"editDate\",\"type\":\"string\",\"nullable\":true,\"metadata\":{}},{\"name\":\"evidenceDate\",\"type\":\"string\",\"nullable\":true,\"metadata\":{}},{\"name\":\"jobReference\",\"type\":\"long\",\"nullable\":true,\"metadata\":{}},{\"name\":\"reasonForChange\",\"type\":\"string\",\"nullable\":true,\"metadata\":{}}]},\"nullable\":true,\"metadata\":{}},{\"name\":\"versionNumber\",\"type\":\"long\",\"nullable\":true,\"metadata\":{}}]},\"containsNull\":true},\"nullable\":true,\"metadata\":{}},{\"name\":\"boundaryLinkComponent\",\"type\":\"string\",\"nullable\":true,\"metadata\":{}},{\"name\":\"changeEventType\",\"type\":\"string\",\"nullable\":true,\"metadata\":{}},{\"name\":\"changeHistory\",\"type\":{\"type\":\"array\",\"elementType\":{\"type\":\"struct\",\"fields\":[{\"name\":\"changeDate\",\"type\":\"string\",\"nullable\":true,\"metadata\":{}},{\"name\":\"reasonForChange\",\"type\":\"string\",\"nullable\":true,\"metadata\":{}}]},\"containsNull\":true},\"nullable\":true,\"metadata\":{}},{\"name\":\"controlComponent\",\"type\":\"string\",\"nullable\":true,\"metadata\":{}},{\"name\":\"crossingComponent\",\"type\":\"string\",\"nullable\":true,\"metadata\":{}},{\"name\":\"dmuComponent\",\"type\":\"string\",\"nullable\":true,\"metadata\":{}},{\"name\":\"evidenceComponent\",\"type\":\"string\",\"nullable\":true,\"metadata\":{}},{\"name\":\"externalSourceComponent\",\"type\":\"string\",\"nullable\":true,\"metadata\":{}},{\"name\":\"featureGroup\",\"type\":\"string\",\"nullable\":true,\"metadata\":{}},{\"name\":\"featureId\",\"type\":\"string\",\"nullable\":true,\"metadata\":{}},{\"name\":\"geometricZoneComponent\",\"type\":\"string\",\"nullable\":true,\"metadata\":{}},{\"name\":\"gradeSeparationComponent\",\"type\":{\"type\":\"struct\",\"fields\":[{\"name\":\"applicableContracts\",\"type\":{\"type\":\"array\",\"elementType\":\"string\",\"containsNull\":true},\"nullable\":true,\"metadata\":{}},{\"name\":\"componentId\",\"type\":\"string\",\"nullable\":true,\"metadata\":{}},{\"name\":\"gradeAtEnd\",\"type\":\"long\",\"nullable\":true,\"metadata\":{}},{\"name\":\"gradeAtStart\",\"type\":\"long\",\"nullable\":true,\"metadata\":{}},{\"name\":\"source\",\"type\":\"string\",\"nullable\":true,\"metadata\":{}},{\"name\":\"versionCreationMetadata\",\"type\":{\"type\":\"struct\",\"fields\":[{\"name\":\"captureMethod\",\"type\":\"string\",\"nullable\":true,\"metadata\":{}},{\"name\":\"confidenceLevel\",\"type\":\"string\",\"nullable\":true,\"metadata\":{}},{\"name\":\"editDate\",\"type\":\"string\",\"nullable\":true,\"metadata\":{}},{\"name\":\"evidenceDate\",\"type\":\"string\",\"nullable\":true,\"metadata\":{}},{\"name\":\"jobReference\",\"type\":\"long\",\"nullable\":true,\"metadata\":{}},{\"name\":\"reasonForChange\",\"type\":\"string\",\"nullable\":true,\"metadata\":{}}]},\"nullable\":true,\"metadata\":{}},{\"name\":\"versionNumber\",\"type\":\"long\",\"nullable\":true,\"metadata\":{}}]},\"nullable\":true,\"metadata\":{}},{\"name\":\"hasContentDefinedByComponent\",\"type\":\"string\",\"nullable\":true,\"metadata\":{}},{\"name\":\"hasDetailDefinedByComponent\",\"type\":{\"type\":\"struct\",\"fields\":[{\"name\":\"applicableContracts\",\"type\":{\"type\":\"array\",\"elementType\":\"string\",\"containsNull\":true},\"nullable\":true,\"metadata\":{}},{\"name\":\"componentId\",\"type\":\"string\",\"nullable\":true,\"metadata\":{}},{\"name\":\"networkLinkReferences\",\"type\":{\"type\":\"array\",\"elementType\":\"string\",\"containsNull\":true},\"nullable\":true,\"metadata\":{}},{\"name\":\"networkNodeReferences\",\"type\":{\"type\":\"array\",\"elementType\":\"string\",\"containsNull\":true},\"nullable\":true,\"metadata\":{}},{\"name\":\"source\",\"type\":\"string\",\"nullable\":true,\"metadata\":{}},{\"name\":\"versionCreationMetadata\",\"type\":{\"type\":\"struct\",\"fields\":[{\"name\":\"captureMethod\",\"type\":\"string\",\"nullable\":true,\"metadata\":{}},{\"name\":\"confidenceLevel\",\"type\":\"string\",\"nullable\":true,\"metadata\":{}},{\"name\":\"editDate\",\"type\":\"string\",\"nullable\":true,\"metadata\":{}},{\"name\":\"evidenceDate\",\"type\":\"string\",\"nullable\":true,\"metadata\":{}},{\"name\":\"jobReference\",\"type\":\"long\",\"nullable\":true,\"metadata\":{}},{\"name\":\"reasonForChange\",\"type\":\"string\",\"nullable\":true,\"metadata\":{}}]},\"nullable\":true,\"metadata\":{}},{\"name\":\"versionNumber\",\"type\":\"long\",\"nullable\":true,\"metadata\":{}},{\"name\":\"waterLinkReferences\",\"type\":{\"type\":\"array\",\"elementType\":\"string\",\"containsNull\":true},\"nullable\":true,\"metadata\":{}}]},\"nullable\":true,\"metadata\":{}},{\"name\":\"hasParentComponent\",\"type\":\"string\",\"nullable\":true,\"metadata\":{}},{\"name\":\"heightDatumComponent\",\"type\":\"string\",\"nullable\":true,\"metadata\":{}},{\"name\":\"indicatesBeginningOfComponent\",\"type\":\"string\",\"nullable\":true,\"metadata\":{}},{\"name\":\"interactsComponent\",\"type\":\"string\",\"nullable\":true,\"metadata\":{}},{\"name\":\"jobReference\",\"type\":\"long\",\"nullable\":true,\"metadata\":{}},{\"name\":\"legalDocumentAttribution\",\"type\":\"string\",\"nullable\":true,\"metadata\":{}},{\"name\":\"lifecycleStatusComponent\",\"type\":{\"type\":\"struct\",\"fields\":[{\"name\":\"applicableContracts\",\"type\":{\"type\":\"array\",\"elementType\":\"string\",\"containsNull\":true},\"nullable\":true,\"metadata\":{}},{\"name\":\"componentId\",\"type\":\"string\",\"nullable\":true,\"metadata\":{}},{\"name\":\"lifecycleStatus\",\"type\":\"string\",\"nullable\":true,\"metadata\":{}},{\"name\":\"source\",\"type\":\"string\",\"nullable\":true,\"metadata\":{}},{\"name\":\"versionCreationMetadata\",\"type\":{\"type\":\"struct\",\"fields\":[{\"name\":\"captureMethod\",\"type\":\"string\",\"nullable\":true,\"metadata\":{}},{\"name\":\"confidenceLevel\",\"type\":\"string\",\"nullable\":true,\"metadata\":{}},{\"name\":\"editDate\",\"type\":\"string\",\"nullable\":true,\"metadata\":{}},{\"name\":\"evidenceDate\",\"type\":\"string\",\"nullable\":true,\"metadata\":{}},{\"name\":\"jobReference\",\"type\":\"long\",\"nullable\":true,\"metadata\":{}},{\"name\":\"reasonForChange\",\"type\":\"string\",\"nullable\":true,\"metadata\":{}}]},\"nullable\":true,\"metadata\":{}},{\"name\":\"versionNumber\",\"type\":\"long\",\"nullable\":true,\"metadata\":{}}]},\"nullable\":true,\"metadata\":{}},{\"name\":\"linearHeightComponent\",\"type\":{\"type\":\"struct\",\"fields\":[{\"name\":\"applicableContracts\",\"type\":{\"type\":\"array\",\"elementType\":\"string\",\"containsNull\":true},\"nullable\":true,\"metadata\":{}},{\"name\":\"componentId\",\"type\":\"string\",\"nullable\":true,\"metadata\":{}},{\"name\":\"heightLocationType\",\"type\":\"string\",\"nullable\":true,\"metadata\":{}},{\"name\":\"lastInterpolationDate\",\"type\":\"string\",\"nullable\":true,\"metadata\":{}},{\"name\":\"source\",\"type\":\"string\",\"nullable\":true,\"metadata\":{}},{\"name\":\"versionCreationMetadata\",\"type\":{\"type\":\"struct\",\"fields\":[{\"name\":\"captureMethod\",\"type\":\"string\",\"nullable\":true,\"metadata\":{}},{\"name\":\"confidenceLevel\",\"type\":\"string\",\"nullable\":true,\"metadata\":{}},{\"name\":\"editDate\",\"type\":\"string\",\"nullable\":true,\"metadata\":{}},{\"name\":\"evidenceDate\",\"type\":\"string\",\"nullable\":true,\"metadata\":{}},{\"name\":\"jobReference\",\"type\":\"long\",\"nullable\":true,\"metadata\":{}},{\"name\":\"reasonForChange\",\"type\":\"string\",\"nullable\":true,\"metadata\":{}}]},\"nullable\":true,\"metadata\":{}},{\"name\":\"versionNumber\",\"type\":\"long\",\"nullable\":true,\"metadata\":{}}]},\"nullable\":true,\"metadata\":{}},{\"name\":\"linkTopologyComponent\",\"type\":{\"type\":\"struct\",\"fields\":[{\"name\":\"applicableContracts\",\"type\":{\"type\":\"array\",\"elementType\":\"string\",\"containsNull\":true},\"nullable\":true,\"metadata\":{}},{\"name\":\"componentId\",\"type\":\"string\",\"nullable\":true,\"metadata\":{}},{\"name\":\"endNetworkNodeReference\",\"type\":\"string\",\"nullable\":true,\"metadata\":{}},{\"name\":\"endOverheadSupportAreaReference\",\"type\":\"string\",\"nullable\":true,\"metadata\":{}},{\"name\":\"endOverheadSupportPointReference\",\"type\":\"string\",\"nullable\":true,\"metadata\":{}},{\"name\":\"endWaterNodeReference\",\"type\":\"string\",\"nullable\":true,\"metadata\":{}},{\"name\":\"source\",\"type\":\"string\",\"nullable\":true,\"metadata\":{}},{\"name\":\"startNetworkNodeReference\",\"type\":\"string\",\"nullable\":true,\"metadata\":{}},{\"name\":\"startOverheadSupportAreaReference\",\"type\":\"string\",\"nullable\":true,\"metadata\":{}},{\"name\":\"startOverheadSupportPointReference\",\"type\":\"string\",\"nullable\":true,\"metadata\":{}},{\"name\":\"startWaterNodeReference\",\"type\":\"string\",\"nullable\":true,\"metadata\":{}},{\"name\":\"versionCreationMetadata\",\"type\":{\"type\":\"struct\",\"fields\":[{\"name\":\"captureMethod\",\"type\":\"string\",\"nullable\":true,\"metadata\":{}},{\"name\":\"confidenceLevel\",\"type\":\"string\",\"nullable\":true,\"metadata\":{}},{\"name\":\"editDate\",\"type\":\"string\",\"nullable\":true,\"metadata\":{}},{\"name\":\"evidenceDate\",\"type\":\"string\",\"nullable\":true,\"metadata\":{}},{\"name\":\"jobReference\",\"type\":\"long\",\"nullable\":true,\"metadata\":{}},{\"name\":\"reasonForChange\",\"type\":\"string\",\"nullable\":true,\"metadata\":{}}]},\"nullable\":true,\"metadata\":{}},{\"name\":\"versionNumber\",\"type\":\"long\",\"nullable\":true,\"metadata\":{}}]},\"nullable\":true,\"metadata\":{}},{\"name\":\"maintainersNoteComponent\",\"type\":\"string\",\"nullable\":true,\"metadata\":{}},{\"name\":\"nameComponents\",\"type\":{\"type\":\"array\",\"elementType\":{\"type\":\"struct\",\"fields\":[{\"name\":\"applicableContracts\",\"type\":{\"type\":\"array\",\"elementType\":\"string\",\"containsNull\":true},\"nullable\":true,\"metadata\":{}},{\"name\":\"authorities\",\"type\":{\"type\":\"array\",\"elementType\":{\"type\":\"struct\",\"fields\":[{\"name\":\"authorisingRole\",\"type\":\"string\",\"nullable\":true,\"metadata\":{}},{\"name\":\"authorityType\",\"type\":\"string\",\"nullable\":true,\"metadata\":{}},{\"name\":\"confirmationDate\",\"type\":\"string\",\"nullable\":true,\"metadata\":{}},{\"name\":\"confirmationType\",\"type\":\"string\",\"nullable\":true,\"metadata\":{}},{\"name\":\"note\",\"type\":\"string\",\"nullable\":true,\"metadata\":{}}]},\"containsNull\":true},\"nullable\":true,\"metadata\":{}},{\"name\":\"componentId\",\"type\":\"string\",\"nullable\":true,\"metadata\":{}},{\"name\":\"distinctiveNameOrNumber\",\"type\":\"string\",\"nullable\":true,\"metadata\":{}},{\"name\":\"language\",\"type\":\"string\",\"nullable\":true,\"metadata\":{}},{\"name\":\"source\",\"type\":\"string\",\"nullable\":true,\"metadata\":{}},{\"name\":\"versionCreationMetadata\",\"type\":{\"type\":\"struct\",\"fields\":[{\"name\":\"captureMethod\",\"type\":\"string\",\"nullable\":true,\"metadata\":{}},{\"name\":\"confidenceLevel\",\"type\":\"string\",\"nullable\":true,\"metadata\":{}},{\"name\":\"editDate\",\"type\":\"string\",\"nullable\":true,\"metadata\":{}},{\"name\":\"evidenceDate\",\"type\":\"string\",\"nullable\":true,\"metadata\":{}},{\"name\":\"jobReference\",\"type\":\"long\",\"nullable\":true,\"metadata\":{}},{\"name\":\"reasonForChange\",\"type\":\"string\",\"nullable\":true,\"metadata\":{}}]},\"nullable\":true,\"metadata\":{}},{\"name\":\"versionNumber\",\"type\":\"long\",\"nullable\":true,\"metadata\":{}}]},\"containsNull\":true},\"nullable\":true,\"metadata\":{}},{\"name\":\"networkReferenceComponent\",\"type\":\"string\",\"nullable\":true,\"metadata\":{}},{\"name\":\"oneWayRouteInformationComponent\",\"type\":\"string\",\"nullable\":true,\"metadata\":{}},{\"name\":\"overheadNodeComponent\",\"type\":\"string\",\"nullable\":true,\"metadata\":{}},{\"name\":\"overheadPointsComponent\",\"type\":\"string\",\"nullable\":true,\"metadata\":{}},{\"name\":\"physicalRestrictionComponent\",\"type\":\"string\",\"nullable\":true,\"metadata\":{}},{\"name\":\"planarAreaLocationComponent\",\"type\":{\"type\":\"struct\",\"fields\":[{\"name\":\"applicableContracts\",\"type\":{\"type\":\"array\",\"elementType\":\"string\",\"containsNull\":true},\"nullable\":true,\"metadata\":{}},{\"name\":\"authorities\",\"type\":{\"type\":\"array\",\"elementType\":\"string\",\"containsNull\":true},\"nullable\":true,\"metadata\":{}},{\"name\":\"componentId\",\"type\":\"string\",\"nullable\":true,\"metadata\":{}},{\"name\":\"locationType\",\"type\":\"string\",\"nullable\":true,\"metadata\":{}},{\"name\":\"source\",\"type\":\"string\",\"nullable\":true,\"metadata\":{}},{\"name\":\"vagueness\",\"type\":\"string\",\"nullable\":true,\"metadata\":{}},{\"name\":\"versionCreationMetadata\",\"type\":{\"type\":\"struct\",\"fields\":[{\"name\":\"captureMethod\",\"type\":\"string\",\"nullable\":true,\"metadata\":{}},{\"name\":\"confidenceLevel\",\"type\":\"string\",\"nullable\":true,\"metadata\":{}},{\"name\":\"editDate\",\"type\":\"string\",\"nullable\":true,\"metadata\":{}},{\"name\":\"evidenceDate\",\"type\":\"string\",\"nullable\":true,\"metadata\":{}},{\"name\":\"jobReference\",\"type\":\"long\",\"nullable\":true,\"metadata\":{}},{\"name\":\"reasonForChange\",\"type\":\"string\",\"nullable\":true,\"metadata\":{}}]},\"nullable\":true,\"metadata\":{}},{\"name\":\"versionNumber\",\"type\":\"long\",\"nullable\":true,\"metadata\":{}}]},\"nullable\":true,\"metadata\":{}},{\"name\":\"planarLinearLocationComponent\",\"type\":{\"type\":\"struct\",\"fields\":[{\"name\":\"applicableContracts\",\"type\":{\"type\":\"array\",\"elementType\":\"string\",\"containsNull\":true},\"nullable\":true,\"metadata\":{}},{\"name\":\"authorities\",\"type\":{\"type\":\"array\",\"elementType\":\"string\",\"containsNull\":true},\"nullable\":true,\"metadata\":{}},{\"name\":\"componentId\",\"type\":\"string\",\"nullable\":true,\"metadata\":{}},{\"name\":\"locationType\",\"type\":\"string\",\"nullable\":true,\"metadata\":{}},{\"name\":\"source\",\"type\":\"string\",\"nullable\":true,\"metadata\":{}},{\"name\":\"vagueness\",\"type\":\"string\",\"nullable\":true,\"metadata\":{}},{\"name\":\"versionCreationMetadata\",\"type\":{\"type\":\"struct\",\"fields\":[{\"name\":\"captureMethod\",\"type\":\"string\",\"nullable\":true,\"metadata\":{}},{\"name\":\"confidenceLevel\",\"type\":\"string\",\"nullable\":true,\"metadata\":{}},{\"name\":\"editDate\",\"type\":\"string\",\"nullable\":true,\"metadata\":{}},{\"name\":\"evidenceDate\",\"type\":\"string\",\"nullable\":true,\"metadata\":{}},{\"name\":\"jobReference\",\"type\":\"long\",\"nullable\":true,\"metadata\":{}},{\"name\":\"reasonForChange\",\"type\":\"string\",\"nullable\":true,\"metadata\":{}}]},\"nullable\":true,\"metadata\":{}},{\"name\":\"versionNumber\",\"type\":\"long\",\"nullable\":true,\"metadata\":{}}]},\"nullable\":true,\"metadata\":{}},{\"name\":\"planarPointLocationComponent\",\"type\":\"string\",\"nullable\":true,\"metadata\":{}},{\"name\":\"pointHeightComponent\",\"type\":\"string\",\"nullable\":true,\"metadata\":{}},{\"name\":\"primaryStructureComponent\",\"type\":\"string\",\"nullable\":true,\"metadata\":{}},{\"name\":\"roadLinkComponent\",\"type\":{\"type\":\"struct\",\"fields\":[{\"name\":\"applicableContracts\",\"type\":{\"type\":\"array\",\"elementType\":\"string\",\"containsNull\":true},\"nullable\":true,\"metadata\":{}},{\"name\":\"componentId\",\"type\":\"string\",\"nullable\":true,\"metadata\":{}},{\"name\":\"isPrimary\",\"type\":\"boolean\",\"nullable\":true,\"metadata\":{}},{\"name\":\"isTrunk\",\"type\":\"boolean\",\"nullable\":true,\"metadata\":{}},{\"name\":\"source\",\"type\":\"string\",\"nullable\":true,\"metadata\":{}},{\"name\":\"versionCreationMetadata\",\"type\":{\"type\":\"struct\",\"fields\":[{\"name\":\"captureMethod\",\"type\":\"string\",\"nullable\":true,\"metadata\":{}},{\"name\":\"confidenceLevel\",\"type\":\"string\",\"nullable\":true,\"metadata\":{}},{\"name\":\"editDate\",\"type\":\"string\",\"nullable\":true,\"metadata\":{}},{\"name\":\"evidenceDate\",\"type\":\"string\",\"nullable\":true,\"metadata\":{}},{\"name\":\"jobReference\",\"type\":\"long\",\"nullable\":true,\"metadata\":{}},{\"name\":\"reasonForChange\",\"type\":\"string\",\"nullable\":true,\"metadata\":{}}]},\"nullable\":true,\"metadata\":{}},{\"name\":\"versionNumber\",\"type\":\"long\",\"nullable\":true,\"metadata\":{}}]},\"nullable\":true,\"metadata\":{}},{\"name\":\"routeLocationComponent\",\"type\":\"string\",\"nullable\":true,\"metadata\":{}},{\"name\":\"siteNodeComponent\",\"type\":\"string\",\"nullable\":true,\"metadata\":{}},{\"name\":\"stakeholderComponents\",\"type\":{\"type\":\"array\",\"elementType\":\"string\",\"containsNull\":true},\"nullable\":true,\"metadata\":{}},{\"name\":\"symbolCartographyComponents\",\"type\":{\"type\":\"array\",\"elementType\":\"string\",\"containsNull\":true},\"nullable\":true,\"metadata\":{}},{\"name\":\"textCartographyComponents\",\"type\":{\"type\":\"array\",\"elementType\":{\"type\":\"struct\",\"fields\":[{\"name\":\"applicableContracts\",\"type\":{\"type\":\"array\",\"elementType\":\"string\",\"containsNull\":true},\"nullable\":true,\"metadata\":{}},{\"name\":\"componentId\",\"type\":\"string\",\"nullable\":true,\"metadata\":{}},{\"name\":\"source\",\"type\":\"string\",\"nullable\":true,\"metadata\":{}},{\"name\":\"textElements\",\"type\":{\"type\":\"array\",\"elementType\":{\"type\":\"struct\",\"fields\":[{\"name\":\"anchorPoint\",\"type\":\"string\",\"nullable\":true,\"metadata\":{}},{\"name\":\"font\",\"type\":\"string\",\"nullable\":true,\"metadata\":{}},{\"name\":\"fontHeight\",\"type\":\"string\",\"nullable\":true,\"metadata\":{}},{\"name\":\"groupOrder\",\"type\":\"long\",\"nullable\":true,\"metadata\":{}},{\"name\":\"orientation\",\"type\":\"double\",\"nullable\":true,\"metadata\":{}},{\"name\":\"position\",\"type\":{\"type\":\"struct\",\"fields\":[{\"name\":\"coordinates\",\"type\":{\"type\":\"array\",\"elementType\":\"double\",\"containsNull\":true},\"nullable\":true,\"metadata\":{}},{\"name\":\"type\",\"type\":\"string\",\"nullable\":true,\"metadata\":{}}]},\"nullable\":true,\"metadata\":{}},{\"name\":\"textString\",\"type\":\"string\",\"nullable\":true,\"metadata\":{}}]},\"containsNull\":true},\"nullable\":true,\"metadata\":{}},{\"name\":\"versionCreationMetadata\",\"type\":{\"type\":\"struct\",\"fields\":[{\"name\":\"captureMethod\",\"type\":\"string\",\"nullable\":true,\"metadata\":{}},{\"name\":\"confidenceLevel\",\"type\":\"string\",\"nullable\":true,\"metadata\":{}},{\"name\":\"editDate\",\"type\":\"string\",\"nullable\":true,\"metadata\":{}},{\"name\":\"evidenceDate\",\"type\":\"string\",\"nullable\":true,\"metadata\":{}},{\"name\":\"jobReference\",\"type\":\"long\",\"nullable\":true,\"metadata\":{}},{\"name\":\"reasonForChange\",\"type\":\"string\",\"nullable\":true,\"metadata\":{}}]},\"nullable\":true,\"metadata\":{}},{\"name\":\"versionNumber\",\"type\":\"long\",\"nullable\":true,\"metadata\":{}}]},\"containsNull\":true},\"nullable\":true,\"metadata\":{}},{\"name\":\"thirdPartyInformationComponent\",\"type\":\"string\",\"nullable\":true,\"metadata\":{}},{\"name\":\"tideInformationComponent\",\"type\":\"string\",\"nullable\":true,\"metadata\":{}},{\"name\":\"toid\",\"type\":\"string\",\"nullable\":true,\"metadata\":{}},{\"name\":\"topo93SeedGeometryComponent\",\"type\":\"string\",\"nullable\":true,\"metadata\":{}},{\"name\":\"validFromTimestamp\",\"type\":\"string\",\"nullable\":true,\"metadata\":{}},{\"name\":\"waterFlowComponent\",\"type\":\"string\",\"nullable\":true,\"metadata\":{}},{\"name\":\"waterNavigabilityComponent\",\"type\":\"string\",\"nullable\":true,\"metadata\":{}},{\"name\":\"waterPermanenceComponent\",\"type\":\"string\",\"nullable\":true,\"metadata\":{}},{\"name\":\"waterProvenanceComponent\",\"type\":\"string\",\"nullable\":true,\"metadata\":{}},{\"name\":\"zoneLocationComponent\",\"type\":\"string\",\"nullable\":true,\"metadata\":{}}]},\"nullable\":true,\"metadata\":{}},{\"name\":\"type\",\"type\":\"string\",\"nullable\":true,\"metadata\":{}}]}"
        }
       ],
       "type": "table"
      }
     },
     "output_type": "display_data"
    }
   ],
   "source": [
    "df_features = df.select(explode(col(\"features\")).alias(\"feature\"))\n",
    "display(df_features)"
   ]
  },
  {
   "cell_type": "code",
   "execution_count": 0,
   "metadata": {
    "application/vnd.databricks.v1+cell": {
     "cellMetadata": {
      "byteLimit": 2048000,
      "rowLimit": 10000
     },
     "inputWidgets": {},
     "nuid": "6aeccd6b-e562-47de-901a-cb2125291caf",
     "showTitle": false,
     "tableResultSettingsMap": {},
     "title": ""
    }
   },
   "outputs": [
    {
     "output_type": "display_data",
     "data": {
      "text/html": [
       "<style scoped>\n",
       "  .table-result-container {\n",
       "    max-height: 300px;\n",
       "    overflow: auto;\n",
       "  }\n",
       "  table, th, td {\n",
       "    border: 1px solid black;\n",
       "    border-collapse: collapse;\n",
       "  }\n",
       "  th, td {\n",
       "    padding: 5px;\n",
       "  }\n",
       "  th {\n",
       "    text-align: left;\n",
       "  }\n",
       "</style><div class='table-result-container'><table class='table-result'><thead style='background-color: white'><tr><th>feature_type</th><th>geometry_type</th><th>geometry_coordinates</th><th>properties_featureGroup</th><th>properties_featureId</th><th>properties_toid</th><th>properties_changeEventType</th><th>properties_jobReference</th><th>properties_validFromTimestamp</th><th>properties_anomalyComponent</th></tr></thead><tbody><tr><td>Feature</td><td>Polygon</td><td>List(List([445751.0,244970.0,138.984], [446492.041,244970.0,101.861], [446492.041,245088.372,102.604], [445751.0,245088.372,140.312], [445751.0,244970.0,138.984]))</td><td>Named Extent+Group+None</td><td>a6a7e7ff-71d3-e455-0a2c5c6a</td><td>3544354345349395541</td><td>update</td><td>3453654</td><td>2022-08-06T03:29:46Z</td><td>null</td></tr><tr><td>Feature</td><td>LineString</td><td>List(List(446492.041, 245087.712, 102.616), List(446498.463, 245087.71, 103.178), List(446503.199, 245088.442, 103.205), List(446510.93, 245089.636, 102.862))</td><td>Network+Line+None</td><td>17e3f1c4-1802-4952-a826-ba148d063716</td><td>osgb5000005233652043</td><td>delete</td><td>34567535</td><td>2022-08-06T03:29:46Z</td><td>null</td></tr></tbody></table></div>"
      ]
     },
     "metadata": {
      "application/vnd.databricks.v1+output": {
       "addedWidgets": {},
       "aggData": [],
       "aggError": "",
       "aggOverflow": false,
       "aggSchema": [],
       "aggSeriesLimitReached": false,
       "aggType": "",
       "arguments": {},
       "columnCustomDisplayInfos": {},
       "data": [
        [
         "Feature",
         "Polygon",
         [
          [
           "[445751.0,244970.0,138.984]",
           "[446492.041,244970.0,101.861]",
           "[446492.041,245088.372,102.604]",
           "[445751.0,245088.372,140.312]",
           "[445751.0,244970.0,138.984]"
          ]
         ],
         "Named Extent+Group+None",
         "a6a7e7ff-71d3-e455-0a2c5c6a",
         "3544354345349395541",
         "update",
         3453654,
         "2022-08-06T03:29:46Z",
         null
        ],
        [
         "Feature",
         "LineString",
         [
          [
           "446492.041",
           "245087.712",
           "102.616"
          ],
          [
           "446498.463",
           "245087.71",
           "103.178"
          ],
          [
           "446503.199",
           "245088.442",
           "103.205"
          ],
          [
           "446510.93",
           "245089.636",
           "102.862"
          ]
         ],
         "Network+Line+None",
         "17e3f1c4-1802-4952-a826-ba148d063716",
         "osgb5000005233652043",
         "delete",
         34567535,
         "2022-08-06T03:29:46Z",
         null
        ]
       ],
       "datasetInfos": [],
       "dbfsResultPath": null,
       "isJsonSchema": true,
       "metadata": {},
       "overflow": false,
       "plotOptions": {
        "customPlotOptions": {},
        "displayType": "table",
        "pivotAggregation": null,
        "pivotColumns": null,
        "xColumns": null,
        "yColumns": null
       },
       "removedWidgets": [],
       "schema": [
        {
         "metadata": "{}",
         "name": "feature_type",
         "type": "\"string\""
        },
        {
         "metadata": "{}",
         "name": "geometry_type",
         "type": "\"string\""
        },
        {
         "metadata": "{}",
         "name": "geometry_coordinates",
         "type": "{\"type\":\"array\",\"elementType\":{\"type\":\"array\",\"elementType\":\"string\",\"containsNull\":true},\"containsNull\":true}"
        },
        {
         "metadata": "{}",
         "name": "properties_featureGroup",
         "type": "\"string\""
        },
        {
         "metadata": "{}",
         "name": "properties_featureId",
         "type": "\"string\""
        },
        {
         "metadata": "{}",
         "name": "properties_toid",
         "type": "\"string\""
        },
        {
         "metadata": "{}",
         "name": "properties_changeEventType",
         "type": "\"string\""
        },
        {
         "metadata": "{}",
         "name": "properties_jobReference",
         "type": "\"long\""
        },
        {
         "metadata": "{}",
         "name": "properties_validFromTimestamp",
         "type": "\"string\""
        },
        {
         "metadata": "{}",
         "name": "properties_anomalyComponent",
         "type": "\"string\""
        }
       ],
       "type": "table"
      }
     },
     "output_type": "display_data"
    }
   ],
   "source": [
    "df_selected = df_features.select(\n",
    "    col(\"feature.type\").alias(\"feature_type\"),\n",
    "    col(\"feature.geometry.type\").alias(\"geometry_type\"),\n",
    "    col(\"feature.geometry.coordinates\").alias(\"geometry_coordinates\"),\n",
    "    col(\"feature.properties.featureGroup\").alias(\"properties_featureGroup\"),\n",
    "    col(\"feature.properties.featureId\").alias(\"properties_featureId\"),\n",
    "    col(\"feature.properties.toid\").alias(\"properties_toid\"),\n",
    "    col(\"feature.properties.changeEventType\").alias(\"properties_changeEventType\"),\n",
    "    col(\"feature.properties.jobReference\").alias(\"properties_jobReference\"),\n",
    "    col(\"feature.properties.validFromTimestamp\").alias(\"properties_validFromTimestamp\"),\n",
    "    col(\"feature.properties.anomalyComponent\").alias(\"properties_anomalyComponent\")\n",
    ")\n",
    "\n",
    "display(df_selected)"
   ]
  },
  {
   "cell_type": "markdown",
   "metadata": {
    "application/vnd.databricks.v1+cell": {
     "cellMetadata": {},
     "inputWidgets": {},
     "nuid": "c08e65e3-d3d8-4fb1-b185-57ebc6082daf",
     "showTitle": false,
     "tableResultSettingsMap": {},
     "title": ""
    }
   },
   "source": [
    "**Zadanie 2**\n",
    "\n",
    "- Walidacja danych wejściowych do sprawdzania czy spełniają one oczekiwany format, typy i zakresy wartości\n",
    "\n",
    "- Dekorator do logowania i łapania wyjątków, aby zamiast przerywać działanie pipeline przez nieobsłużony wyjątek, logować błąd i przekazać informacje do dalszej analizy \n",
    "\n",
    "- Domyślne wartości i fallbacki, stosowanie w sytuacji braku lub błędnych danych\n",
    "\n",
    "- Testy jednostkowe i walidacja integracyjna kroków pipeline\n",
    "\n",
    "- Walidacja wyjścia i testy końcowe, aby upewnić się że dane końcowe są kompletne i spójne"
   ]
  },
  {
   "cell_type": "code",
   "execution_count": 0,
   "metadata": {
    "application/vnd.databricks.v1+cell": {
     "cellMetadata": {},
     "inputWidgets": {},
     "nuid": "07f1165b-3cc3-4ecf-91fe-ae370ebf7a8e",
     "showTitle": false,
     "tableResultSettingsMap": {},
     "title": ""
    }
   },
   "outputs": [],
   "source": []
  }
 ],
 "metadata": {
  "application/vnd.databricks.v1+notebook": {
   "computePreferences": null,
   "dashboards": [],
   "environmentMetadata": {
    "base_environment": "",
    "environment_version": "1"
   },
   "inputWidgetPreferences": null,
   "language": "python",
   "notebookMetadata": {
    "pythonIndentUnit": 4
   },
   "notebookName": "zad1,3",
   "widgets": {}
  }
 },
 "nbformat": 4,
 "nbformat_minor": 0
}