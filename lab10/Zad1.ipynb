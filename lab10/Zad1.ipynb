{
 "cells": [
  {
   "cell_type": "code",
   "execution_count": 0,
   "metadata": {
    "application/vnd.databricks.v1+cell": {
     "cellMetadata": {
      "byteLimit": 2048000,
      "rowLimit": 10000
     },
     "inputWidgets": {},
     "nuid": "02bd81c7-95a2-4d34-9f4d-680d103096fb",
     "showTitle": false,
     "tableResultSettingsMap": {},
     "title": ""
    }
   },
   "outputs": [
    {
     "output_type": "display_data",
     "data": {
      "text/html": [
       "<style scoped>\n",
       "  .table-result-container {\n",
       "    max-height: 300px;\n",
       "    overflow: auto;\n",
       "  }\n",
       "  table, th, td {\n",
       "    border: 1px solid black;\n",
       "    border-collapse: collapse;\n",
       "  }\n",
       "  th, td {\n",
       "    padding: 5px;\n",
       "  }\n",
       "  th {\n",
       "    text-align: left;\n",
       "  }\n",
       "</style><div class='table-result-container'><table class='table-result'><thead style='background-color: white'><tr><th>CaptureDate</th><th>CaptureID</th><th>FID</th><th>Geometry</th><th>changeType_source</th><th>identifier</th><th>pathLinkInfo</th></tr></thead><tbody><tr><td>2020-12-31T00:00:00</td><td>3</td><td>24b3sdf4353fc220</td><td>Geo223</td><td>insert</td><td>2</td><td>List(null, Urban, null, List(0), eb7f6122-f765-4113-8b77-908934437ee96, false, Path, List(4fb3afad-2c56-4946-83d1-d734508705e2), DTM, Matched, null, MissingFID, 0, 147b7a78-04bf-4f9a-801d-61dc534a0a5, Sealed on surface)</td></tr></tbody></table></div>"
      ]
     },
     "metadata": {
      "application/vnd.databricks.v1+output": {
       "addedWidgets": {},
       "aggData": [],
       "aggError": "",
       "aggOverflow": false,
       "aggSchema": [],
       "aggSeriesLimitReached": false,
       "aggType": "",
       "arguments": {},
       "columnCustomDisplayInfos": {},
       "data": [
        [
         "2020-12-31T00:00:00",
         3,
         "24b3sdf4353fc220",
         "Geo223",
         "insert",
         2,
         [
          null,
          "Urban",
          null,
          [
           0
          ],
          "eb7f6122-f765-4113-8b77-908934437ee96",
          false,
          "Path",
          [
           "4fb3afad-2c56-4946-83d1-d734508705e2"
          ],
          "DTM",
          "Matched",
          null,
          "MissingFID",
          0,
          "147b7a78-04bf-4f9a-801d-61dc534a0a5",
          "Sealed on surface"
         ]
        ]
       ],
       "datasetInfos": [],
       "dbfsResultPath": null,
       "isJsonSchema": true,
       "metadata": {},
       "overflow": false,
       "plotOptions": {
        "customPlotOptions": {},
        "displayType": "table",
        "pivotAggregation": null,
        "pivotColumns": null,
        "xColumns": null,
        "yColumns": null
       },
       "removedWidgets": [],
       "schema": [
        {
         "metadata": "{}",
         "name": "CaptureDate",
         "type": "\"string\""
        },
        {
         "metadata": "{}",
         "name": "CaptureID",
         "type": "\"long\""
        },
        {
         "metadata": "{}",
         "name": "FID",
         "type": "\"string\""
        },
        {
         "metadata": "{}",
         "name": "Geometry",
         "type": "\"string\""
        },
        {
         "metadata": "{}",
         "name": "changeType_source",
         "type": "\"string\""
        },
        {
         "metadata": "{}",
         "name": "identifier",
         "type": "\"long\""
        },
        {
         "metadata": "{}",
         "name": "pathLinkInfo",
         "type": "{\"type\":\"struct\",\"fields\":[{\"name\":\"alternateName\",\"type\":\"string\",\"nullable\":true,\"metadata\":{}},{\"name\":\"captureSpecification\",\"type\":\"string\",\"nullable\":true,\"metadata\":{}},{\"name\":\"cycleFacility\",\"type\":\"string\",\"nullable\":true,\"metadata\":{}},{\"name\":\"elevationGain\",\"type\":{\"type\":\"struct\",\"fields\":[{\"name\":\"elevationInDirection\",\"type\":\"long\",\"nullable\":true,\"metadata\":{}}]},\"nullable\":true,\"metadata\":{}},{\"name\":\"endNode\",\"type\":\"string\",\"nullable\":true,\"metadata\":{}},{\"name\":\"fictitious\",\"type\":\"boolean\",\"nullable\":true,\"metadata\":{}},{\"name\":\"formOfWay\",\"type\":\"string\",\"nullable\":true,\"metadata\":{}},{\"name\":\"formsPartOfStreet\",\"type\":{\"type\":\"array\",\"elementType\":\"string\",\"containsNull\":true},\"nullable\":true,\"metadata\":{}},{\"name\":\"heightingMethod\",\"type\":\"string\",\"nullable\":true,\"metadata\":{}},{\"name\":\"matchStatus\",\"type\":\"string\",\"nullable\":true,\"metadata\":{}},{\"name\":\"pathName\",\"type\":\"string\",\"nullable\":true,\"metadata\":{}},{\"name\":\"sourceFID\",\"type\":\"string\",\"nullable\":true,\"metadata\":{}},{\"name\":\"startGradeSeparation\",\"type\":\"long\",\"nullable\":true,\"metadata\":{}},{\"name\":\"startNode\",\"type\":\"string\",\"nullable\":true,\"metadata\":{}},{\"name\":\"surfaceType\",\"type\":\"string\",\"nullable\":true,\"metadata\":{}}]}"
        }
       ],
       "type": "table"
      }
     },
     "output_type": "display_data"
    }
   ],
   "source": [
    "from pyspark.sql.functions import *\n",
    "\n",
    "file = \"dbfs:/FileStore/tables/Nested.json\"\n",
    "df = spark.read.option('multiline', 'true').json(file)\n",
    "df = df.drop('attribute1')\n",
    "df = df.withColumn('pathLinkInfo', col('pathLinkInfo').dropFields(\"elevationGain.elevationAgainstDirection\", \"endGradeSeparation\", \"formsPartOfPath\"))\n",
    "display(df)"
   ]
  },
  {
   "cell_type": "code",
   "execution_count": 0,
   "metadata": {
    "application/vnd.databricks.v1+cell": {
     "cellMetadata": {},
     "inputWidgets": {},
     "nuid": "27a08bf5-a39a-4c8d-b390-fc1f923e079d",
     "showTitle": false,
     "tableResultSettingsMap": {},
     "title": ""
    }
   },
   "outputs": [],
   "source": []
  }
 ],
 "metadata": {
  "application/vnd.databricks.v1+notebook": {
   "computePreferences": null,
   "dashboards": [],
   "environmentMetadata": {
    "base_environment": "",
    "environment_version": "1"
   },
   "inputWidgetPreferences": null,
   "language": "python",
   "notebookMetadata": {
    "pythonIndentUnit": 4
   },
   "notebookName": "Zad1",
   "widgets": {}
  }
 },
 "nbformat": 4,
 "nbformat_minor": 0
}