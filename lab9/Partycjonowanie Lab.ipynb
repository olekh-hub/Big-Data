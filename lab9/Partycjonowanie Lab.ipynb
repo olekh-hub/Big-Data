{
 "cells": [
  {
   "cell_type": "markdown",
   "metadata": {
    "application/vnd.databricks.v1+cell": {
     "cellMetadata": {
      "byteLimit": 2048000,
      "rowLimit": 10000
     },
     "inputWidgets": {},
     "nuid": "09d4d90d-13f1-47eb-95a2-ce2c86a1a1b5",
     "showTitle": false,
     "tableResultSettingsMap": {},
     "title": ""
    }
   },
   "source": [
    "## Jak działa partycjonowanie\n",
    "\n",
    "1. Rozpocznij z 8 partycjami.\n",
    "2. Uruchom kod.\n",
    "3. Otwórz **Spark UI**\n",
    "4. Sprawdź drugi job (czy są jakieś różnice pomięczy drugim)\n",
    "5. Sprawdź **Event Timeline**\n",
    "6. Sprawdzaj czas wykonania.\n",
    "  * Uruchom kilka razy rzeby sprawdzić średni czas wykonania.\n",
    "\n",
    "Powtórz z inną liczbą partycji\n",
    "* 1 partycja\n",
    "* 7 partycja\n",
    "* 9 partycja\n",
    "* 16 partycja\n",
    "* 24 partycja\n",
    "* 96 partycja\n",
    "* 200 partycja\n",
    "* 4000 partycja\n",
    "\n",
    "Zastąp `repartition(n)` z `coalesce(n)` używając:\n",
    "* 6 partycji\n",
    "* 5 partycji\n",
    "* 4 partycji\n",
    "* 3 partycji\n",
    "* 2 partycji\n",
    "* 1 partycji\n",
    "\n",
    "** *Note:* ** *Dane muszą być wystarczająco duże żeby zaobserwować duże różnice z małymi partycjami.*<br/>* To co możesz sprawdzić jak zachowują się małe dane z dużą ilośćia partycji.*"
   ]
  },
  {
   "cell_type": "code",
   "execution_count": 0,
   "metadata": {
    "application/vnd.databricks.v1+cell": {
     "cellMetadata": {
      "byteLimit": 2048000,
      "rowLimit": 10000
     },
     "inputWidgets": {},
     "nuid": "8d32ef69-6979-47ea-9a1c-7e69f1104bb7",
     "showTitle": false,
     "tableResultSettingsMap": {},
     "title": ""
    }
   },
   "outputs": [
    {
     "output_type": "execute_result",
     "data": {
      "text/plain": [
       "'200'"
      ]
     },
     "execution_count": 1,
     "metadata": {},
     "output_type": "execute_result"
    }
   ],
   "source": [
    "# slots = sc.defaultParallelism\n",
    "spark.conf.get(\"spark.sql.shuffle.partitions\")"
   ]
  },
  {
   "cell_type": "code",
   "execution_count": 0,
   "metadata": {
    "application/vnd.databricks.v1+cell": {
     "cellMetadata": {
      "byteLimit": 2048000,
      "rowLimit": 10000
     },
     "inputWidgets": {},
     "nuid": "00c84ff5-f945-4183-b7c9-fd9fb54523b4",
     "showTitle": false,
     "tableResultSettingsMap": {},
     "title": ""
    }
   },
   "outputs": [
    {
     "output_type": "execute_result",
     "data": {
      "text/plain": [
       "1055"
      ]
     },
     "execution_count": 3,
     "metadata": {},
     "output_type": "execute_result"
    }
   ],
   "source": [
    "spark.catalog.clearCache()\n",
    "parquetDir = \"/FileStore/tables/training/wikipedia/pageviews/\"\n",
    "\n",
    "df = (spark.read\n",
    "  .parquet(parquetDir)\n",
    "#.repartition(2000)\n",
    ".coalesce(6)\n",
    ".groupBy(\"count_views\").sum())\n",
    "\n",
    "\n",
    "df.explain\n",
    "df.count()"
   ]
  },
  {
   "cell_type": "code",
   "execution_count": 0,
   "metadata": {
    "application/vnd.databricks.v1+cell": {
     "cellMetadata": {
      "byteLimit": 2048000,
      "rowLimit": 10000
     },
     "inputWidgets": {},
     "nuid": "25bcb8da-33ec-4bf2-b997-aafb2db24c17",
     "showTitle": false,
     "tableResultSettingsMap": {},
     "title": ""
    }
   },
   "outputs": [
    {
     "output_type": "execute_result",
     "data": {
      "text/plain": [
       "1"
      ]
     },
     "execution_count": 5,
     "metadata": {},
     "output_type": "execute_result"
    }
   ],
   "source": [
    "df.rdd.getNumPartitions()"
   ]
  },
  {
   "cell_type": "code",
   "execution_count": 0,
   "metadata": {
    "application/vnd.databricks.v1+cell": {
     "cellMetadata": {},
     "inputWidgets": {},
     "nuid": "b871d003-58c3-40da-b1ff-b06d673de951",
     "showTitle": false,
     "tableResultSettingsMap": {},
     "title": ""
    }
   },
   "outputs": [],
   "source": []
  }
 ],
 "metadata": {
  "application/vnd.databricks.v1+notebook": {
   "computePreferences": null,
   "dashboards": [],
   "environmentMetadata": null,
   "inputWidgetPreferences": null,
   "language": "python",
   "notebookMetadata": {
    "pythonIndentUnit": 2
   },
   "notebookName": "Partycjonowanie Lab",
   "widgets": {}
  }
 },
 "nbformat": 4,
 "nbformat_minor": 0
}