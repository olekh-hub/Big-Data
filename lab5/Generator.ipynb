{
 "cells": [
  {
   "cell_type": "code",
   "execution_count": 0,
   "metadata": {
    "application/vnd.databricks.v1+cell": {
     "cellMetadata": {
      "byteLimit": 2048000,
      "rowLimit": 10000
     },
     "inputWidgets": {},
     "nuid": "fdd65d03-3a14-47c9-993f-708d41057565",
     "showTitle": false,
     "tableResultSettingsMap": {},
     "title": ""
    }
   },
   "outputs": [],
   "source": [
    "from pyspark.sql import SparkSession\n",
    "\n",
    "spark = SparkSession.builder.appName(\"Generator\").getOrCreate()"
   ]
  },
  {
   "cell_type": "code",
   "execution_count": 0,
   "metadata": {
    "application/vnd.databricks.v1+cell": {
     "cellMetadata": {
      "byteLimit": 2048000,
      "rowLimit": 10000
     },
     "inputWidgets": {},
     "nuid": "afc4a7fb-1595-4cb9-8cf1-ccb13feac729",
     "showTitle": false,
     "tableResultSettingsMap": {},
     "title": ""
    }
   },
   "outputs": [
    {
     "output_type": "display_data",
     "data": {
      "text/html": [
       "<style scoped>\n",
       "  .table-result-container {\n",
       "    max-height: 300px;\n",
       "    overflow: auto;\n",
       "  }\n",
       "  table, th, td {\n",
       "    border: 1px solid black;\n",
       "    border-collapse: collapse;\n",
       "  }\n",
       "  th, td {\n",
       "    padding: 5px;\n",
       "  }\n",
       "  th {\n",
       "    text-align: left;\n",
       "  }\n",
       "</style><div class='table-result-container'><table class='table-result'><thead style='background-color: white'><tr><th>id</th><th>name_1</th><th>value_1</th></tr></thead><tbody><tr><td>1</td><td>el_1</td><td>0.9649748028076188</td></tr><tr><td>2</td><td>el_2</td><td>0.9262109888449777</td></tr><tr><td>3</td><td>el_3</td><td>0.6549530011755194</td></tr><tr><td>4</td><td>el_4</td><td>0.6873311516388818</td></tr><tr><td>5</td><td>el_5</td><td>0.6927372993845264</td></tr><tr><td>6</td><td>el_6</td><td>0.7220469744103468</td></tr><tr><td>7</td><td>el_7</td><td>0.9103590237894323</td></tr><tr><td>8</td><td>el_8</td><td>0.5516337263405837</td></tr><tr><td>9</td><td>el_9</td><td>0.8408718587345965</td></tr><tr><td>10</td><td>el_10</td><td>0.771309938018883</td></tr><tr><td>11</td><td>el_11</td><td>0.46385641436576475</td></tr><tr><td>12</td><td>el_12</td><td>0.6652364980570029</td></tr><tr><td>13</td><td>el_13</td><td>0.989662907618481</td></tr><tr><td>14</td><td>el_14</td><td>0.8375661851837626</td></tr><tr><td>15</td><td>el_15</td><td>0.8532605530609981</td></tr></tbody></table></div>"
      ]
     },
     "metadata": {
      "application/vnd.databricks.v1+output": {
       "addedWidgets": {},
       "aggData": [],
       "aggError": "",
       "aggOverflow": false,
       "aggSchema": [],
       "aggSeriesLimitReached": false,
       "aggType": "",
       "arguments": {},
       "columnCustomDisplayInfos": {},
       "data": [
        [
         1,
         "el_1",
         0.9649748028076188
        ],
        [
         2,
         "el_2",
         0.9262109888449777
        ],
        [
         3,
         "el_3",
         0.6549530011755194
        ],
        [
         4,
         "el_4",
         0.6873311516388818
        ],
        [
         5,
         "el_5",
         0.6927372993845264
        ],
        [
         6,
         "el_6",
         0.7220469744103468
        ],
        [
         7,
         "el_7",
         0.9103590237894323
        ],
        [
         8,
         "el_8",
         0.5516337263405837
        ],
        [
         9,
         "el_9",
         0.8408718587345965
        ],
        [
         10,
         "el_10",
         0.771309938018883
        ],
        [
         11,
         "el_11",
         0.46385641436576475
        ],
        [
         12,
         "el_12",
         0.6652364980570029
        ],
        [
         13,
         "el_13",
         0.989662907618481
        ],
        [
         14,
         "el_14",
         0.8375661851837626
        ],
        [
         15,
         "el_15",
         0.8532605530609981
        ]
       ],
       "datasetInfos": [],
       "dbfsResultPath": null,
       "isJsonSchema": true,
       "metadata": {},
       "overflow": false,
       "plotOptions": {
        "customPlotOptions": {},
        "displayType": "table",
        "pivotAggregation": null,
        "pivotColumns": null,
        "xColumns": null,
        "yColumns": null
       },
       "removedWidgets": [],
       "schema": [
        {
         "metadata": "{}",
         "name": "id",
         "type": "\"long\""
        },
        {
         "metadata": "{}",
         "name": "name_1",
         "type": "\"string\""
        },
        {
         "metadata": "{}",
         "name": "value_1",
         "type": "\"double\""
        }
       ],
       "type": "table"
      }
     },
     "output_type": "display_data"
    }
   ],
   "source": [
    "from pyspark.sql.types import StructType, StructField, IntegerType, StringType, DoubleType\n",
    "import random\n",
    "\n",
    "def data_generator():\n",
    "    for i in range(1,1000000):\n",
    "        yield (i, f\"el_{i}\", random.random())\n",
    "\n",
    "schema1 = StructType([\n",
    "    StructField('id', IntegerType(), True),\n",
    "    StructField('name_1', StringType(), True),\n",
    "    StructField('value_1', DoubleType(), True)\n",
    "])\n",
    "\n",
    "data = list(data_generator())\n",
    "df1 = spark.createDataFrame(data, schema=schema1)\n",
    "display(df1.head(15))"
   ]
  },
  {
   "cell_type": "code",
   "execution_count": 0,
   "metadata": {
    "application/vnd.databricks.v1+cell": {
     "cellMetadata": {
      "byteLimit": 2048000,
      "rowLimit": 10000
     },
     "inputWidgets": {},
     "nuid": "f4e99e40-6871-40d2-ac1e-98710e9560f5",
     "showTitle": false,
     "tableResultSettingsMap": {},
     "title": ""
    }
   },
   "outputs": [
    {
     "output_type": "display_data",
     "data": {
      "text/html": [
       "<style scoped>\n",
       "  .table-result-container {\n",
       "    max-height: 300px;\n",
       "    overflow: auto;\n",
       "  }\n",
       "  table, th, td {\n",
       "    border: 1px solid black;\n",
       "    border-collapse: collapse;\n",
       "  }\n",
       "  th, td {\n",
       "    padding: 5px;\n",
       "  }\n",
       "  th {\n",
       "    text-align: left;\n",
       "  }\n",
       "</style><div class='table-result-container'><table class='table-result'><thead style='background-color: white'><tr><th>id</th><th>name_2</th><th>value_2</th></tr></thead><tbody><tr><td>1</td><td>el_1</td><td>0.023870494972511924</td></tr><tr><td>2</td><td>el_2</td><td>0.9975325418127893</td></tr><tr><td>3</td><td>el_3</td><td>0.08790908680161935</td></tr><tr><td>4</td><td>el_4</td><td>0.7540062442621721</td></tr><tr><td>5</td><td>el_0</td><td>0.8939808800672981</td></tr><tr><td>6</td><td>el_1</td><td>0.2772099616628865</td></tr><tr><td>7</td><td>el_2</td><td>0.5854404580506946</td></tr><tr><td>8</td><td>el_3</td><td>0.7960072303842086</td></tr><tr><td>9</td><td>el_4</td><td>0.6609263465868807</td></tr><tr><td>10</td><td>el_0</td><td>0.28583792148249954</td></tr><tr><td>11</td><td>el_1</td><td>0.46507413181272084</td></tr><tr><td>12</td><td>el_2</td><td>0.60636562730352</td></tr><tr><td>13</td><td>el_3</td><td>0.5536661244195987</td></tr><tr><td>14</td><td>el_4</td><td>0.3160332237822273</td></tr><tr><td>15</td><td>el_0</td><td>0.6582793027395346</td></tr></tbody></table></div>"
      ]
     },
     "metadata": {
      "application/vnd.databricks.v1+output": {
       "addedWidgets": {},
       "aggData": [],
       "aggError": "",
       "aggOverflow": false,
       "aggSchema": [],
       "aggSeriesLimitReached": false,
       "aggType": "",
       "arguments": {},
       "columnCustomDisplayInfos": {},
       "data": [
        [
         1,
         "el_1",
         0.023870494972511924
        ],
        [
         2,
         "el_2",
         0.9975325418127893
        ],
        [
         3,
         "el_3",
         0.08790908680161935
        ],
        [
         4,
         "el_4",
         0.7540062442621721
        ],
        [
         5,
         "el_0",
         0.8939808800672981
        ],
        [
         6,
         "el_1",
         0.2772099616628865
        ],
        [
         7,
         "el_2",
         0.5854404580506946
        ],
        [
         8,
         "el_3",
         0.7960072303842086
        ],
        [
         9,
         "el_4",
         0.6609263465868807
        ],
        [
         10,
         "el_0",
         0.28583792148249954
        ],
        [
         11,
         "el_1",
         0.46507413181272084
        ],
        [
         12,
         "el_2",
         0.60636562730352
        ],
        [
         13,
         "el_3",
         0.5536661244195987
        ],
        [
         14,
         "el_4",
         0.3160332237822273
        ],
        [
         15,
         "el_0",
         0.6582793027395346
        ]
       ],
       "datasetInfos": [],
       "dbfsResultPath": null,
       "isJsonSchema": true,
       "metadata": {},
       "overflow": false,
       "plotOptions": {
        "customPlotOptions": {},
        "displayType": "table",
        "pivotAggregation": null,
        "pivotColumns": null,
        "xColumns": null,
        "yColumns": null
       },
       "removedWidgets": [],
       "schema": [
        {
         "metadata": "{}",
         "name": "id",
         "type": "\"long\""
        },
        {
         "metadata": "{}",
         "name": "name_2",
         "type": "\"string\""
        },
        {
         "metadata": "{}",
         "name": "value_2",
         "type": "\"double\""
        }
       ],
       "type": "table"
      }
     },
     "output_type": "display_data"
    }
   ],
   "source": [
    "def data_generator():\n",
    "    for i in range(1, 1000000):\n",
    "        yield (i, f\"el_{i%5}\", random.random())\n",
    "\n",
    "data = list(data_generator())\n",
    "\n",
    "schema2 = StructType([\n",
    "    StructField('id', IntegerType(), True),\n",
    "    StructField('name_2', StringType(), True),\n",
    "    StructField('value_2', DoubleType(), True),\n",
    "])\n",
    "\n",
    "data = list(data_generator())\n",
    "df2 = spark.createDataFrame(data, schema=schema2)\n",
    "display(df2.head(15))"
   ]
  },
  {
   "cell_type": "code",
   "execution_count": 0,
   "metadata": {
    "application/vnd.databricks.v1+cell": {
     "cellMetadata": {
      "byteLimit": 2048000,
      "rowLimit": 10000
     },
     "inputWidgets": {},
     "nuid": "69d38b42-ec33-4646-871e-7e05632f836f",
     "showTitle": false,
     "tableResultSettingsMap": {},
     "title": ""
    }
   },
   "outputs": [
    {
     "output_type": "display_data",
     "data": {
      "text/html": [
       "<style scoped>\n",
       "  .table-result-container {\n",
       "    max-height: 300px;\n",
       "    overflow: auto;\n",
       "  }\n",
       "  table, th, td {\n",
       "    border: 1px solid black;\n",
       "    border-collapse: collapse;\n",
       "  }\n",
       "  th, td {\n",
       "    padding: 5px;\n",
       "  }\n",
       "  th {\n",
       "    text-align: left;\n",
       "  }\n",
       "</style><div class='table-result-container'><table class='table-result'><thead style='background-color: white'><tr><th>id</th><th>name_1</th><th>value_1</th><th>id</th><th>name_2</th><th>value_2</th></tr></thead><tbody><tr><td>3</td><td>el_3</td><td>0.6549530011755194</td><td>3</td><td>el_3</td><td>0.08790908680161935</td></tr><tr><td>3</td><td>el_3</td><td>0.6549530011755194</td><td>8</td><td>el_3</td><td>0.7960072303842086</td></tr><tr><td>3</td><td>el_3</td><td>0.6549530011755194</td><td>13</td><td>el_3</td><td>0.5536661244195987</td></tr><tr><td>3</td><td>el_3</td><td>0.6549530011755194</td><td>18</td><td>el_3</td><td>0.48915867800083956</td></tr><tr><td>3</td><td>el_3</td><td>0.6549530011755194</td><td>23</td><td>el_3</td><td>0.8490749432844704</td></tr><tr><td>3</td><td>el_3</td><td>0.6549530011755194</td><td>28</td><td>el_3</td><td>0.37666133409479163</td></tr><tr><td>3</td><td>el_3</td><td>0.6549530011755194</td><td>33</td><td>el_3</td><td>0.3371268195970124</td></tr><tr><td>3</td><td>el_3</td><td>0.6549530011755194</td><td>38</td><td>el_3</td><td>0.5607556289234175</td></tr><tr><td>3</td><td>el_3</td><td>0.6549530011755194</td><td>43</td><td>el_3</td><td>0.2945374093128288</td></tr><tr><td>3</td><td>el_3</td><td>0.6549530011755194</td><td>48</td><td>el_3</td><td>0.6646834952198214</td></tr><tr><td>3</td><td>el_3</td><td>0.6549530011755194</td><td>53</td><td>el_3</td><td>0.7400686405426335</td></tr><tr><td>3</td><td>el_3</td><td>0.6549530011755194</td><td>58</td><td>el_3</td><td>0.9040162545565157</td></tr><tr><td>3</td><td>el_3</td><td>0.6549530011755194</td><td>63</td><td>el_3</td><td>0.20878482292719902</td></tr><tr><td>3</td><td>el_3</td><td>0.6549530011755194</td><td>68</td><td>el_3</td><td>0.8093158692816045</td></tr><tr><td>3</td><td>el_3</td><td>0.6549530011755194</td><td>73</td><td>el_3</td><td>0.750375383211149</td></tr></tbody></table></div>"
      ]
     },
     "metadata": {
      "application/vnd.databricks.v1+output": {
       "addedWidgets": {},
       "aggData": [],
       "aggError": "",
       "aggOverflow": false,
       "aggSchema": [],
       "aggSeriesLimitReached": false,
       "aggType": "",
       "arguments": {},
       "columnCustomDisplayInfos": {},
       "data": [
        [
         3,
         "el_3",
         0.6549530011755194,
         3,
         "el_3",
         0.08790908680161935
        ],
        [
         3,
         "el_3",
         0.6549530011755194,
         8,
         "el_3",
         0.7960072303842086
        ],
        [
         3,
         "el_3",
         0.6549530011755194,
         13,
         "el_3",
         0.5536661244195987
        ],
        [
         3,
         "el_3",
         0.6549530011755194,
         18,
         "el_3",
         0.48915867800083956
        ],
        [
         3,
         "el_3",
         0.6549530011755194,
         23,
         "el_3",
         0.8490749432844704
        ],
        [
         3,
         "el_3",
         0.6549530011755194,
         28,
         "el_3",
         0.37666133409479163
        ],
        [
         3,
         "el_3",
         0.6549530011755194,
         33,
         "el_3",
         0.3371268195970124
        ],
        [
         3,
         "el_3",
         0.6549530011755194,
         38,
         "el_3",
         0.5607556289234175
        ],
        [
         3,
         "el_3",
         0.6549530011755194,
         43,
         "el_3",
         0.2945374093128288
        ],
        [
         3,
         "el_3",
         0.6549530011755194,
         48,
         "el_3",
         0.6646834952198214
        ],
        [
         3,
         "el_3",
         0.6549530011755194,
         53,
         "el_3",
         0.7400686405426335
        ],
        [
         3,
         "el_3",
         0.6549530011755194,
         58,
         "el_3",
         0.9040162545565157
        ],
        [
         3,
         "el_3",
         0.6549530011755194,
         63,
         "el_3",
         0.20878482292719902
        ],
        [
         3,
         "el_3",
         0.6549530011755194,
         68,
         "el_3",
         0.8093158692816045
        ],
        [
         3,
         "el_3",
         0.6549530011755194,
         73,
         "el_3",
         0.750375383211149
        ]
       ],
       "datasetInfos": [],
       "dbfsResultPath": null,
       "isJsonSchema": true,
       "metadata": {},
       "overflow": false,
       "plotOptions": {
        "customPlotOptions": {},
        "displayType": "table",
        "pivotAggregation": null,
        "pivotColumns": null,
        "xColumns": null,
        "yColumns": null
       },
       "removedWidgets": [],
       "schema": [
        {
         "metadata": "{}",
         "name": "id",
         "type": "\"long\""
        },
        {
         "metadata": "{}",
         "name": "name_1",
         "type": "\"string\""
        },
        {
         "metadata": "{}",
         "name": "value_1",
         "type": "\"double\""
        },
        {
         "metadata": "{}",
         "name": "id",
         "type": "\"long\""
        },
        {
         "metadata": "{}",
         "name": "name_2",
         "type": "\"string\""
        },
        {
         "metadata": "{}",
         "name": "value_2",
         "type": "\"double\""
        }
       ],
       "type": "table"
      }
     },
     "output_type": "display_data"
    }
   ],
   "source": [
    "# INNER JOIN\n",
    "\n",
    "inner_join = df1.join(df2, df1.name_1 == df2.name_2, how='inner').dropDuplicates()\n",
    "display(inner_join.head(15))"
   ]
  },
  {
   "cell_type": "code",
   "execution_count": 0,
   "metadata": {
    "application/vnd.databricks.v1+cell": {
     "cellMetadata": {
      "byteLimit": 2048000,
      "rowLimit": 10000
     },
     "inputWidgets": {},
     "nuid": "697926a9-eae9-418e-bec4-32847ec9104f",
     "showTitle": false,
     "tableResultSettingsMap": {},
     "title": ""
    }
   },
   "outputs": [
    {
     "output_type": "display_data",
     "data": {
      "text/html": [
       "<style scoped>\n",
       "  .table-result-container {\n",
       "    max-height: 300px;\n",
       "    overflow: auto;\n",
       "  }\n",
       "  table, th, td {\n",
       "    border: 1px solid black;\n",
       "    border-collapse: collapse;\n",
       "  }\n",
       "  th, td {\n",
       "    padding: 5px;\n",
       "  }\n",
       "  th {\n",
       "    text-align: left;\n",
       "  }\n",
       "</style><div class='table-result-container'><table class='table-result'><thead style='background-color: white'><tr><th>id</th><th>name_1</th><th>value_1</th><th>id</th><th>name_2</th><th>value_2</th></tr></thead><tbody><tr><td>10</td><td>el_10</td><td>0.771309938018883</td><td>null</td><td>null</td><td>null</td></tr><tr><td>124931</td><td>el_124931</td><td>0.47478316972303436</td><td>null</td><td>null</td><td>null</td></tr><tr><td>124932</td><td>el_124932</td><td>0.3707347236973053</td><td>null</td><td>null</td><td>null</td></tr><tr><td>124934</td><td>el_124934</td><td>0.288437952449088</td><td>null</td><td>null</td><td>null</td></tr><tr><td>124942</td><td>el_124942</td><td>0.8911683291114412</td><td>null</td><td>null</td><td>null</td></tr><tr><td>14</td><td>el_14</td><td>0.8375661851837626</td><td>null</td><td>null</td><td>null</td></tr><tr><td>249864</td><td>el_249864</td><td>0.5121321057915621</td><td>null</td><td>null</td><td>null</td></tr><tr><td>249870</td><td>el_249870</td><td>0.8439538714190276</td><td>null</td><td>null</td><td>null</td></tr><tr><td>3</td><td>el_3</td><td>0.6549530011755194</td><td>3</td><td>el_3</td><td>0.08790908680161935</td></tr><tr><td>3</td><td>el_3</td><td>0.6549530011755194</td><td>8</td><td>el_3</td><td>0.7960072303842086</td></tr><tr><td>3</td><td>el_3</td><td>0.6549530011755194</td><td>13</td><td>el_3</td><td>0.5536661244195987</td></tr><tr><td>3</td><td>el_3</td><td>0.6549530011755194</td><td>18</td><td>el_3</td><td>0.48915867800083956</td></tr><tr><td>3</td><td>el_3</td><td>0.6549530011755194</td><td>23</td><td>el_3</td><td>0.8490749432844704</td></tr><tr><td>3</td><td>el_3</td><td>0.6549530011755194</td><td>28</td><td>el_3</td><td>0.37666133409479163</td></tr><tr><td>3</td><td>el_3</td><td>0.6549530011755194</td><td>33</td><td>el_3</td><td>0.3371268195970124</td></tr></tbody></table></div>"
      ]
     },
     "metadata": {
      "application/vnd.databricks.v1+output": {
       "addedWidgets": {},
       "aggData": [],
       "aggError": "",
       "aggOverflow": false,
       "aggSchema": [],
       "aggSeriesLimitReached": false,
       "aggType": "",
       "arguments": {},
       "columnCustomDisplayInfos": {},
       "data": [
        [
         10,
         "el_10",
         0.771309938018883,
         null,
         null,
         null
        ],
        [
         124931,
         "el_124931",
         0.47478316972303436,
         null,
         null,
         null
        ],
        [
         124932,
         "el_124932",
         0.3707347236973053,
         null,
         null,
         null
        ],
        [
         124934,
         "el_124934",
         0.288437952449088,
         null,
         null,
         null
        ],
        [
         124942,
         "el_124942",
         0.8911683291114412,
         null,
         null,
         null
        ],
        [
         14,
         "el_14",
         0.8375661851837626,
         null,
         null,
         null
        ],
        [
         249864,
         "el_249864",
         0.5121321057915621,
         null,
         null,
         null
        ],
        [
         249870,
         "el_249870",
         0.8439538714190276,
         null,
         null,
         null
        ],
        [
         3,
         "el_3",
         0.6549530011755194,
         3,
         "el_3",
         0.08790908680161935
        ],
        [
         3,
         "el_3",
         0.6549530011755194,
         8,
         "el_3",
         0.7960072303842086
        ],
        [
         3,
         "el_3",
         0.6549530011755194,
         13,
         "el_3",
         0.5536661244195987
        ],
        [
         3,
         "el_3",
         0.6549530011755194,
         18,
         "el_3",
         0.48915867800083956
        ],
        [
         3,
         "el_3",
         0.6549530011755194,
         23,
         "el_3",
         0.8490749432844704
        ],
        [
         3,
         "el_3",
         0.6549530011755194,
         28,
         "el_3",
         0.37666133409479163
        ],
        [
         3,
         "el_3",
         0.6549530011755194,
         33,
         "el_3",
         0.3371268195970124
        ]
       ],
       "datasetInfos": [],
       "dbfsResultPath": null,
       "isJsonSchema": true,
       "metadata": {},
       "overflow": false,
       "plotOptions": {
        "customPlotOptions": {},
        "displayType": "table",
        "pivotAggregation": null,
        "pivotColumns": null,
        "xColumns": null,
        "yColumns": null
       },
       "removedWidgets": [],
       "schema": [
        {
         "metadata": "{}",
         "name": "id",
         "type": "\"long\""
        },
        {
         "metadata": "{}",
         "name": "name_1",
         "type": "\"string\""
        },
        {
         "metadata": "{}",
         "name": "value_1",
         "type": "\"double\""
        },
        {
         "metadata": "{}",
         "name": "id",
         "type": "\"long\""
        },
        {
         "metadata": "{}",
         "name": "name_2",
         "type": "\"string\""
        },
        {
         "metadata": "{}",
         "name": "value_2",
         "type": "\"double\""
        }
       ],
       "type": "table"
      }
     },
     "output_type": "display_data"
    }
   ],
   "source": [
    "# LEFT JOIN\n",
    "\n",
    "left_join = df1.join(df2, df1.name_1 == df2.name_2, how='left')\n",
    "display(left_join.head(15))"
   ]
  },
  {
   "cell_type": "code",
   "execution_count": 0,
   "metadata": {
    "application/vnd.databricks.v1+cell": {
     "cellMetadata": {},
     "inputWidgets": {},
     "nuid": "a5a06b27-eac0-447e-a0b7-61a791d42900",
     "showTitle": false,
     "tableResultSettingsMap": {},
     "title": ""
    }
   },
   "outputs": [],
   "source": []
  }
 ],
 "metadata": {
  "application/vnd.databricks.v1+notebook": {
   "computePreferences": null,
   "dashboards": [],
   "environmentMetadata": {
    "base_environment": "",
    "environment_version": "1"
   },
   "inputWidgetPreferences": null,
   "language": "python",
   "notebookMetadata": {
    "pythonIndentUnit": 4
   },
   "notebookName": "Generator",
   "widgets": {}
  }
 },
 "nbformat": 4,
 "nbformat_minor": 0
}