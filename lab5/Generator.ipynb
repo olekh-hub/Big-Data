{
 "cells": [
  {
   "cell_type": "code",
   "execution_count": 0,
   "metadata": {
    "application/vnd.databricks.v1+cell": {
     "cellMetadata": {
      "byteLimit": 2048000,
      "rowLimit": 10000
     },
     "inputWidgets": {},
     "nuid": "fdd65d03-3a14-47c9-993f-708d41057565",
     "showTitle": false,
     "tableResultSettingsMap": {},
     "title": ""
    }
   },
   "outputs": [],
   "source": [
    "from pyspark.sql import SparkSession\n",
    "\n",
    "spark = SparkSession.builder.appName(\"Generator\").getOrCreate()"
   ]
  },
  {
   "cell_type": "code",
   "execution_count": 0,
   "metadata": {
    "application/vnd.databricks.v1+cell": {
     "cellMetadata": {
      "byteLimit": 2048000,
      "rowLimit": 10000
     },
     "inputWidgets": {},
     "nuid": "afc4a7fb-1595-4cb9-8cf1-ccb13feac729",
     "showTitle": false,
     "tableResultSettingsMap": {},
     "title": ""
    }
   },
   "outputs": [
    {
     "output_type": "display_data",
     "data": {
      "text/html": [
       "<style scoped>\n",
       "  .table-result-container {\n",
       "    max-height: 300px;\n",
       "    overflow: auto;\n",
       "  }\n",
       "  table, th, td {\n",
       "    border: 1px solid black;\n",
       "    border-collapse: collapse;\n",
       "  }\n",
       "  th, td {\n",
       "    padding: 5px;\n",
       "  }\n",
       "  th {\n",
       "    text-align: left;\n",
       "  }\n",
       "</style><div class='table-result-container'><table class='table-result'><thead style='background-color: white'><tr><th>id</th><th>name_1</th><th>value_1</th></tr></thead><tbody><tr><td>1</td><td>el_1</td><td>0.7547143233287125</td></tr><tr><td>2</td><td>el_2</td><td>0.5112012141236577</td></tr><tr><td>3</td><td>el_3</td><td>0.6814875451122858</td></tr><tr><td>4</td><td>el_4</td><td>0.43140137872974427</td></tr><tr><td>5</td><td>el_5</td><td>0.914505981528731</td></tr><tr><td>6</td><td>el_6</td><td>0.30460062576036895</td></tr><tr><td>7</td><td>el_7</td><td>0.9745592581332895</td></tr><tr><td>8</td><td>el_8</td><td>0.49104071636629076</td></tr><tr><td>9</td><td>el_9</td><td>0.704604048755366</td></tr></tbody></table></div>"
      ]
     },
     "metadata": {
      "application/vnd.databricks.v1+output": {
       "addedWidgets": {},
       "aggData": [],
       "aggError": "",
       "aggOverflow": false,
       "aggSchema": [],
       "aggSeriesLimitReached": false,
       "aggType": "",
       "arguments": {},
       "columnCustomDisplayInfos": {},
       "data": [
        [
         1,
         "el_1",
         0.7547143233287125
        ],
        [
         2,
         "el_2",
         0.5112012141236577
        ],
        [
         3,
         "el_3",
         0.6814875451122858
        ],
        [
         4,
         "el_4",
         0.43140137872974427
        ],
        [
         5,
         "el_5",
         0.914505981528731
        ],
        [
         6,
         "el_6",
         0.30460062576036895
        ],
        [
         7,
         "el_7",
         0.9745592581332895
        ],
        [
         8,
         "el_8",
         0.49104071636629076
        ],
        [
         9,
         "el_9",
         0.704604048755366
        ]
       ],
       "datasetInfos": [],
       "dbfsResultPath": null,
       "isJsonSchema": true,
       "metadata": {},
       "overflow": false,
       "plotOptions": {
        "customPlotOptions": {},
        "displayType": "table",
        "pivotAggregation": null,
        "pivotColumns": null,
        "xColumns": null,
        "yColumns": null
       },
       "removedWidgets": [],
       "schema": [
        {
         "metadata": "{}",
         "name": "id",
         "type": "\"integer\""
        },
        {
         "metadata": "{}",
         "name": "name_1",
         "type": "\"string\""
        },
        {
         "metadata": "{}",
         "name": "value_1",
         "type": "\"double\""
        }
       ],
       "type": "table"
      }
     },
     "output_type": "display_data"
    }
   ],
   "source": [
    "from pyspark.sql.types import StructType, StructField, IntegerType, StringType, DoubleType\n",
    "import random\n",
    "\n",
    "def data_generator():\n",
    "    for i in range(1,10):\n",
    "        yield (i, f\"el_{i}\", random.random())\n",
    "\n",
    "schema1 = StructType([\n",
    "    StructField('id', IntegerType(), True),\n",
    "    StructField('name_1', StringType(), True),\n",
    "    StructField('value_1', DoubleType(), True)\n",
    "])\n",
    "\n",
    "data = list(data_generator())\n",
    "df1 = spark.createDataFrame(data, schema=schema1)\n",
    "display(df1)"
   ]
  },
  {
   "cell_type": "code",
   "execution_count": 0,
   "metadata": {
    "application/vnd.databricks.v1+cell": {
     "cellMetadata": {
      "byteLimit": 2048000,
      "rowLimit": 10000
     },
     "inputWidgets": {},
     "nuid": "f4e99e40-6871-40d2-ac1e-98710e9560f5",
     "showTitle": false,
     "tableResultSettingsMap": {},
     "title": ""
    }
   },
   "outputs": [
    {
     "output_type": "display_data",
     "data": {
      "text/html": [
       "<style scoped>\n",
       "  .table-result-container {\n",
       "    max-height: 300px;\n",
       "    overflow: auto;\n",
       "  }\n",
       "  table, th, td {\n",
       "    border: 1px solid black;\n",
       "    border-collapse: collapse;\n",
       "  }\n",
       "  th, td {\n",
       "    padding: 5px;\n",
       "  }\n",
       "  th {\n",
       "    text-align: left;\n",
       "  }\n",
       "</style><div class='table-result-container'><table class='table-result'><thead style='background-color: white'><tr><th>id</th><th>name_2</th><th>value_2</th></tr></thead><tbody><tr><td>1</td><td>el_1</td><td>0.38386763934505075</td></tr><tr><td>2</td><td>el_2</td><td>0.09647537616758728</td></tr><tr><td>3</td><td>el_3</td><td>0.03411677330507579</td></tr><tr><td>4</td><td>el_4</td><td>0.3508702807622597</td></tr><tr><td>5</td><td>el_0</td><td>0.8732705647148803</td></tr><tr><td>6</td><td>el_1</td><td>0.43652629502938056</td></tr><tr><td>7</td><td>el_2</td><td>0.182607313050831</td></tr><tr><td>8</td><td>el_3</td><td>0.6570565567754806</td></tr><tr><td>9</td><td>el_4</td><td>0.3957987579267106</td></tr></tbody></table></div>"
      ]
     },
     "metadata": {
      "application/vnd.databricks.v1+output": {
       "addedWidgets": {},
       "aggData": [],
       "aggError": "",
       "aggOverflow": false,
       "aggSchema": [],
       "aggSeriesLimitReached": false,
       "aggType": "",
       "arguments": {},
       "columnCustomDisplayInfos": {},
       "data": [
        [
         1,
         "el_1",
         0.38386763934505075
        ],
        [
         2,
         "el_2",
         0.09647537616758728
        ],
        [
         3,
         "el_3",
         0.03411677330507579
        ],
        [
         4,
         "el_4",
         0.3508702807622597
        ],
        [
         5,
         "el_0",
         0.8732705647148803
        ],
        [
         6,
         "el_1",
         0.43652629502938056
        ],
        [
         7,
         "el_2",
         0.182607313050831
        ],
        [
         8,
         "el_3",
         0.6570565567754806
        ],
        [
         9,
         "el_4",
         0.3957987579267106
        ]
       ],
       "datasetInfos": [],
       "dbfsResultPath": null,
       "isJsonSchema": true,
       "metadata": {},
       "overflow": false,
       "plotOptions": {
        "customPlotOptions": {},
        "displayType": "table",
        "pivotAggregation": null,
        "pivotColumns": null,
        "xColumns": null,
        "yColumns": null
       },
       "removedWidgets": [],
       "schema": [
        {
         "metadata": "{}",
         "name": "id",
         "type": "\"integer\""
        },
        {
         "metadata": "{}",
         "name": "name_2",
         "type": "\"string\""
        },
        {
         "metadata": "{}",
         "name": "value_2",
         "type": "\"double\""
        }
       ],
       "type": "table"
      }
     },
     "output_type": "display_data"
    }
   ],
   "source": [
    "def data_generator():\n",
    "    for i in range(1, 10):\n",
    "        yield (i, f\"el_{i%5}\", random.random())\n",
    "\n",
    "data = list(data_generator())\n",
    "\n",
    "schema2 = StructType([\n",
    "    StructField('id', IntegerType(), True),\n",
    "    StructField('name_2', StringType(), True),\n",
    "    StructField('value_2', DoubleType(), True),\n",
    "])\n",
    "\n",
    "data = list(data_generator())\n",
    "df2 = spark.createDataFrame(data, schema=schema2)\n",
    "display(df2)"
   ]
  },
  {
   "cell_type": "code",
   "execution_count": 0,
   "metadata": {
    "application/vnd.databricks.v1+cell": {
     "cellMetadata": {
      "byteLimit": 2048000,
      "rowLimit": 10000
     },
     "inputWidgets": {},
     "nuid": "69d38b42-ec33-4646-871e-7e05632f836f",
     "showTitle": false,
     "tableResultSettingsMap": {},
     "title": ""
    }
   },
   "outputs": [
    {
     "output_type": "display_data",
     "data": {
      "text/html": [
       "<style scoped>\n",
       "  .table-result-container {\n",
       "    max-height: 300px;\n",
       "    overflow: auto;\n",
       "  }\n",
       "  table, th, td {\n",
       "    border: 1px solid black;\n",
       "    border-collapse: collapse;\n",
       "  }\n",
       "  th, td {\n",
       "    padding: 5px;\n",
       "  }\n",
       "  th {\n",
       "    text-align: left;\n",
       "  }\n",
       "</style><div class='table-result-container'><table class='table-result'><thead style='background-color: white'><tr><th>id</th><th>name_1</th><th>value_1</th><th>id</th><th>name_2</th><th>value_2</th></tr></thead><tbody><tr><td>1</td><td>el_1</td><td>0.7547143233287125</td><td>1</td><td>el_1</td><td>0.38386763934505075</td></tr><tr><td>1</td><td>el_1</td><td>0.7547143233287125</td><td>6</td><td>el_1</td><td>0.43652629502938056</td></tr><tr><td>2</td><td>el_2</td><td>0.5112012141236577</td><td>2</td><td>el_2</td><td>0.09647537616758728</td></tr><tr><td>2</td><td>el_2</td><td>0.5112012141236577</td><td>7</td><td>el_2</td><td>0.182607313050831</td></tr><tr><td>3</td><td>el_3</td><td>0.6814875451122858</td><td>3</td><td>el_3</td><td>0.03411677330507579</td></tr><tr><td>3</td><td>el_3</td><td>0.6814875451122858</td><td>8</td><td>el_3</td><td>0.6570565567754806</td></tr><tr><td>4</td><td>el_4</td><td>0.43140137872974427</td><td>4</td><td>el_4</td><td>0.3508702807622597</td></tr><tr><td>4</td><td>el_4</td><td>0.43140137872974427</td><td>9</td><td>el_4</td><td>0.3957987579267106</td></tr></tbody></table></div>"
      ]
     },
     "metadata": {
      "application/vnd.databricks.v1+output": {
       "addedWidgets": {},
       "aggData": [],
       "aggError": "",
       "aggOverflow": false,
       "aggSchema": [],
       "aggSeriesLimitReached": false,
       "aggType": "",
       "arguments": {},
       "columnCustomDisplayInfos": {},
       "data": [
        [
         1,
         "el_1",
         0.7547143233287125,
         1,
         "el_1",
         0.38386763934505075
        ],
        [
         1,
         "el_1",
         0.7547143233287125,
         6,
         "el_1",
         0.43652629502938056
        ],
        [
         2,
         "el_2",
         0.5112012141236577,
         2,
         "el_2",
         0.09647537616758728
        ],
        [
         2,
         "el_2",
         0.5112012141236577,
         7,
         "el_2",
         0.182607313050831
        ],
        [
         3,
         "el_3",
         0.6814875451122858,
         3,
         "el_3",
         0.03411677330507579
        ],
        [
         3,
         "el_3",
         0.6814875451122858,
         8,
         "el_3",
         0.6570565567754806
        ],
        [
         4,
         "el_4",
         0.43140137872974427,
         4,
         "el_4",
         0.3508702807622597
        ],
        [
         4,
         "el_4",
         0.43140137872974427,
         9,
         "el_4",
         0.3957987579267106
        ]
       ],
       "datasetInfos": [],
       "dbfsResultPath": null,
       "isJsonSchema": true,
       "metadata": {},
       "overflow": false,
       "plotOptions": {
        "customPlotOptions": {},
        "displayType": "table",
        "pivotAggregation": null,
        "pivotColumns": null,
        "xColumns": null,
        "yColumns": null
       },
       "removedWidgets": [],
       "schema": [
        {
         "metadata": "{}",
         "name": "id",
         "type": "\"integer\""
        },
        {
         "metadata": "{}",
         "name": "name_1",
         "type": "\"string\""
        },
        {
         "metadata": "{}",
         "name": "value_1",
         "type": "\"double\""
        },
        {
         "metadata": "{}",
         "name": "id",
         "type": "\"integer\""
        },
        {
         "metadata": "{}",
         "name": "name_2",
         "type": "\"string\""
        },
        {
         "metadata": "{}",
         "name": "value_2",
         "type": "\"double\""
        }
       ],
       "type": "table"
      }
     },
     "output_type": "display_data"
    }
   ],
   "source": [
    "# INNER JOIN\n",
    "\n",
    "inner_join = df1.join(df2, df1.name_1 == df2.name_2, how='inner').dropDuplicates()\n",
    "display(inner_join)"
   ]
  },
  {
   "cell_type": "code",
   "execution_count": 0,
   "metadata": {
    "application/vnd.databricks.v1+cell": {
     "cellMetadata": {
      "byteLimit": 2048000,
      "rowLimit": 10000
     },
     "inputWidgets": {},
     "nuid": "697926a9-eae9-418e-bec4-32847ec9104f",
     "showTitle": false,
     "tableResultSettingsMap": {},
     "title": ""
    }
   },
   "outputs": [
    {
     "output_type": "display_data",
     "data": {
      "text/html": [
       "<style scoped>\n",
       "  .table-result-container {\n",
       "    max-height: 300px;\n",
       "    overflow: auto;\n",
       "  }\n",
       "  table, th, td {\n",
       "    border: 1px solid black;\n",
       "    border-collapse: collapse;\n",
       "  }\n",
       "  th, td {\n",
       "    padding: 5px;\n",
       "  }\n",
       "  th {\n",
       "    text-align: left;\n",
       "  }\n",
       "</style><div class='table-result-container'><table class='table-result'><thead style='background-color: white'><tr><th>id</th><th>name_1</th><th>value_1</th><th>id</th><th>name_2</th><th>value_2</th></tr></thead><tbody><tr><td>1</td><td>el_1</td><td>0.7547143233287125</td><td>6</td><td>el_1</td><td>0.43652629502938056</td></tr><tr><td>1</td><td>el_1</td><td>0.7547143233287125</td><td>1</td><td>el_1</td><td>0.38386763934505075</td></tr><tr><td>2</td><td>el_2</td><td>0.5112012141236577</td><td>7</td><td>el_2</td><td>0.182607313050831</td></tr><tr><td>2</td><td>el_2</td><td>0.5112012141236577</td><td>2</td><td>el_2</td><td>0.09647537616758728</td></tr><tr><td>3</td><td>el_3</td><td>0.6814875451122858</td><td>8</td><td>el_3</td><td>0.6570565567754806</td></tr><tr><td>3</td><td>el_3</td><td>0.6814875451122858</td><td>3</td><td>el_3</td><td>0.03411677330507579</td></tr><tr><td>4</td><td>el_4</td><td>0.43140137872974427</td><td>9</td><td>el_4</td><td>0.3957987579267106</td></tr><tr><td>4</td><td>el_4</td><td>0.43140137872974427</td><td>4</td><td>el_4</td><td>0.3508702807622597</td></tr><tr><td>5</td><td>el_5</td><td>0.914505981528731</td><td>null</td><td>null</td><td>null</td></tr><tr><td>6</td><td>el_6</td><td>0.30460062576036895</td><td>null</td><td>null</td><td>null</td></tr><tr><td>7</td><td>el_7</td><td>0.9745592581332895</td><td>null</td><td>null</td><td>null</td></tr><tr><td>8</td><td>el_8</td><td>0.49104071636629076</td><td>null</td><td>null</td><td>null</td></tr><tr><td>9</td><td>el_9</td><td>0.704604048755366</td><td>null</td><td>null</td><td>null</td></tr></tbody></table></div>"
      ]
     },
     "metadata": {
      "application/vnd.databricks.v1+output": {
       "addedWidgets": {},
       "aggData": [],
       "aggError": "",
       "aggOverflow": false,
       "aggSchema": [],
       "aggSeriesLimitReached": false,
       "aggType": "",
       "arguments": {},
       "columnCustomDisplayInfos": {},
       "data": [
        [
         1,
         "el_1",
         0.7547143233287125,
         6,
         "el_1",
         0.43652629502938056
        ],
        [
         1,
         "el_1",
         0.7547143233287125,
         1,
         "el_1",
         0.38386763934505075
        ],
        [
         2,
         "el_2",
         0.5112012141236577,
         7,
         "el_2",
         0.182607313050831
        ],
        [
         2,
         "el_2",
         0.5112012141236577,
         2,
         "el_2",
         0.09647537616758728
        ],
        [
         3,
         "el_3",
         0.6814875451122858,
         8,
         "el_3",
         0.6570565567754806
        ],
        [
         3,
         "el_3",
         0.6814875451122858,
         3,
         "el_3",
         0.03411677330507579
        ],
        [
         4,
         "el_4",
         0.43140137872974427,
         9,
         "el_4",
         0.3957987579267106
        ],
        [
         4,
         "el_4",
         0.43140137872974427,
         4,
         "el_4",
         0.3508702807622597
        ],
        [
         5,
         "el_5",
         0.914505981528731,
         null,
         null,
         null
        ],
        [
         6,
         "el_6",
         0.30460062576036895,
         null,
         null,
         null
        ],
        [
         7,
         "el_7",
         0.9745592581332895,
         null,
         null,
         null
        ],
        [
         8,
         "el_8",
         0.49104071636629076,
         null,
         null,
         null
        ],
        [
         9,
         "el_9",
         0.704604048755366,
         null,
         null,
         null
        ]
       ],
       "datasetInfos": [],
       "dbfsResultPath": null,
       "isJsonSchema": true,
       "metadata": {},
       "overflow": false,
       "plotOptions": {
        "customPlotOptions": {},
        "displayType": "table",
        "pivotAggregation": null,
        "pivotColumns": null,
        "xColumns": null,
        "yColumns": null
       },
       "removedWidgets": [],
       "schema": [
        {
         "metadata": "{}",
         "name": "id",
         "type": "\"integer\""
        },
        {
         "metadata": "{}",
         "name": "name_1",
         "type": "\"string\""
        },
        {
         "metadata": "{}",
         "name": "value_1",
         "type": "\"double\""
        },
        {
         "metadata": "{}",
         "name": "id",
         "type": "\"integer\""
        },
        {
         "metadata": "{}",
         "name": "name_2",
         "type": "\"string\""
        },
        {
         "metadata": "{}",
         "name": "value_2",
         "type": "\"double\""
        }
       ],
       "type": "table"
      }
     },
     "output_type": "display_data"
    }
   ],
   "source": [
    "# LEFT JOIN\n",
    "\n",
    "left_join = df1.join(df2, df1.name_1 == df2.name_2, how='left').dropDuplicates()\n",
    "display(left_join)"
   ]
  },
  {
   "cell_type": "code",
   "execution_count": 0,
   "metadata": {
    "application/vnd.databricks.v1+cell": {
     "cellMetadata": {},
     "inputWidgets": {},
     "nuid": "a5a06b27-eac0-447e-a0b7-61a791d42900",
     "showTitle": false,
     "tableResultSettingsMap": {},
     "title": ""
    }
   },
   "outputs": [],
   "source": []
  }
 ],
 "metadata": {
  "application/vnd.databricks.v1+notebook": {
   "computePreferences": null,
   "dashboards": [],
   "environmentMetadata": {
    "base_environment": "",
    "environment_version": "1"
   },
   "inputWidgetPreferences": null,
   "language": "python",
   "notebookMetadata": {
    "pythonIndentUnit": 4
   },
   "notebookName": "Generator",
   "widgets": {}
  }
 },
 "nbformat": 4,
 "nbformat_minor": 0
}