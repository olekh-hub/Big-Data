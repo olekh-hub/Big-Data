{
 "cells": [
  {
   "cell_type": "code",
   "execution_count": 0,
   "metadata": {
    "application/vnd.databricks.v1+cell": {
     "cellMetadata": {
      "byteLimit": 2048000,
      "rowLimit": 10000
     },
     "inputWidgets": {},
     "nuid": "02e787d8-8cd6-4aec-ac7e-72f82814f11e",
     "showTitle": false,
     "tableResultSettingsMap": {},
     "title": ""
    }
   },
   "outputs": [],
   "source": [
    "from pyspark.sql.functions import *"
   ]
  },
  {
   "cell_type": "code",
   "execution_count": 0,
   "metadata": {
    "application/vnd.databricks.v1+cell": {
     "cellMetadata": {
      "byteLimit": 2048000,
      "rowLimit": 10000
     },
     "inputWidgets": {},
     "nuid": "8f5d96f0-0640-4145-9143-c545216ba2d5",
     "showTitle": false,
     "tableResultSettingsMap": {},
     "title": ""
    }
   },
   "outputs": [
    {
     "output_type": "display_data",
     "data": {
      "text/html": [
       "<style scoped>\n",
       "  .table-result-container {\n",
       "    max-height: 300px;\n",
       "    overflow: auto;\n",
       "  }\n",
       "  table, th, td {\n",
       "    border: 1px solid black;\n",
       "    border-collapse: collapse;\n",
       "  }\n",
       "  th, td {\n",
       "    padding: 5px;\n",
       "  }\n",
       "  th {\n",
       "    text-align: left;\n",
       "  }\n",
       "</style><div class='table-result-container'><table class='table-result'><thead style='background-color: white'><tr><th>AccountId</th><th>TranDate</th><th>TranAmt</th></tr></thead><tbody><tr><td>1</td><td>2011-01-01</td><td>500</td></tr><tr><td>1</td><td>2011-01-15</td><td>50</td></tr><tr><td>1</td><td>2011-01-22</td><td>250</td></tr><tr><td>1</td><td>2011-01-24</td><td>75</td></tr><tr><td>1</td><td>2011-01-26</td><td>125</td></tr><tr><td>1</td><td>2011-01-28</td><td>175</td></tr><tr><td>2</td><td>2011-01-01</td><td>500</td></tr><tr><td>2</td><td>2011-01-15</td><td>50</td></tr><tr><td>2</td><td>2011-01-22</td><td>25</td></tr><tr><td>2</td><td>2011-01-23</td><td>125</td></tr><tr><td>2</td><td>2011-01-26</td><td>200</td></tr><tr><td>2</td><td>2011-01-29</td><td>250</td></tr><tr><td>3</td><td>2011-01-01</td><td>500</td></tr><tr><td>3</td><td>2011-01-15</td><td>50</td></tr><tr><td>3</td><td>2011-01-22</td><td>5000</td></tr><tr><td>3</td><td>2011-01-25</td><td>550</td></tr><tr><td>3</td><td>2011-01-27</td><td>95</td></tr><tr><td>3</td><td>2011-01-30</td><td>2500</td></tr></tbody></table></div>"
      ]
     },
     "metadata": {
      "application/vnd.databricks.v1+output": {
       "addedWidgets": {},
       "aggData": [],
       "aggError": "",
       "aggOverflow": false,
       "aggSchema": [],
       "aggSeriesLimitReached": false,
       "aggType": "",
       "arguments": {},
       "columnCustomDisplayInfos": {},
       "data": [
        [
         1,
         "2011-01-01",
         500
        ],
        [
         1,
         "2011-01-15",
         50
        ],
        [
         1,
         "2011-01-22",
         250
        ],
        [
         1,
         "2011-01-24",
         75
        ],
        [
         1,
         "2011-01-26",
         125
        ],
        [
         1,
         "2011-01-28",
         175
        ],
        [
         2,
         "2011-01-01",
         500
        ],
        [
         2,
         "2011-01-15",
         50
        ],
        [
         2,
         "2011-01-22",
         25
        ],
        [
         2,
         "2011-01-23",
         125
        ],
        [
         2,
         "2011-01-26",
         200
        ],
        [
         2,
         "2011-01-29",
         250
        ],
        [
         3,
         "2011-01-01",
         500
        ],
        [
         3,
         "2011-01-15",
         50
        ],
        [
         3,
         "2011-01-22",
         5000
        ],
        [
         3,
         "2011-01-25",
         550
        ],
        [
         3,
         "2011-01-27",
         95
        ],
        [
         3,
         "2011-01-30",
         2500
        ]
       ],
       "datasetInfos": [],
       "dbfsResultPath": null,
       "isJsonSchema": true,
       "metadata": {},
       "overflow": false,
       "plotOptions": {
        "customPlotOptions": {},
        "displayType": "table",
        "pivotAggregation": null,
        "pivotColumns": null,
        "xColumns": null,
        "yColumns": null
       },
       "removedWidgets": [],
       "schema": [
        {
         "metadata": "{}",
         "name": "AccountId",
         "type": "\"integer\""
        },
        {
         "metadata": "{}",
         "name": "TranDate",
         "type": "\"date\""
        },
        {
         "metadata": "{}",
         "name": "TranAmt",
         "type": "\"integer\""
        }
       ],
       "type": "table"
      }
     },
     "output_type": "display_data"
    }
   ],
   "source": [
    "from pyspark.sql.types import *\n",
    "from datetime import datetime\n",
    "\n",
    "data = [( 1, datetime.strptime('2011-01-01', '%Y-%m-%d'), 500),\n",
    "        ( 1, datetime.strptime('2011-01-15', '%Y-%m-%d'), 50),\n",
    "        ( 1, datetime.strptime('2011-01-22', '%Y-%m-%d'), 250),\n",
    "        ( 1, datetime.strptime('2011-01-24', '%Y-%m-%d'), 75),\n",
    "        ( 1, datetime.strptime('2011-01-26', '%Y-%m-%d'), 125),\n",
    "        ( 1, datetime.strptime('2011-01-28', '%Y-%m-%d'), 175),\n",
    "        ( 2, datetime.strptime('2011-01-01', '%Y-%m-%d'), 500),\n",
    "        ( 2, datetime.strptime('2011-01-15', '%Y-%m-%d'), 50),\n",
    "        ( 2, datetime.strptime('2011-01-22', '%Y-%m-%d'), 25),\n",
    "        ( 2, datetime.strptime('2011-01-23', '%Y-%m-%d'), 125),\n",
    "        ( 2, datetime.strptime('2011-01-26', '%Y-%m-%d'), 200),\n",
    "        ( 2, datetime.strptime('2011-01-29', '%Y-%m-%d'), 250),\n",
    "        ( 3, datetime.strptime('2011-01-01', '%Y-%m-%d'), 500),\n",
    "        ( 3, datetime.strptime('2011-01-15', '%Y-%m-%d'), 50 ),\n",
    "        ( 3, datetime.strptime('2011-01-22', '%Y-%m-%d'), 5000),\n",
    "        ( 3, datetime.strptime('2011-01-25', '%Y-%m-%d'), 550),\n",
    "        ( 3, datetime.strptime('2011-01-27', '%Y-%m-%d'), 95 ),\n",
    "        ( 3, datetime.strptime('2011-01-30', '%Y-%m-%d'), 2500)]\n",
    "\n",
    "my_schema = StructType([\n",
    "    StructField(\"AccountId\", IntegerType(), False),\n",
    "    StructField(\"TranDate\", DateType(), False),\n",
    "    StructField(\"TranAmt\", IntegerType(), False)\n",
    "])\n",
    "\n",
    "Transactions = spark.createDataFrame(data, schema=my_schema)\n",
    "display(Transactions)"
   ]
  },
  {
   "cell_type": "code",
   "execution_count": 0,
   "metadata": {
    "application/vnd.databricks.v1+cell": {
     "cellMetadata": {
      "byteLimit": 2048000,
      "rowLimit": 10000
     },
     "inputWidgets": {},
     "nuid": "6ba398f4-ee98-46f2-be0f-08e64ab47ebf",
     "showTitle": false,
     "tableResultSettingsMap": {},
     "title": ""
    }
   },
   "outputs": [
    {
     "output_type": "display_data",
     "data": {
      "text/html": [
       "<style scoped>\n",
       "  .table-result-container {\n",
       "    max-height: 300px;\n",
       "    overflow: auto;\n",
       "  }\n",
       "  table, th, td {\n",
       "    border: 1px solid black;\n",
       "    border-collapse: collapse;\n",
       "  }\n",
       "  th, td {\n",
       "    padding: 5px;\n",
       "  }\n",
       "  th {\n",
       "    text-align: left;\n",
       "  }\n",
       "</style><div class='table-result-container'><table class='table-result'><thead style='background-color: white'><tr><th>RowID</th><th>FName</th><th>Salary</th></tr></thead><tbody><tr><td>1</td><td>George</td><td>800</td></tr><tr><td>2</td><td>Sam</td><td>950</td></tr><tr><td>3</td><td>Diane</td><td>1100</td></tr><tr><td>4</td><td>Nicholas</td><td>1250</td></tr><tr><td>5</td><td>Samuel</td><td>1250</td></tr><tr><td>6</td><td>Patricia</td><td>1300</td></tr><tr><td>7</td><td>Brian</td><td>1500</td></tr><tr><td>8</td><td>Thomas</td><td>1600</td></tr><tr><td>9</td><td>Fran</td><td>2450</td></tr><tr><td>10</td><td>Debbie</td><td>2850</td></tr><tr><td>11</td><td>Mark</td><td>2975</td></tr><tr><td>12</td><td>James</td><td>3000</td></tr><tr><td>13</td><td>Cynthia</td><td>3000</td></tr><tr><td>14</td><td>Christopher</td><td>5000</td></tr></tbody></table></div>"
      ]
     },
     "metadata": {
      "application/vnd.databricks.v1+output": {
       "addedWidgets": {},
       "aggData": [],
       "aggError": "",
       "aggOverflow": false,
       "aggSchema": [],
       "aggSeriesLimitReached": false,
       "aggType": "",
       "arguments": {},
       "columnCustomDisplayInfos": {},
       "data": [
        [
         1,
         "George",
         800
        ],
        [
         2,
         "Sam",
         950
        ],
        [
         3,
         "Diane",
         1100
        ],
        [
         4,
         "Nicholas",
         1250
        ],
        [
         5,
         "Samuel",
         1250
        ],
        [
         6,
         "Patricia",
         1300
        ],
        [
         7,
         "Brian",
         1500
        ],
        [
         8,
         "Thomas",
         1600
        ],
        [
         9,
         "Fran",
         2450
        ],
        [
         10,
         "Debbie",
         2850
        ],
        [
         11,
         "Mark",
         2975
        ],
        [
         12,
         "James",
         3000
        ],
        [
         13,
         "Cynthia",
         3000
        ],
        [
         14,
         "Christopher",
         5000
        ]
       ],
       "datasetInfos": [],
       "dbfsResultPath": null,
       "isJsonSchema": true,
       "metadata": {},
       "overflow": false,
       "plotOptions": {
        "customPlotOptions": {},
        "displayType": "table",
        "pivotAggregation": null,
        "pivotColumns": null,
        "xColumns": null,
        "yColumns": null
       },
       "removedWidgets": [],
       "schema": [
        {
         "metadata": "{}",
         "name": "RowID",
         "type": "\"integer\""
        },
        {
         "metadata": "{}",
         "name": "FName",
         "type": "\"string\""
        },
        {
         "metadata": "{}",
         "name": "Salary",
         "type": "\"integer\""
        }
       ],
       "type": "table"
      }
     },
     "output_type": "display_data"
    }
   ],
   "source": [
    "data = [(1,'George', 800),\n",
    "        (2,'Sam', 950),\n",
    "        (3,'Diane', 1100),\n",
    "        (4,'Nicholas', 1250),\n",
    "        (5,'Samuel', 1250),\n",
    "        (6,'Patricia', 1300),\n",
    "        (7,'Brian', 1500),\n",
    "        (8,'Thomas', 1600),\n",
    "        (9,'Fran', 2450),\n",
    "        (10,'Debbie', 2850),\n",
    "        (11,'Mark', 2975),\n",
    "        (12,'James', 3000),\n",
    "        (13,'Cynthia', 3000),\n",
    "        (14,'Christopher', 5000)]\n",
    "\n",
    "my_schema = StructType([\n",
    "    StructField('RowID', IntegerType(), False),\n",
    "    StructField('FName', StringType(), False),\n",
    "    StructField('Salary', IntegerType(), False)\n",
    "])\n",
    "\n",
    "logical = spark.createDataFrame(data, schema=my_schema)\n",
    "display(logical)"
   ]
  },
  {
   "cell_type": "code",
   "execution_count": 0,
   "metadata": {
    "application/vnd.databricks.v1+cell": {
     "cellMetadata": {
      "byteLimit": 2048000,
      "rowLimit": 10000
     },
     "inputWidgets": {},
     "nuid": "9e6e51f7-d50f-4cf6-91f0-3e7e45d38251",
     "showTitle": false,
     "tableResultSettingsMap": {},
     "title": ""
    }
   },
   "outputs": [
    {
     "output_type": "display_data",
     "data": {
      "text/html": [
       "<style scoped>\n",
       "  .table-result-container {\n",
       "    max-height: 300px;\n",
       "    overflow: auto;\n",
       "  }\n",
       "  table, th, td {\n",
       "    border: 1px solid black;\n",
       "    border-collapse: collapse;\n",
       "  }\n",
       "  th, td {\n",
       "    padding: 5px;\n",
       "  }\n",
       "  th {\n",
       "    text-align: left;\n",
       "  }\n",
       "</style><div class='table-result-container'><table class='table-result'><thead style='background-color: white'><tr><th>AccountId</th><th>TranDate</th><th>TranAmt</th><th>RunTotalAmt</th><th>RunAvg</th><th>RunTranQty</th><th>RunSmallAmt</th><th>RunLargeAmt</th></tr></thead><tbody><tr><td>1</td><td>2011-01-01</td><td>500</td><td>500</td><td>500.0</td><td>1</td><td>500</td><td>500</td></tr><tr><td>1</td><td>2011-01-15</td><td>50</td><td>550</td><td>275.0</td><td>2</td><td>50</td><td>500</td></tr><tr><td>1</td><td>2011-01-22</td><td>250</td><td>800</td><td>266.6666666666667</td><td>3</td><td>50</td><td>500</td></tr><tr><td>1</td><td>2011-01-24</td><td>75</td><td>875</td><td>218.75</td><td>4</td><td>50</td><td>500</td></tr><tr><td>1</td><td>2011-01-26</td><td>125</td><td>1000</td><td>200.0</td><td>5</td><td>50</td><td>500</td></tr><tr><td>1</td><td>2011-01-28</td><td>175</td><td>1175</td><td>195.83333333333334</td><td>6</td><td>50</td><td>500</td></tr><tr><td>2</td><td>2011-01-01</td><td>500</td><td>500</td><td>500.0</td><td>1</td><td>500</td><td>500</td></tr><tr><td>2</td><td>2011-01-15</td><td>50</td><td>550</td><td>275.0</td><td>2</td><td>50</td><td>500</td></tr><tr><td>2</td><td>2011-01-22</td><td>25</td><td>575</td><td>191.66666666666666</td><td>3</td><td>25</td><td>500</td></tr><tr><td>2</td><td>2011-01-23</td><td>125</td><td>700</td><td>175.0</td><td>4</td><td>25</td><td>500</td></tr><tr><td>2</td><td>2011-01-26</td><td>200</td><td>900</td><td>180.0</td><td>5</td><td>25</td><td>500</td></tr><tr><td>2</td><td>2011-01-29</td><td>250</td><td>1150</td><td>191.66666666666666</td><td>6</td><td>25</td><td>500</td></tr><tr><td>3</td><td>2011-01-01</td><td>500</td><td>500</td><td>500.0</td><td>1</td><td>500</td><td>500</td></tr><tr><td>3</td><td>2011-01-15</td><td>50</td><td>550</td><td>275.0</td><td>2</td><td>50</td><td>500</td></tr><tr><td>3</td><td>2011-01-22</td><td>5000</td><td>5550</td><td>1850.0</td><td>3</td><td>50</td><td>5000</td></tr><tr><td>3</td><td>2011-01-25</td><td>550</td><td>6100</td><td>1525.0</td><td>4</td><td>50</td><td>5000</td></tr><tr><td>3</td><td>2011-01-27</td><td>95</td><td>6195</td><td>1239.0</td><td>5</td><td>50</td><td>5000</td></tr><tr><td>3</td><td>2011-01-30</td><td>2500</td><td>8695</td><td>1449.1666666666667</td><td>6</td><td>50</td><td>5000</td></tr></tbody></table></div>"
      ]
     },
     "metadata": {
      "application/vnd.databricks.v1+output": {
       "addedWidgets": {},
       "aggData": [],
       "aggError": "",
       "aggOverflow": false,
       "aggSchema": [],
       "aggSeriesLimitReached": false,
       "aggType": "",
       "arguments": {},
       "columnCustomDisplayInfos": {},
       "data": [
        [
         1,
         "2011-01-01",
         500,
         500,
         500.0,
         1,
         500,
         500
        ],
        [
         1,
         "2011-01-15",
         50,
         550,
         275.0,
         2,
         50,
         500
        ],
        [
         1,
         "2011-01-22",
         250,
         800,
         266.6666666666667,
         3,
         50,
         500
        ],
        [
         1,
         "2011-01-24",
         75,
         875,
         218.75,
         4,
         50,
         500
        ],
        [
         1,
         "2011-01-26",
         125,
         1000,
         200.0,
         5,
         50,
         500
        ],
        [
         1,
         "2011-01-28",
         175,
         1175,
         195.83333333333334,
         6,
         50,
         500
        ],
        [
         2,
         "2011-01-01",
         500,
         500,
         500.0,
         1,
         500,
         500
        ],
        [
         2,
         "2011-01-15",
         50,
         550,
         275.0,
         2,
         50,
         500
        ],
        [
         2,
         "2011-01-22",
         25,
         575,
         191.66666666666666,
         3,
         25,
         500
        ],
        [
         2,
         "2011-01-23",
         125,
         700,
         175.0,
         4,
         25,
         500
        ],
        [
         2,
         "2011-01-26",
         200,
         900,
         180.0,
         5,
         25,
         500
        ],
        [
         2,
         "2011-01-29",
         250,
         1150,
         191.66666666666666,
         6,
         25,
         500
        ],
        [
         3,
         "2011-01-01",
         500,
         500,
         500.0,
         1,
         500,
         500
        ],
        [
         3,
         "2011-01-15",
         50,
         550,
         275.0,
         2,
         50,
         500
        ],
        [
         3,
         "2011-01-22",
         5000,
         5550,
         1850.0,
         3,
         50,
         5000
        ],
        [
         3,
         "2011-01-25",
         550,
         6100,
         1525.0,
         4,
         50,
         5000
        ],
        [
         3,
         "2011-01-27",
         95,
         6195,
         1239.0,
         5,
         50,
         5000
        ],
        [
         3,
         "2011-01-30",
         2500,
         8695,
         1449.1666666666667,
         6,
         50,
         5000
        ]
       ],
       "datasetInfos": [],
       "dbfsResultPath": null,
       "isJsonSchema": true,
       "metadata": {},
       "overflow": false,
       "plotOptions": {
        "customPlotOptions": {},
        "displayType": "table",
        "pivotAggregation": null,
        "pivotColumns": null,
        "xColumns": null,
        "yColumns": null
       },
       "removedWidgets": [],
       "schema": [
        {
         "metadata": "{}",
         "name": "AccountId",
         "type": "\"integer\""
        },
        {
         "metadata": "{}",
         "name": "TranDate",
         "type": "\"date\""
        },
        {
         "metadata": "{}",
         "name": "TranAmt",
         "type": "\"integer\""
        },
        {
         "metadata": "{}",
         "name": "RunTotalAmt",
         "type": "\"long\""
        },
        {
         "metadata": "{}",
         "name": "RunAvg",
         "type": "\"double\""
        },
        {
         "metadata": "{}",
         "name": "RunTranQty",
         "type": "\"long\""
        },
        {
         "metadata": "{}",
         "name": "RunSmallAmt",
         "type": "\"integer\""
        },
        {
         "metadata": "{}",
         "name": "RunLargeAmt",
         "type": "\"integer\""
        }
       ],
       "type": "table"
      }
     },
     "output_type": "display_data"
    }
   ],
   "source": [
    "from pyspark.sql.window import Window\n",
    "\n",
    "window_spec = Window.partitionBy('AccountId').orderBy('TranDate')\n",
    "\n",
    "part_df = Transactions.withColumn(\n",
    "    'RunTotalAmt', sum(\"TranAmt\").over(window_spec)).withColumn(\n",
    "    'RunAvg', avg(\"TranAmt\").over(window_spec)).withColumn(\n",
    "    'RunTranQty', count(\"*\").over(window_spec)).withColumn(\n",
    "    'RunSmallAmt', min('TranAmt').over(window_spec)).withColumn(\n",
    "    'RunLargeAmt', max('TranAmt').over(window_spec)).orderBy('AccountId', 'TranDate')\n",
    "    \n",
    "\n",
    "display(part_df)"
   ]
  },
  {
   "cell_type": "code",
   "execution_count": 0,
   "metadata": {
    "application/vnd.databricks.v1+cell": {
     "cellMetadata": {
      "byteLimit": 2048000,
      "rowLimit": 10000
     },
     "inputWidgets": {},
     "nuid": "f009a5f7-2811-48aa-9d46-1fba3cedb21f",
     "showTitle": false,
     "tableResultSettingsMap": {},
     "title": ""
    }
   },
   "outputs": [
    {
     "output_type": "display_data",
     "data": {
      "text/html": [
       "<style scoped>\n",
       "  .table-result-container {\n",
       "    max-height: 300px;\n",
       "    overflow: auto;\n",
       "  }\n",
       "  table, th, td {\n",
       "    border: 1px solid black;\n",
       "    border-collapse: collapse;\n",
       "  }\n",
       "  th, td {\n",
       "    padding: 5px;\n",
       "  }\n",
       "  th {\n",
       "    text-align: left;\n",
       "  }\n",
       "</style><div class='table-result-container'><table class='table-result'><thead style='background-color: white'><tr><th>AccountId</th><th>TranDate</th><th>TranAmt</th><th>SlideAvg</th><th>SlideQty</th><th>SlideMin</th><th>SlideMax</th><th>SlideTotal</th><th>Row Number</th></tr></thead><tbody><tr><td>1</td><td>2011-01-01</td><td>500</td><td>500.0</td><td>1</td><td>500</td><td>500</td><td>500</td><td>1</td></tr><tr><td>1</td><td>2011-01-15</td><td>50</td><td>275.0</td><td>2</td><td>50</td><td>500</td><td>550</td><td>2</td></tr><tr><td>1</td><td>2011-01-22</td><td>250</td><td>266.6666666666667</td><td>3</td><td>50</td><td>500</td><td>800</td><td>3</td></tr><tr><td>1</td><td>2011-01-24</td><td>75</td><td>125.0</td><td>3</td><td>50</td><td>250</td><td>375</td><td>4</td></tr><tr><td>1</td><td>2011-01-26</td><td>125</td><td>150.0</td><td>3</td><td>75</td><td>250</td><td>450</td><td>5</td></tr><tr><td>1</td><td>2011-01-28</td><td>175</td><td>125.0</td><td>3</td><td>75</td><td>175</td><td>375</td><td>6</td></tr><tr><td>2</td><td>2011-01-01</td><td>500</td><td>500.0</td><td>1</td><td>500</td><td>500</td><td>500</td><td>1</td></tr><tr><td>2</td><td>2011-01-15</td><td>50</td><td>275.0</td><td>2</td><td>50</td><td>500</td><td>550</td><td>2</td></tr><tr><td>2</td><td>2011-01-22</td><td>25</td><td>191.66666666666666</td><td>3</td><td>25</td><td>500</td><td>575</td><td>3</td></tr><tr><td>2</td><td>2011-01-23</td><td>125</td><td>66.66666666666667</td><td>3</td><td>25</td><td>125</td><td>200</td><td>4</td></tr><tr><td>2</td><td>2011-01-26</td><td>200</td><td>116.66666666666667</td><td>3</td><td>25</td><td>200</td><td>350</td><td>5</td></tr><tr><td>2</td><td>2011-01-29</td><td>250</td><td>191.66666666666666</td><td>3</td><td>125</td><td>250</td><td>575</td><td>6</td></tr><tr><td>3</td><td>2011-01-01</td><td>500</td><td>500.0</td><td>1</td><td>500</td><td>500</td><td>500</td><td>1</td></tr><tr><td>3</td><td>2011-01-15</td><td>50</td><td>275.0</td><td>2</td><td>50</td><td>500</td><td>550</td><td>2</td></tr><tr><td>3</td><td>2011-01-22</td><td>5000</td><td>1850.0</td><td>3</td><td>50</td><td>5000</td><td>5550</td><td>3</td></tr><tr><td>3</td><td>2011-01-25</td><td>550</td><td>1866.6666666666667</td><td>3</td><td>50</td><td>5000</td><td>5600</td><td>4</td></tr><tr><td>3</td><td>2011-01-27</td><td>95</td><td>1881.6666666666667</td><td>3</td><td>95</td><td>5000</td><td>5645</td><td>5</td></tr><tr><td>3</td><td>2011-01-30</td><td>2500</td><td>1048.3333333333333</td><td>3</td><td>95</td><td>2500</td><td>3145</td><td>6</td></tr></tbody></table></div>"
      ]
     },
     "metadata": {
      "application/vnd.databricks.v1+output": {
       "addedWidgets": {},
       "aggData": [],
       "aggError": "",
       "aggOverflow": false,
       "aggSchema": [],
       "aggSeriesLimitReached": false,
       "aggType": "",
       "arguments": {},
       "columnCustomDisplayInfos": {},
       "data": [
        [
         1,
         "2011-01-01",
         500,
         500.0,
         1,
         500,
         500,
         500,
         1
        ],
        [
         1,
         "2011-01-15",
         50,
         275.0,
         2,
         50,
         500,
         550,
         2
        ],
        [
         1,
         "2011-01-22",
         250,
         266.6666666666667,
         3,
         50,
         500,
         800,
         3
        ],
        [
         1,
         "2011-01-24",
         75,
         125.0,
         3,
         50,
         250,
         375,
         4
        ],
        [
         1,
         "2011-01-26",
         125,
         150.0,
         3,
         75,
         250,
         450,
         5
        ],
        [
         1,
         "2011-01-28",
         175,
         125.0,
         3,
         75,
         175,
         375,
         6
        ],
        [
         2,
         "2011-01-01",
         500,
         500.0,
         1,
         500,
         500,
         500,
         1
        ],
        [
         2,
         "2011-01-15",
         50,
         275.0,
         2,
         50,
         500,
         550,
         2
        ],
        [
         2,
         "2011-01-22",
         25,
         191.66666666666666,
         3,
         25,
         500,
         575,
         3
        ],
        [
         2,
         "2011-01-23",
         125,
         66.66666666666667,
         3,
         25,
         125,
         200,
         4
        ],
        [
         2,
         "2011-01-26",
         200,
         116.66666666666667,
         3,
         25,
         200,
         350,
         5
        ],
        [
         2,
         "2011-01-29",
         250,
         191.66666666666666,
         3,
         125,
         250,
         575,
         6
        ],
        [
         3,
         "2011-01-01",
         500,
         500.0,
         1,
         500,
         500,
         500,
         1
        ],
        [
         3,
         "2011-01-15",
         50,
         275.0,
         2,
         50,
         500,
         550,
         2
        ],
        [
         3,
         "2011-01-22",
         5000,
         1850.0,
         3,
         50,
         5000,
         5550,
         3
        ],
        [
         3,
         "2011-01-25",
         550,
         1866.6666666666667,
         3,
         50,
         5000,
         5600,
         4
        ],
        [
         3,
         "2011-01-27",
         95,
         1881.6666666666667,
         3,
         95,
         5000,
         5645,
         5
        ],
        [
         3,
         "2011-01-30",
         2500,
         1048.3333333333333,
         3,
         95,
         2500,
         3145,
         6
        ]
       ],
       "datasetInfos": [],
       "dbfsResultPath": null,
       "isJsonSchema": true,
       "metadata": {},
       "overflow": false,
       "plotOptions": {
        "customPlotOptions": {},
        "displayType": "table",
        "pivotAggregation": null,
        "pivotColumns": null,
        "xColumns": null,
        "yColumns": null
       },
       "removedWidgets": [],
       "schema": [
        {
         "metadata": "{}",
         "name": "AccountId",
         "type": "\"integer\""
        },
        {
         "metadata": "{}",
         "name": "TranDate",
         "type": "\"date\""
        },
        {
         "metadata": "{}",
         "name": "TranAmt",
         "type": "\"integer\""
        },
        {
         "metadata": "{}",
         "name": "SlideAvg",
         "type": "\"double\""
        },
        {
         "metadata": "{}",
         "name": "SlideQty",
         "type": "\"long\""
        },
        {
         "metadata": "{}",
         "name": "SlideMin",
         "type": "\"integer\""
        },
        {
         "metadata": "{}",
         "name": "SlideMax",
         "type": "\"integer\""
        },
        {
         "metadata": "{}",
         "name": "SlideTotal",
         "type": "\"long\""
        },
        {
         "metadata": "{}",
         "name": "Row Number",
         "type": "\"integer\""
        }
       ],
       "type": "table"
      }
     },
     "output_type": "display_data"
    }
   ],
   "source": [
    "window_spec = Window.partitionBy('AccountId').orderBy('TranDate').rowsBetween(-2, 0)\n",
    "window_spec_rn = Window.partitionBy('AccountId').orderBy('TranDate')\n",
    "\n",
    "sec_part_df = Transactions.withColumn(\n",
    "    'SlideAvg', avg('TranAmt').over(window_spec)).withColumn(\n",
    "        'SlideQty', count('*').over(window_spec)).withColumn(\n",
    "            'SlideMin', min('TranAmt').over(window_spec)).withColumn(\n",
    "                'SlideMax', max('TranAmt').over(window_spec)).withColumn(\n",
    "                    'SlideTotal', sum('TranAmt').over(window_spec)).withColumn(\n",
    "                        'Row Number', row_number().over(window_spec_rn)).orderBy('AccountId', 'TranDate')\n",
    "\n",
    "display(sec_part_df)"
   ]
  },
  {
   "cell_type": "code",
   "execution_count": 0,
   "metadata": {
    "application/vnd.databricks.v1+cell": {
     "cellMetadata": {
      "byteLimit": 2048000,
      "rowLimit": 10000
     },
     "inputWidgets": {},
     "nuid": "ba626517-d2be-48b1-8df8-c746b19507f1",
     "showTitle": false,
     "tableResultSettingsMap": {},
     "title": ""
    }
   },
   "outputs": [
    {
     "output_type": "display_data",
     "data": {
      "text/html": [
       "<style scoped>\n",
       "  .table-result-container {\n",
       "    max-height: 300px;\n",
       "    overflow: auto;\n",
       "  }\n",
       "  table, th, td {\n",
       "    border: 1px solid black;\n",
       "    border-collapse: collapse;\n",
       "  }\n",
       "  th, td {\n",
       "    padding: 5px;\n",
       "  }\n",
       "  th {\n",
       "    text-align: left;\n",
       "  }\n",
       "</style><div class='table-result-container'><table class='table-result'><thead style='background-color: white'><tr><th>RowID</th><th>FName</th><th>Salary</th><th>SumByRows</th><th>SumByRange</th></tr></thead><tbody><tr><td>1</td><td>George</td><td>800</td><td>800</td><td>800</td></tr><tr><td>2</td><td>Sam</td><td>950</td><td>1750</td><td>1750</td></tr><tr><td>3</td><td>Diane</td><td>1100</td><td>2850</td><td>2850</td></tr><tr><td>4</td><td>Nicholas</td><td>1250</td><td>4100</td><td>5350</td></tr><tr><td>5</td><td>Samuel</td><td>1250</td><td>5350</td><td>5350</td></tr><tr><td>6</td><td>Patricia</td><td>1300</td><td>6650</td><td>6650</td></tr><tr><td>7</td><td>Brian</td><td>1500</td><td>8150</td><td>8150</td></tr><tr><td>8</td><td>Thomas</td><td>1600</td><td>9750</td><td>9750</td></tr><tr><td>9</td><td>Fran</td><td>2450</td><td>12200</td><td>12200</td></tr><tr><td>10</td><td>Debbie</td><td>2850</td><td>15050</td><td>15050</td></tr><tr><td>11</td><td>Mark</td><td>2975</td><td>18025</td><td>18025</td></tr><tr><td>12</td><td>James</td><td>3000</td><td>21025</td><td>24025</td></tr><tr><td>13</td><td>Cynthia</td><td>3000</td><td>24025</td><td>24025</td></tr><tr><td>14</td><td>Christopher</td><td>5000</td><td>29025</td><td>29025</td></tr></tbody></table></div>"
      ]
     },
     "metadata": {
      "application/vnd.databricks.v1+output": {
       "addedWidgets": {},
       "aggData": [],
       "aggError": "",
       "aggOverflow": false,
       "aggSchema": [],
       "aggSeriesLimitReached": false,
       "aggType": "",
       "arguments": {},
       "columnCustomDisplayInfos": {},
       "data": [
        [
         1,
         "George",
         800,
         800,
         800
        ],
        [
         2,
         "Sam",
         950,
         1750,
         1750
        ],
        [
         3,
         "Diane",
         1100,
         2850,
         2850
        ],
        [
         4,
         "Nicholas",
         1250,
         4100,
         5350
        ],
        [
         5,
         "Samuel",
         1250,
         5350,
         5350
        ],
        [
         6,
         "Patricia",
         1300,
         6650,
         6650
        ],
        [
         7,
         "Brian",
         1500,
         8150,
         8150
        ],
        [
         8,
         "Thomas",
         1600,
         9750,
         9750
        ],
        [
         9,
         "Fran",
         2450,
         12200,
         12200
        ],
        [
         10,
         "Debbie",
         2850,
         15050,
         15050
        ],
        [
         11,
         "Mark",
         2975,
         18025,
         18025
        ],
        [
         12,
         "James",
         3000,
         21025,
         24025
        ],
        [
         13,
         "Cynthia",
         3000,
         24025,
         24025
        ],
        [
         14,
         "Christopher",
         5000,
         29025,
         29025
        ]
       ],
       "datasetInfos": [],
       "dbfsResultPath": null,
       "isJsonSchema": true,
       "metadata": {},
       "overflow": false,
       "plotOptions": {
        "customPlotOptions": {},
        "displayType": "table",
        "pivotAggregation": null,
        "pivotColumns": null,
        "xColumns": null,
        "yColumns": null
       },
       "removedWidgets": [],
       "schema": [
        {
         "metadata": "{}",
         "name": "RowID",
         "type": "\"integer\""
        },
        {
         "metadata": "{}",
         "name": "FName",
         "type": "\"string\""
        },
        {
         "metadata": "{}",
         "name": "Salary",
         "type": "\"integer\""
        },
        {
         "metadata": "{}",
         "name": "SumByRows",
         "type": "\"long\""
        },
        {
         "metadata": "{}",
         "name": "SumByRange",
         "type": "\"long\""
        }
       ],
       "type": "table"
      }
     },
     "output_type": "display_data"
    }
   ],
   "source": [
    "window_rows = Window.orderBy(\"Salary\").rowsBetween(Window.unboundedPreceding, Window.currentRow)\n",
    "window_range = Window.orderBy(\"Salary\").rangeBetween(Window.unboundedPreceding, Window.currentRow)\n",
    "\n",
    "df = logical.withColumn(\"SumByRows\", sum(\"Salary\").over(window_rows)) \\\n",
    "       .withColumn(\"SumByRange\", sum(\"Salary\").over(window_range))\n",
    "\n",
    "display(df.orderBy('RowID'))"
   ]
  },
  {
   "cell_type": "code",
   "execution_count": 0,
   "metadata": {
    "application/vnd.databricks.v1+cell": {
     "cellMetadata": {},
     "inputWidgets": {},
     "nuid": "81d3b85d-7bd0-4287-aa4a-8204a6184468",
     "showTitle": false,
     "tableResultSettingsMap": {},
     "title": ""
    }
   },
   "outputs": [],
   "source": []
  }
 ],
 "metadata": {
  "application/vnd.databricks.v1+notebook": {
   "computePreferences": null,
   "dashboards": [],
   "environmentMetadata": {
    "base_environment": "",
    "environment_version": "1"
   },
   "inputWidgetPreferences": null,
   "language": "python",
   "notebookMetadata": {
    "pythonIndentUnit": 4
   },
   "notebookName": "cw3",
   "widgets": {}
  }
 },
 "nbformat": 4,
 "nbformat_minor": 0
}