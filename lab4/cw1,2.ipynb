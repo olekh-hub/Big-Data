{
 "cells": [
  {
   "cell_type": "code",
   "execution_count": 0,
   "metadata": {
    "application/vnd.databricks.v1+cell": {
     "cellMetadata": {
      "byteLimit": 2048000,
      "rowLimit": 10000
     },
     "inputWidgets": {},
     "nuid": "73063619-aac8-4b2a-ac36-7444568a87fd",
     "showTitle": false,
     "tableResultSettingsMap": {},
     "title": ""
    }
   },
   "outputs": [],
   "source": [
    "from pyspark.sql.types import *\n",
    "schema = StructType([\n",
    "    StructField(\"fixed acidity\", DoubleType(), False),\n",
    "    StructField(\"volatile acidity\", DoubleType(), False),\n",
    "    StructField(\"citric acid\", DoubleType(), False),\n",
    "    StructField(\"residual sugar\", DoubleType(), False),\n",
    "    StructField(\"chlorides\", DoubleType(), False),\n",
    "    StructField(\"free sulfur dioxide\", IntegerType(), False),\n",
    "    StructField(\"total sulfur dioxide\", IntegerType(), False),\n",
    "    StructField(\"density\", DoubleType(), False),\n",
    "    StructField(\"pH\", DoubleType(), False),\n",
    "    StructField(\"suplhates\", DoubleType(), False),\n",
    "    StructField(\"alcohol\", DoubleType(), False),\n",
    "    StructField(\"quality\", IntegerType(), False),\n",
    "])\n"
   ]
  },
  {
   "cell_type": "code",
   "execution_count": 0,
   "metadata": {
    "application/vnd.databricks.v1+cell": {
     "cellMetadata": {
      "byteLimit": 2048000,
      "rowLimit": 10000
     },
     "inputWidgets": {},
     "nuid": "681938de-7765-4462-98ae-6493b6ae7eca",
     "showTitle": false,
     "tableResultSettingsMap": {},
     "title": ""
    }
   },
   "outputs": [
    {
     "output_type": "display_data",
     "data": {
      "text/html": [
       "<style scoped>\n",
       "  .table-result-container {\n",
       "    max-height: 300px;\n",
       "    overflow: auto;\n",
       "  }\n",
       "  table, th, td {\n",
       "    border: 1px solid black;\n",
       "    border-collapse: collapse;\n",
       "  }\n",
       "  th, td {\n",
       "    padding: 5px;\n",
       "  }\n",
       "  th {\n",
       "    text-align: left;\n",
       "  }\n",
       "</style><div class='table-result-container'><table class='table-result'><thead style='background-color: white'><tr><th>path</th><th>name</th><th>size</th><th>modificationTime</th></tr></thead><tbody><tr><td>dbfs:/databricks-datasets/COVID/</td><td>COVID/</td><td>0</td><td>0</td></tr><tr><td>dbfs:/databricks-datasets/README.md</td><td>README.md</td><td>976</td><td>1532468253000</td></tr><tr><td>dbfs:/databricks-datasets/Rdatasets/</td><td>Rdatasets/</td><td>0</td><td>0</td></tr><tr><td>dbfs:/databricks-datasets/SPARK_README.md</td><td>SPARK_README.md</td><td>3359</td><td>1455043490000</td></tr><tr><td>dbfs:/databricks-datasets/adult/</td><td>adult/</td><td>0</td><td>0</td></tr><tr><td>dbfs:/databricks-datasets/airlines/</td><td>airlines/</td><td>0</td><td>0</td></tr><tr><td>dbfs:/databricks-datasets/amazon/</td><td>amazon/</td><td>0</td><td>0</td></tr><tr><td>dbfs:/databricks-datasets/asa/</td><td>asa/</td><td>0</td><td>0</td></tr><tr><td>dbfs:/databricks-datasets/atlas_higgs/</td><td>atlas_higgs/</td><td>0</td><td>0</td></tr><tr><td>dbfs:/databricks-datasets/bikeSharing/</td><td>bikeSharing/</td><td>0</td><td>0</td></tr><tr><td>dbfs:/databricks-datasets/cctvVideos/</td><td>cctvVideos/</td><td>0</td><td>0</td></tr><tr><td>dbfs:/databricks-datasets/credit-card-fraud/</td><td>credit-card-fraud/</td><td>0</td><td>0</td></tr><tr><td>dbfs:/databricks-datasets/cs100/</td><td>cs100/</td><td>0</td><td>0</td></tr><tr><td>dbfs:/databricks-datasets/cs110x/</td><td>cs110x/</td><td>0</td><td>0</td></tr><tr><td>dbfs:/databricks-datasets/cs190/</td><td>cs190/</td><td>0</td><td>0</td></tr><tr><td>dbfs:/databricks-datasets/data.gov/</td><td>data.gov/</td><td>0</td><td>0</td></tr><tr><td>dbfs:/databricks-datasets/definitive-guide/</td><td>definitive-guide/</td><td>0</td><td>0</td></tr><tr><td>dbfs:/databricks-datasets/delta-sharing/</td><td>delta-sharing/</td><td>0</td><td>0</td></tr><tr><td>dbfs:/databricks-datasets/flights/</td><td>flights/</td><td>0</td><td>0</td></tr><tr><td>dbfs:/databricks-datasets/flower_photos/</td><td>flower_photos/</td><td>0</td><td>0</td></tr><tr><td>dbfs:/databricks-datasets/flowers/</td><td>flowers/</td><td>0</td><td>0</td></tr><tr><td>dbfs:/databricks-datasets/genomics/</td><td>genomics/</td><td>0</td><td>0</td></tr><tr><td>dbfs:/databricks-datasets/hail/</td><td>hail/</td><td>0</td><td>0</td></tr><tr><td>dbfs:/databricks-datasets/identifying-campaign-effectiveness/</td><td>identifying-campaign-effectiveness/</td><td>0</td><td>0</td></tr><tr><td>dbfs:/databricks-datasets/iot/</td><td>iot/</td><td>0</td><td>0</td></tr><tr><td>dbfs:/databricks-datasets/iot-stream/</td><td>iot-stream/</td><td>0</td><td>0</td></tr><tr><td>dbfs:/databricks-datasets/learning-spark/</td><td>learning-spark/</td><td>0</td><td>0</td></tr><tr><td>dbfs:/databricks-datasets/learning-spark-v2/</td><td>learning-spark-v2/</td><td>0</td><td>0</td></tr><tr><td>dbfs:/databricks-datasets/lending-club-loan-stats/</td><td>lending-club-loan-stats/</td><td>0</td><td>0</td></tr><tr><td>dbfs:/databricks-datasets/med-images/</td><td>med-images/</td><td>0</td><td>0</td></tr><tr><td>dbfs:/databricks-datasets/media/</td><td>media/</td><td>0</td><td>0</td></tr><tr><td>dbfs:/databricks-datasets/mnist-digits/</td><td>mnist-digits/</td><td>0</td><td>0</td></tr><tr><td>dbfs:/databricks-datasets/news20.binary/</td><td>news20.binary/</td><td>0</td><td>0</td></tr><tr><td>dbfs:/databricks-datasets/nyctaxi/</td><td>nyctaxi/</td><td>0</td><td>0</td></tr><tr><td>dbfs:/databricks-datasets/nyctaxi-with-zipcodes/</td><td>nyctaxi-with-zipcodes/</td><td>0</td><td>0</td></tr><tr><td>dbfs:/databricks-datasets/online_retail/</td><td>online_retail/</td><td>0</td><td>0</td></tr><tr><td>dbfs:/databricks-datasets/overlap-join/</td><td>overlap-join/</td><td>0</td><td>0</td></tr><tr><td>dbfs:/databricks-datasets/power-plant/</td><td>power-plant/</td><td>0</td><td>0</td></tr><tr><td>dbfs:/databricks-datasets/retail-org/</td><td>retail-org/</td><td>0</td><td>0</td></tr><tr><td>dbfs:/databricks-datasets/rwe/</td><td>rwe/</td><td>0</td><td>0</td></tr><tr><td>dbfs:/databricks-datasets/sai-summit-2019-sf/</td><td>sai-summit-2019-sf/</td><td>0</td><td>0</td></tr><tr><td>dbfs:/databricks-datasets/sample_logs/</td><td>sample_logs/</td><td>0</td><td>0</td></tr><tr><td>dbfs:/databricks-datasets/samples/</td><td>samples/</td><td>0</td><td>0</td></tr><tr><td>dbfs:/databricks-datasets/sfo_customer_survey/</td><td>sfo_customer_survey/</td><td>0</td><td>0</td></tr><tr><td>dbfs:/databricks-datasets/sms_spam_collection/</td><td>sms_spam_collection/</td><td>0</td><td>0</td></tr><tr><td>dbfs:/databricks-datasets/songs/</td><td>songs/</td><td>0</td><td>0</td></tr><tr><td>dbfs:/databricks-datasets/structured-streaming/</td><td>structured-streaming/</td><td>0</td><td>0</td></tr><tr><td>dbfs:/databricks-datasets/timeseries/</td><td>timeseries/</td><td>0</td><td>0</td></tr><tr><td>dbfs:/databricks-datasets/tpch/</td><td>tpch/</td><td>0</td><td>0</td></tr><tr><td>dbfs:/databricks-datasets/travel_recommendations_realtime/</td><td>travel_recommendations_realtime/</td><td>0</td><td>0</td></tr><tr><td>dbfs:/databricks-datasets/warmup/</td><td>warmup/</td><td>0</td><td>0</td></tr><tr><td>dbfs:/databricks-datasets/weather/</td><td>weather/</td><td>0</td><td>0</td></tr><tr><td>dbfs:/databricks-datasets/wiki/</td><td>wiki/</td><td>0</td><td>0</td></tr><tr><td>dbfs:/databricks-datasets/wikipedia-datasets/</td><td>wikipedia-datasets/</td><td>0</td><td>0</td></tr><tr><td>dbfs:/databricks-datasets/wine-quality/</td><td>wine-quality/</td><td>0</td><td>0</td></tr></tbody></table></div>"
      ]
     },
     "metadata": {
      "application/vnd.databricks.v1+output": {
       "addedWidgets": {},
       "aggData": [],
       "aggError": "",
       "aggOverflow": false,
       "aggSchema": [],
       "aggSeriesLimitReached": false,
       "aggType": "",
       "arguments": {},
       "columnCustomDisplayInfos": {},
       "data": [
        [
         "dbfs:/databricks-datasets/COVID/",
         "COVID/",
         0,
         0
        ],
        [
         "dbfs:/databricks-datasets/README.md",
         "README.md",
         976,
         1532468253000
        ],
        [
         "dbfs:/databricks-datasets/Rdatasets/",
         "Rdatasets/",
         0,
         0
        ],
        [
         "dbfs:/databricks-datasets/SPARK_README.md",
         "SPARK_README.md",
         3359,
         1455043490000
        ],
        [
         "dbfs:/databricks-datasets/adult/",
         "adult/",
         0,
         0
        ],
        [
         "dbfs:/databricks-datasets/airlines/",
         "airlines/",
         0,
         0
        ],
        [
         "dbfs:/databricks-datasets/amazon/",
         "amazon/",
         0,
         0
        ],
        [
         "dbfs:/databricks-datasets/asa/",
         "asa/",
         0,
         0
        ],
        [
         "dbfs:/databricks-datasets/atlas_higgs/",
         "atlas_higgs/",
         0,
         0
        ],
        [
         "dbfs:/databricks-datasets/bikeSharing/",
         "bikeSharing/",
         0,
         0
        ],
        [
         "dbfs:/databricks-datasets/cctvVideos/",
         "cctvVideos/",
         0,
         0
        ],
        [
         "dbfs:/databricks-datasets/credit-card-fraud/",
         "credit-card-fraud/",
         0,
         0
        ],
        [
         "dbfs:/databricks-datasets/cs100/",
         "cs100/",
         0,
         0
        ],
        [
         "dbfs:/databricks-datasets/cs110x/",
         "cs110x/",
         0,
         0
        ],
        [
         "dbfs:/databricks-datasets/cs190/",
         "cs190/",
         0,
         0
        ],
        [
         "dbfs:/databricks-datasets/data.gov/",
         "data.gov/",
         0,
         0
        ],
        [
         "dbfs:/databricks-datasets/definitive-guide/",
         "definitive-guide/",
         0,
         0
        ],
        [
         "dbfs:/databricks-datasets/delta-sharing/",
         "delta-sharing/",
         0,
         0
        ],
        [
         "dbfs:/databricks-datasets/flights/",
         "flights/",
         0,
         0
        ],
        [
         "dbfs:/databricks-datasets/flower_photos/",
         "flower_photos/",
         0,
         0
        ],
        [
         "dbfs:/databricks-datasets/flowers/",
         "flowers/",
         0,
         0
        ],
        [
         "dbfs:/databricks-datasets/genomics/",
         "genomics/",
         0,
         0
        ],
        [
         "dbfs:/databricks-datasets/hail/",
         "hail/",
         0,
         0
        ],
        [
         "dbfs:/databricks-datasets/identifying-campaign-effectiveness/",
         "identifying-campaign-effectiveness/",
         0,
         0
        ],
        [
         "dbfs:/databricks-datasets/iot/",
         "iot/",
         0,
         0
        ],
        [
         "dbfs:/databricks-datasets/iot-stream/",
         "iot-stream/",
         0,
         0
        ],
        [
         "dbfs:/databricks-datasets/learning-spark/",
         "learning-spark/",
         0,
         0
        ],
        [
         "dbfs:/databricks-datasets/learning-spark-v2/",
         "learning-spark-v2/",
         0,
         0
        ],
        [
         "dbfs:/databricks-datasets/lending-club-loan-stats/",
         "lending-club-loan-stats/",
         0,
         0
        ],
        [
         "dbfs:/databricks-datasets/med-images/",
         "med-images/",
         0,
         0
        ],
        [
         "dbfs:/databricks-datasets/media/",
         "media/",
         0,
         0
        ],
        [
         "dbfs:/databricks-datasets/mnist-digits/",
         "mnist-digits/",
         0,
         0
        ],
        [
         "dbfs:/databricks-datasets/news20.binary/",
         "news20.binary/",
         0,
         0
        ],
        [
         "dbfs:/databricks-datasets/nyctaxi/",
         "nyctaxi/",
         0,
         0
        ],
        [
         "dbfs:/databricks-datasets/nyctaxi-with-zipcodes/",
         "nyctaxi-with-zipcodes/",
         0,
         0
        ],
        [
         "dbfs:/databricks-datasets/online_retail/",
         "online_retail/",
         0,
         0
        ],
        [
         "dbfs:/databricks-datasets/overlap-join/",
         "overlap-join/",
         0,
         0
        ],
        [
         "dbfs:/databricks-datasets/power-plant/",
         "power-plant/",
         0,
         0
        ],
        [
         "dbfs:/databricks-datasets/retail-org/",
         "retail-org/",
         0,
         0
        ],
        [
         "dbfs:/databricks-datasets/rwe/",
         "rwe/",
         0,
         0
        ],
        [
         "dbfs:/databricks-datasets/sai-summit-2019-sf/",
         "sai-summit-2019-sf/",
         0,
         0
        ],
        [
         "dbfs:/databricks-datasets/sample_logs/",
         "sample_logs/",
         0,
         0
        ],
        [
         "dbfs:/databricks-datasets/samples/",
         "samples/",
         0,
         0
        ],
        [
         "dbfs:/databricks-datasets/sfo_customer_survey/",
         "sfo_customer_survey/",
         0,
         0
        ],
        [
         "dbfs:/databricks-datasets/sms_spam_collection/",
         "sms_spam_collection/",
         0,
         0
        ],
        [
         "dbfs:/databricks-datasets/songs/",
         "songs/",
         0,
         0
        ],
        [
         "dbfs:/databricks-datasets/structured-streaming/",
         "structured-streaming/",
         0,
         0
        ],
        [
         "dbfs:/databricks-datasets/timeseries/",
         "timeseries/",
         0,
         0
        ],
        [
         "dbfs:/databricks-datasets/tpch/",
         "tpch/",
         0,
         0
        ],
        [
         "dbfs:/databricks-datasets/travel_recommendations_realtime/",
         "travel_recommendations_realtime/",
         0,
         0
        ],
        [
         "dbfs:/databricks-datasets/warmup/",
         "warmup/",
         0,
         0
        ],
        [
         "dbfs:/databricks-datasets/weather/",
         "weather/",
         0,
         0
        ],
        [
         "dbfs:/databricks-datasets/wiki/",
         "wiki/",
         0,
         0
        ],
        [
         "dbfs:/databricks-datasets/wikipedia-datasets/",
         "wikipedia-datasets/",
         0,
         0
        ],
        [
         "dbfs:/databricks-datasets/wine-quality/",
         "wine-quality/",
         0,
         0
        ]
       ],
       "datasetInfos": [],
       "dbfsResultPath": null,
       "isJsonSchema": true,
       "metadata": {},
       "overflow": false,
       "plotOptions": {
        "customPlotOptions": {},
        "displayType": "table",
        "pivotAggregation": null,
        "pivotColumns": null,
        "xColumns": null,
        "yColumns": null
       },
       "removedWidgets": [],
       "schema": [
        {
         "metadata": "{}",
         "name": "path",
         "type": "\"string\""
        },
        {
         "metadata": "{}",
         "name": "name",
         "type": "\"string\""
        },
        {
         "metadata": "{}",
         "name": "size",
         "type": "\"long\""
        },
        {
         "metadata": "{}",
         "name": "modificationTime",
         "type": "\"long\""
        }
       ],
       "type": "table"
      }
     },
     "output_type": "display_data"
    }
   ],
   "source": [
    "display(dbutils.fs.ls('/databricks-datasets'))\n"
   ]
  },
  {
   "cell_type": "code",
   "execution_count": 0,
   "metadata": {
    "application/vnd.databricks.v1+cell": {
     "cellMetadata": {
      "byteLimit": 2048000,
      "rowLimit": 10000
     },
     "inputWidgets": {},
     "nuid": "b41dc08e-8b3a-4db2-b7c0-36233e21d7ef",
     "showTitle": false,
     "tableResultSettingsMap": {},
     "title": ""
    }
   },
   "outputs": [
    {
     "output_type": "display_data",
     "data": {
      "text/html": [
       "<style scoped>\n",
       "  .table-result-container {\n",
       "    max-height: 300px;\n",
       "    overflow: auto;\n",
       "  }\n",
       "  table, th, td {\n",
       "    border: 1px solid black;\n",
       "    border-collapse: collapse;\n",
       "  }\n",
       "  th, td {\n",
       "    padding: 5px;\n",
       "  }\n",
       "  th {\n",
       "    text-align: left;\n",
       "  }\n",
       "</style><div class='table-result-container'><table class='table-result'><thead style='background-color: white'><tr><th>fixed acidity</th><th>volatile acidity</th><th>citric acid</th><th>residual sugar</th><th>chlorides</th><th>free sulfur dioxide</th><th>total sulfur dioxide</th><th>density</th><th>pH</th><th>suplhates</th><th>alcohol</th><th>quality</th></tr></thead><tbody><tr><td>7.0</td><td>0.27</td><td>0.36</td><td>20.7</td><td>0.045</td><td>45</td><td>170</td><td>1.001</td><td>3.0</td><td>0.45</td><td>8.8</td><td>6</td></tr><tr><td>6.3</td><td>0.3</td><td>0.34</td><td>1.6</td><td>0.049</td><td>14</td><td>132</td><td>0.994</td><td>3.3</td><td>0.49</td><td>9.5</td><td>6</td></tr><tr><td>8.1</td><td>0.28</td><td>0.4</td><td>6.9</td><td>0.05</td><td>30</td><td>97</td><td>0.9951</td><td>3.26</td><td>0.44</td><td>10.1</td><td>6</td></tr><tr><td>7.2</td><td>0.23</td><td>0.32</td><td>8.5</td><td>0.058</td><td>47</td><td>186</td><td>0.9956</td><td>3.19</td><td>0.4</td><td>9.9</td><td>6</td></tr><tr><td>7.2</td><td>0.23</td><td>0.32</td><td>8.5</td><td>0.058</td><td>47</td><td>186</td><td>0.9956</td><td>3.19</td><td>0.4</td><td>9.9</td><td>6</td></tr></tbody></table></div>"
      ]
     },
     "metadata": {
      "application/vnd.databricks.v1+output": {
       "addedWidgets": {},
       "aggData": [],
       "aggError": "",
       "aggOverflow": false,
       "aggSchema": [],
       "aggSeriesLimitReached": false,
       "aggType": "",
       "arguments": {},
       "columnCustomDisplayInfos": {},
       "data": [
        [
         7.0,
         0.27,
         0.36,
         20.7,
         0.045,
         45,
         170,
         1.001,
         3.0,
         0.45,
         8.8,
         6
        ],
        [
         6.3,
         0.3,
         0.34,
         1.6,
         0.049,
         14,
         132,
         0.994,
         3.3,
         0.49,
         9.5,
         6
        ],
        [
         8.1,
         0.28,
         0.4,
         6.9,
         0.05,
         30,
         97,
         0.9951,
         3.26,
         0.44,
         10.1,
         6
        ],
        [
         7.2,
         0.23,
         0.32,
         8.5,
         0.058,
         47,
         186,
         0.9956,
         3.19,
         0.4,
         9.9,
         6
        ],
        [
         7.2,
         0.23,
         0.32,
         8.5,
         0.058,
         47,
         186,
         0.9956,
         3.19,
         0.4,
         9.9,
         6
        ]
       ],
       "datasetInfos": [],
       "dbfsResultPath": null,
       "isJsonSchema": true,
       "metadata": {},
       "overflow": false,
       "plotOptions": {
        "customPlotOptions": {},
        "displayType": "table",
        "pivotAggregation": null,
        "pivotColumns": null,
        "xColumns": null,
        "yColumns": null
       },
       "removedWidgets": [],
       "schema": [
        {
         "metadata": "{}",
         "name": "fixed acidity",
         "type": "\"double\""
        },
        {
         "metadata": "{}",
         "name": "volatile acidity",
         "type": "\"double\""
        },
        {
         "metadata": "{}",
         "name": "citric acid",
         "type": "\"double\""
        },
        {
         "metadata": "{}",
         "name": "residual sugar",
         "type": "\"double\""
        },
        {
         "metadata": "{}",
         "name": "chlorides",
         "type": "\"double\""
        },
        {
         "metadata": "{}",
         "name": "free sulfur dioxide",
         "type": "\"long\""
        },
        {
         "metadata": "{}",
         "name": "total sulfur dioxide",
         "type": "\"long\""
        },
        {
         "metadata": "{}",
         "name": "density",
         "type": "\"double\""
        },
        {
         "metadata": "{}",
         "name": "pH",
         "type": "\"double\""
        },
        {
         "metadata": "{}",
         "name": "suplhates",
         "type": "\"double\""
        },
        {
         "metadata": "{}",
         "name": "alcohol",
         "type": "\"double\""
        },
        {
         "metadata": "{}",
         "name": "quality",
         "type": "\"long\""
        }
       ],
       "type": "table"
      }
     },
     "output_type": "display_data"
    }
   ],
   "source": [
    "df = spark.read.format('csv').options(sep=';', header=True).schema(schema).load(\"dbfs:/databricks-datasets/wine-quality/winequality-white.csv\")\n",
    "display(df.head(5))"
   ]
  },
  {
   "cell_type": "code",
   "execution_count": 0,
   "metadata": {
    "application/vnd.databricks.v1+cell": {
     "cellMetadata": {
      "byteLimit": 2048000,
      "rowLimit": 10000
     },
     "inputWidgets": {},
     "nuid": "9b605bd0-9d82-40cd-84ee-4a9695d52f9d",
     "showTitle": false,
     "tableResultSettingsMap": {},
     "title": ""
    }
   },
   "outputs": [
    {
     "output_type": "display_data",
     "data": {
      "text/html": [
       "<style scoped>\n",
       "  .table-result-container {\n",
       "    max-height: 300px;\n",
       "    overflow: auto;\n",
       "  }\n",
       "  table, th, td {\n",
       "    border: 1px solid black;\n",
       "    border-collapse: collapse;\n",
       "  }\n",
       "  th, td {\n",
       "    padding: 5px;\n",
       "  }\n",
       "  th {\n",
       "    text-align: left;\n",
       "  }\n",
       "</style><div class='table-result-container'><table class='table-result'><thead style='background-color: white'><tr><th>fixed acidity</th><th>volatile acidity</th><th>citric acid</th><th>residual sugar</th><th>chlorides</th><th>free sulfur dioxide</th><th>total sulfur dioxide</th><th>density</th><th>pH</th><th>suplhates</th><th>alcohol</th><th>quality</th></tr></thead><tbody><tr><td>null</td><td>0.27</td><td>0.36</td><td>20.7</td><td>0.045</td><td>45</td><td>170</td><td>1.001</td><td>3.0</td><td>0.45</td><td>8.8</td><td>6</td></tr><tr><td>6.3</td><td>0.3</td><td>0.34</td><td>1.6</td><td>0.049</td><td>14</td><td>132</td><td>0.994</td><td>3.3</td><td>0.49</td><td>9.5</td><td>6</td></tr><tr><td>8.1</td><td>0.28</td><td>0.4</td><td>6.9</td><td>0.05</td><td>30</td><td>97</td><td>0.9951</td><td>3.26</td><td>0.44</td><td>10.1</td><td>6</td></tr><tr><td>7.2</td><td>0.23</td><td>0.32</td><td>8.5</td><td>0.058</td><td>47</td><td>186</td><td>0.9956</td><td>3.19</td><td>0.4</td><td>9.9</td><td>6</td></tr><tr><td>7.2</td><td>0.23</td><td>0.32</td><td>8.5</td><td>0.058</td><td>47</td><td>186</td><td>0.9956</td><td>3.19</td><td>0.4</td><td>9.9</td><td>6</td></tr></tbody></table></div>"
      ]
     },
     "metadata": {
      "application/vnd.databricks.v1+output": {
       "addedWidgets": {},
       "aggData": [],
       "aggError": "",
       "aggOverflow": false,
       "aggSchema": [],
       "aggSeriesLimitReached": false,
       "aggType": "",
       "arguments": {},
       "columnCustomDisplayInfos": {},
       "data": [
        [
         null,
         0.27,
         0.36,
         20.7,
         0.045,
         45,
         170,
         1.001,
         3.0,
         0.45,
         8.8,
         6
        ],
        [
         6.3,
         0.3,
         0.34,
         1.6,
         0.049,
         14,
         132,
         0.994,
         3.3,
         0.49,
         9.5,
         6
        ],
        [
         8.1,
         0.28,
         0.4,
         6.9,
         0.05,
         30,
         97,
         0.9951,
         3.26,
         0.44,
         10.1,
         6
        ],
        [
         7.2,
         0.23,
         0.32,
         8.5,
         0.058,
         47,
         186,
         0.9956,
         3.19,
         0.4,
         9.9,
         6
        ],
        [
         7.2,
         0.23,
         0.32,
         8.5,
         0.058,
         47,
         186,
         0.9956,
         3.19,
         0.4,
         9.9,
         6
        ]
       ],
       "datasetInfos": [],
       "dbfsResultPath": null,
       "isJsonSchema": true,
       "metadata": {},
       "overflow": false,
       "plotOptions": {
        "customPlotOptions": {},
        "displayType": "table",
        "pivotAggregation": null,
        "pivotColumns": null,
        "xColumns": null,
        "yColumns": null
       },
       "removedWidgets": [],
       "schema": [
        {
         "metadata": "{}",
         "name": "fixed acidity",
         "type": "\"double\""
        },
        {
         "metadata": "{}",
         "name": "volatile acidity",
         "type": "\"double\""
        },
        {
         "metadata": "{}",
         "name": "citric acid",
         "type": "\"double\""
        },
        {
         "metadata": "{}",
         "name": "residual sugar",
         "type": "\"double\""
        },
        {
         "metadata": "{}",
         "name": "chlorides",
         "type": "\"double\""
        },
        {
         "metadata": "{}",
         "name": "free sulfur dioxide",
         "type": "\"long\""
        },
        {
         "metadata": "{}",
         "name": "total sulfur dioxide",
         "type": "\"long\""
        },
        {
         "metadata": "{}",
         "name": "density",
         "type": "\"double\""
        },
        {
         "metadata": "{}",
         "name": "pH",
         "type": "\"double\""
        },
        {
         "metadata": "{}",
         "name": "suplhates",
         "type": "\"double\""
        },
        {
         "metadata": "{}",
         "name": "alcohol",
         "type": "\"double\""
        },
        {
         "metadata": "{}",
         "name": "quality",
         "type": "\"long\""
        }
       ],
       "type": "table"
      }
     },
     "output_type": "display_data"
    }
   ],
   "source": [
    "from pyspark.sql.functions import *\n",
    "from pyspark.sql.types import DoubleType\n",
    "\n",
    "df = df.withColumn(\"fixed acidity\", when(col(\"fixed acidity\") == 7, None).otherwise(col(\"fixed acidity\")))\n",
    "display(df.head(5))\n"
   ]
  },
  {
   "cell_type": "code",
   "execution_count": 0,
   "metadata": {
    "application/vnd.databricks.v1+cell": {
     "cellMetadata": {
      "byteLimit": 2048000,
      "rowLimit": 10000
     },
     "inputWidgets": {},
     "nuid": "ecd9b21e-0096-4ea9-889c-45012e044b77",
     "showTitle": false,
     "tableResultSettingsMap": {},
     "title": ""
    }
   },
   "outputs": [
    {
     "output_type": "display_data",
     "data": {
      "text/html": [
       "<style scoped>\n",
       "  .table-result-container {\n",
       "    max-height: 300px;\n",
       "    overflow: auto;\n",
       "  }\n",
       "  table, th, td {\n",
       "    border: 1px solid black;\n",
       "    border-collapse: collapse;\n",
       "  }\n",
       "  th, td {\n",
       "    padding: 5px;\n",
       "  }\n",
       "  th {\n",
       "    text-align: left;\n",
       "  }\n",
       "</style><div class='table-result-container'><table class='table-result'><thead style='background-color: white'><tr><th>fixed acidity</th><th>volatile acidity</th><th>citric acid</th><th>residual sugar</th><th>chlorides</th><th>free sulfur dioxide</th><th>total sulfur dioxide</th><th>density</th><th>pH</th><th>suplhates</th><th>alcohol</th><th>quality</th></tr></thead><tbody><tr><td>7.0</td><td>0.27</td><td>0.36</td><td>20.7</td><td>0.045</td><td>45</td><td>170</td><td>1.001</td><td>3.0</td><td>0.45</td><td>8.8</td><td>6</td></tr><tr><td>6.3</td><td>0.3</td><td>0.34</td><td>1.6</td><td>0.049</td><td>14</td><td>132</td><td>0.994</td><td>3.3</td><td>0.49</td><td>9.5</td><td>6</td></tr><tr><td>8.1</td><td>0.28</td><td>0.4</td><td>6.9</td><td>0.05</td><td>30</td><td>97</td><td>0.9951</td><td>3.26</td><td>0.44</td><td>10.1</td><td>6</td></tr><tr><td>7.2</td><td>0.23</td><td>0.32</td><td>8.5</td><td>0.058</td><td>47</td><td>186</td><td>0.9956</td><td>3.19</td><td>0.4</td><td>9.9</td><td>6</td></tr><tr><td>7.2</td><td>0.23</td><td>0.32</td><td>8.5</td><td>0.058</td><td>47</td><td>186</td><td>0.9956</td><td>3.19</td><td>0.4</td><td>9.9</td><td>6</td></tr></tbody></table></div>"
      ]
     },
     "metadata": {
      "application/vnd.databricks.v1+output": {
       "addedWidgets": {},
       "aggData": [],
       "aggError": "",
       "aggOverflow": false,
       "aggSchema": [],
       "aggSeriesLimitReached": false,
       "aggType": "",
       "arguments": {},
       "columnCustomDisplayInfos": {},
       "data": [
        [
         7.0,
         0.27,
         0.36,
         20.7,
         0.045,
         45,
         170,
         1.001,
         3.0,
         0.45,
         8.8,
         6
        ],
        [
         6.3,
         0.3,
         0.34,
         1.6,
         0.049,
         14,
         132,
         0.994,
         3.3,
         0.49,
         9.5,
         6
        ],
        [
         8.1,
         0.28,
         0.4,
         6.9,
         0.05,
         30,
         97,
         0.9951,
         3.26,
         0.44,
         10.1,
         6
        ],
        [
         7.2,
         0.23,
         0.32,
         8.5,
         0.058,
         47,
         186,
         0.9956,
         3.19,
         0.4,
         9.9,
         6
        ],
        [
         7.2,
         0.23,
         0.32,
         8.5,
         0.058,
         47,
         186,
         0.9956,
         3.19,
         0.4,
         9.9,
         6
        ]
       ],
       "datasetInfos": [],
       "dbfsResultPath": null,
       "isJsonSchema": true,
       "metadata": {},
       "overflow": false,
       "plotOptions": {
        "customPlotOptions": {},
        "displayType": "table",
        "pivotAggregation": null,
        "pivotColumns": null,
        "xColumns": null,
        "yColumns": null
       },
       "removedWidgets": [],
       "schema": [
        {
         "metadata": "{}",
         "name": "fixed acidity",
         "type": "\"double\""
        },
        {
         "metadata": "{}",
         "name": "volatile acidity",
         "type": "\"double\""
        },
        {
         "metadata": "{}",
         "name": "citric acid",
         "type": "\"double\""
        },
        {
         "metadata": "{}",
         "name": "residual sugar",
         "type": "\"double\""
        },
        {
         "metadata": "{}",
         "name": "chlorides",
         "type": "\"double\""
        },
        {
         "metadata": "{}",
         "name": "free sulfur dioxide",
         "type": "\"long\""
        },
        {
         "metadata": "{}",
         "name": "total sulfur dioxide",
         "type": "\"long\""
        },
        {
         "metadata": "{}",
         "name": "density",
         "type": "\"double\""
        },
        {
         "metadata": "{}",
         "name": "pH",
         "type": "\"double\""
        },
        {
         "metadata": "{}",
         "name": "suplhates",
         "type": "\"double\""
        },
        {
         "metadata": "{}",
         "name": "alcohol",
         "type": "\"double\""
        },
        {
         "metadata": "{}",
         "name": "quality",
         "type": "\"long\""
        }
       ],
       "type": "table"
      }
     },
     "output_type": "display_data"
    }
   ],
   "source": [
    "df = df.na.fill({'fixed acidity': 7})\n",
    "display(df.head(5))"
   ]
  },
  {
   "cell_type": "code",
   "execution_count": 0,
   "metadata": {
    "application/vnd.databricks.v1+cell": {
     "cellMetadata": {
      "byteLimit": 2048000,
      "rowLimit": 10000
     },
     "inputWidgets": {},
     "nuid": "fb70beaa-7944-4dfb-a0fa-a6134a22558f",
     "showTitle": false,
     "tableResultSettingsMap": {},
     "title": ""
    }
   },
   "outputs": [
    {
     "output_type": "display_data",
     "data": {
      "text/html": [
       "<style scoped>\n",
       "  .table-result-container {\n",
       "    max-height: 300px;\n",
       "    overflow: auto;\n",
       "  }\n",
       "  table, th, td {\n",
       "    border: 1px solid black;\n",
       "    border-collapse: collapse;\n",
       "  }\n",
       "  th, td {\n",
       "    padding: 5px;\n",
       "  }\n",
       "  th {\n",
       "    text-align: left;\n",
       "  }\n",
       "</style><div class='table-result-container'><table class='table-result'><thead style='background-color: white'><tr><th>fixed acidity</th><th>volatile acidity</th><th>citric acid</th><th>residual sugar</th><th>chlorides</th><th>free sulfur dioxide</th><th>total sulfur dioxide</th><th>density</th><th>pH</th><th>suplhates</th><th>alcohol</th><th>quality</th></tr></thead><tbody><tr><td>7.0</td><td>0</td><td>0.36</td><td>20.7</td><td>0.045</td><td>45</td><td>170</td><td>1.001</td><td>3.0</td><td>0.45</td><td>8.8</td><td>6</td></tr><tr><td>7.0</td><td>.</td><td>0.36</td><td>20.7</td><td>0.045</td><td>45</td><td>170</td><td>1.001</td><td>3.0</td><td>0.45</td><td>8.8</td><td>6</td></tr><tr><td>7.0</td><td>2</td><td>0.36</td><td>20.7</td><td>0.045</td><td>45</td><td>170</td><td>1.001</td><td>3.0</td><td>0.45</td><td>8.8</td><td>6</td></tr><tr><td>7.0</td><td>7</td><td>0.36</td><td>20.7</td><td>0.045</td><td>45</td><td>170</td><td>1.001</td><td>3.0</td><td>0.45</td><td>8.8</td><td>6</td></tr><tr><td>6.3</td><td>0</td><td>0.34</td><td>1.6</td><td>0.049</td><td>14</td><td>132</td><td>0.994</td><td>3.3</td><td>0.49</td><td>9.5</td><td>6</td></tr><tr><td>6.3</td><td>.</td><td>0.34</td><td>1.6</td><td>0.049</td><td>14</td><td>132</td><td>0.994</td><td>3.3</td><td>0.49</td><td>9.5</td><td>6</td></tr><tr><td>6.3</td><td>3</td><td>0.34</td><td>1.6</td><td>0.049</td><td>14</td><td>132</td><td>0.994</td><td>3.3</td><td>0.49</td><td>9.5</td><td>6</td></tr><tr><td>8.1</td><td>0</td><td>0.4</td><td>6.9</td><td>0.05</td><td>30</td><td>97</td><td>0.9951</td><td>3.26</td><td>0.44</td><td>10.1</td><td>6</td></tr><tr><td>8.1</td><td>.</td><td>0.4</td><td>6.9</td><td>0.05</td><td>30</td><td>97</td><td>0.9951</td><td>3.26</td><td>0.44</td><td>10.1</td><td>6</td></tr><tr><td>8.1</td><td>2</td><td>0.4</td><td>6.9</td><td>0.05</td><td>30</td><td>97</td><td>0.9951</td><td>3.26</td><td>0.44</td><td>10.1</td><td>6</td></tr><tr><td>8.1</td><td>8</td><td>0.4</td><td>6.9</td><td>0.05</td><td>30</td><td>97</td><td>0.9951</td><td>3.26</td><td>0.44</td><td>10.1</td><td>6</td></tr><tr><td>7.2</td><td>0</td><td>0.32</td><td>8.5</td><td>0.058</td><td>47</td><td>186</td><td>0.9956</td><td>3.19</td><td>0.4</td><td>9.9</td><td>6</td></tr><tr><td>7.2</td><td>.</td><td>0.32</td><td>8.5</td><td>0.058</td><td>47</td><td>186</td><td>0.9956</td><td>3.19</td><td>0.4</td><td>9.9</td><td>6</td></tr><tr><td>7.2</td><td>2</td><td>0.32</td><td>8.5</td><td>0.058</td><td>47</td><td>186</td><td>0.9956</td><td>3.19</td><td>0.4</td><td>9.9</td><td>6</td></tr><tr><td>7.2</td><td>3</td><td>0.32</td><td>8.5</td><td>0.058</td><td>47</td><td>186</td><td>0.9956</td><td>3.19</td><td>0.4</td><td>9.9</td><td>6</td></tr><tr><td>7.2</td><td>0</td><td>0.32</td><td>8.5</td><td>0.058</td><td>47</td><td>186</td><td>0.9956</td><td>3.19</td><td>0.4</td><td>9.9</td><td>6</td></tr><tr><td>7.2</td><td>.</td><td>0.32</td><td>8.5</td><td>0.058</td><td>47</td><td>186</td><td>0.9956</td><td>3.19</td><td>0.4</td><td>9.9</td><td>6</td></tr><tr><td>7.2</td><td>2</td><td>0.32</td><td>8.5</td><td>0.058</td><td>47</td><td>186</td><td>0.9956</td><td>3.19</td><td>0.4</td><td>9.9</td><td>6</td></tr><tr><td>7.2</td><td>3</td><td>0.32</td><td>8.5</td><td>0.058</td><td>47</td><td>186</td><td>0.9956</td><td>3.19</td><td>0.4</td><td>9.9</td><td>6</td></tr><tr><td>8.1</td><td>0</td><td>0.4</td><td>6.9</td><td>0.05</td><td>30</td><td>97</td><td>0.9951</td><td>3.26</td><td>0.44</td><td>10.1</td><td>6</td></tr></tbody></table></div>"
      ]
     },
     "metadata": {
      "application/vnd.databricks.v1+output": {
       "addedWidgets": {},
       "aggData": [],
       "aggError": "",
       "aggOverflow": false,
       "aggSchema": [],
       "aggSeriesLimitReached": false,
       "aggType": "",
       "arguments": {},
       "columnCustomDisplayInfos": {},
       "data": [
        [
         7.0,
         "0",
         0.36,
         20.7,
         0.045,
         45,
         170,
         1.001,
         3.0,
         0.45,
         8.8,
         6
        ],
        [
         7.0,
         ".",
         0.36,
         20.7,
         0.045,
         45,
         170,
         1.001,
         3.0,
         0.45,
         8.8,
         6
        ],
        [
         7.0,
         "2",
         0.36,
         20.7,
         0.045,
         45,
         170,
         1.001,
         3.0,
         0.45,
         8.8,
         6
        ],
        [
         7.0,
         "7",
         0.36,
         20.7,
         0.045,
         45,
         170,
         1.001,
         3.0,
         0.45,
         8.8,
         6
        ],
        [
         6.3,
         "0",
         0.34,
         1.6,
         0.049,
         14,
         132,
         0.994,
         3.3,
         0.49,
         9.5,
         6
        ],
        [
         6.3,
         ".",
         0.34,
         1.6,
         0.049,
         14,
         132,
         0.994,
         3.3,
         0.49,
         9.5,
         6
        ],
        [
         6.3,
         "3",
         0.34,
         1.6,
         0.049,
         14,
         132,
         0.994,
         3.3,
         0.49,
         9.5,
         6
        ],
        [
         8.1,
         "0",
         0.4,
         6.9,
         0.05,
         30,
         97,
         0.9951,
         3.26,
         0.44,
         10.1,
         6
        ],
        [
         8.1,
         ".",
         0.4,
         6.9,
         0.05,
         30,
         97,
         0.9951,
         3.26,
         0.44,
         10.1,
         6
        ],
        [
         8.1,
         "2",
         0.4,
         6.9,
         0.05,
         30,
         97,
         0.9951,
         3.26,
         0.44,
         10.1,
         6
        ],
        [
         8.1,
         "8",
         0.4,
         6.9,
         0.05,
         30,
         97,
         0.9951,
         3.26,
         0.44,
         10.1,
         6
        ],
        [
         7.2,
         "0",
         0.32,
         8.5,
         0.058,
         47,
         186,
         0.9956,
         3.19,
         0.4,
         9.9,
         6
        ],
        [
         7.2,
         ".",
         0.32,
         8.5,
         0.058,
         47,
         186,
         0.9956,
         3.19,
         0.4,
         9.9,
         6
        ],
        [
         7.2,
         "2",
         0.32,
         8.5,
         0.058,
         47,
         186,
         0.9956,
         3.19,
         0.4,
         9.9,
         6
        ],
        [
         7.2,
         "3",
         0.32,
         8.5,
         0.058,
         47,
         186,
         0.9956,
         3.19,
         0.4,
         9.9,
         6
        ],
        [
         7.2,
         "0",
         0.32,
         8.5,
         0.058,
         47,
         186,
         0.9956,
         3.19,
         0.4,
         9.9,
         6
        ],
        [
         7.2,
         ".",
         0.32,
         8.5,
         0.058,
         47,
         186,
         0.9956,
         3.19,
         0.4,
         9.9,
         6
        ],
        [
         7.2,
         "2",
         0.32,
         8.5,
         0.058,
         47,
         186,
         0.9956,
         3.19,
         0.4,
         9.9,
         6
        ],
        [
         7.2,
         "3",
         0.32,
         8.5,
         0.058,
         47,
         186,
         0.9956,
         3.19,
         0.4,
         9.9,
         6
        ],
        [
         8.1,
         "0",
         0.4,
         6.9,
         0.05,
         30,
         97,
         0.9951,
         3.26,
         0.44,
         10.1,
         6
        ]
       ],
       "datasetInfos": [],
       "dbfsResultPath": null,
       "isJsonSchema": true,
       "metadata": {},
       "overflow": false,
       "plotOptions": {
        "customPlotOptions": {},
        "displayType": "table",
        "pivotAggregation": null,
        "pivotColumns": null,
        "xColumns": null,
        "yColumns": null
       },
       "removedWidgets": [],
       "schema": [
        {
         "metadata": "{}",
         "name": "fixed acidity",
         "type": "\"double\""
        },
        {
         "metadata": "{}",
         "name": "volatile acidity",
         "type": "\"string\""
        },
        {
         "metadata": "{}",
         "name": "citric acid",
         "type": "\"double\""
        },
        {
         "metadata": "{}",
         "name": "residual sugar",
         "type": "\"double\""
        },
        {
         "metadata": "{}",
         "name": "chlorides",
         "type": "\"double\""
        },
        {
         "metadata": "{}",
         "name": "free sulfur dioxide",
         "type": "\"long\""
        },
        {
         "metadata": "{}",
         "name": "total sulfur dioxide",
         "type": "\"long\""
        },
        {
         "metadata": "{}",
         "name": "density",
         "type": "\"double\""
        },
        {
         "metadata": "{}",
         "name": "pH",
         "type": "\"double\""
        },
        {
         "metadata": "{}",
         "name": "suplhates",
         "type": "\"double\""
        },
        {
         "metadata": "{}",
         "name": "alcohol",
         "type": "\"double\""
        },
        {
         "metadata": "{}",
         "name": "quality",
         "type": "\"long\""
        }
       ],
       "type": "table"
      }
     },
     "output_type": "display_data"
    }
   ],
   "source": [
    "df_exploded = df.withColumn('volatile acidity', explode(split(col('volatile acidity'), '')))\n",
    "display(df_exploded.head(20))"
   ]
  },
  {
   "cell_type": "code",
   "execution_count": 0,
   "metadata": {
    "application/vnd.databricks.v1+cell": {
     "cellMetadata": {
      "byteLimit": 2048000,
      "rowLimit": 10000
     },
     "inputWidgets": {},
     "nuid": "5f24a98a-7ca7-4cb9-8168-fd15394d56c4",
     "showTitle": false,
     "tableResultSettingsMap": {},
     "title": ""
    }
   },
   "outputs": [
    {
     "output_type": "display_data",
     "data": {
      "text/html": [
       "<style scoped>\n",
       "  .table-result-container {\n",
       "    max-height: 300px;\n",
       "    overflow: auto;\n",
       "  }\n",
       "  table, th, td {\n",
       "    border: 1px solid black;\n",
       "    border-collapse: collapse;\n",
       "  }\n",
       "  th, td {\n",
       "    padding: 5px;\n",
       "  }\n",
       "  th {\n",
       "    text-align: left;\n",
       "  }\n",
       "</style><div class='table-result-container'><table class='table-result'><thead style='background-color: white'><tr><th>volatile acidity</th><th>citric acid</th><th>residual sugar</th><th>chlorides</th><th>free sulfur dioxide</th><th>total sulfur dioxide</th><th>density</th><th>pH</th><th>suplhates</th><th>alcohol</th><th>quality</th></tr></thead><tbody><tr><td>0.27</td><td>0.36</td><td>20.7</td><td>0.045</td><td>45</td><td>170</td><td>1.001</td><td>3.0</td><td>0.45</td><td>8.8</td><td>6</td></tr><tr><td>0.3</td><td>0.34</td><td>1.6</td><td>0.049</td><td>14</td><td>132</td><td>0.994</td><td>3.3</td><td>0.49</td><td>9.5</td><td>6</td></tr><tr><td>0.28</td><td>0.4</td><td>6.9</td><td>0.05</td><td>30</td><td>97</td><td>0.9951</td><td>3.26</td><td>0.44</td><td>10.1</td><td>6</td></tr><tr><td>0.23</td><td>0.32</td><td>8.5</td><td>0.058</td><td>47</td><td>186</td><td>0.9956</td><td>3.19</td><td>0.4</td><td>9.9</td><td>6</td></tr><tr><td>0.23</td><td>0.32</td><td>8.5</td><td>0.058</td><td>47</td><td>186</td><td>0.9956</td><td>3.19</td><td>0.4</td><td>9.9</td><td>6</td></tr></tbody></table></div>"
      ]
     },
     "metadata": {
      "application/vnd.databricks.v1+output": {
       "addedWidgets": {},
       "aggData": [],
       "aggError": "",
       "aggOverflow": false,
       "aggSchema": [],
       "aggSeriesLimitReached": false,
       "aggType": "",
       "arguments": {},
       "columnCustomDisplayInfos": {},
       "data": [
        [
         0.27,
         0.36,
         20.7,
         0.045,
         45,
         170,
         1.001,
         3.0,
         0.45,
         8.8,
         6
        ],
        [
         0.3,
         0.34,
         1.6,
         0.049,
         14,
         132,
         0.994,
         3.3,
         0.49,
         9.5,
         6
        ],
        [
         0.28,
         0.4,
         6.9,
         0.05,
         30,
         97,
         0.9951,
         3.26,
         0.44,
         10.1,
         6
        ],
        [
         0.23,
         0.32,
         8.5,
         0.058,
         47,
         186,
         0.9956,
         3.19,
         0.4,
         9.9,
         6
        ],
        [
         0.23,
         0.32,
         8.5,
         0.058,
         47,
         186,
         0.9956,
         3.19,
         0.4,
         9.9,
         6
        ]
       ],
       "datasetInfos": [],
       "dbfsResultPath": null,
       "isJsonSchema": true,
       "metadata": {},
       "overflow": false,
       "plotOptions": {
        "customPlotOptions": {},
        "displayType": "table",
        "pivotAggregation": null,
        "pivotColumns": null,
        "xColumns": null,
        "yColumns": null
       },
       "removedWidgets": [],
       "schema": [
        {
         "metadata": "{}",
         "name": "volatile acidity",
         "type": "\"double\""
        },
        {
         "metadata": "{}",
         "name": "citric acid",
         "type": "\"double\""
        },
        {
         "metadata": "{}",
         "name": "residual sugar",
         "type": "\"double\""
        },
        {
         "metadata": "{}",
         "name": "chlorides",
         "type": "\"double\""
        },
        {
         "metadata": "{}",
         "name": "free sulfur dioxide",
         "type": "\"long\""
        },
        {
         "metadata": "{}",
         "name": "total sulfur dioxide",
         "type": "\"long\""
        },
        {
         "metadata": "{}",
         "name": "density",
         "type": "\"double\""
        },
        {
         "metadata": "{}",
         "name": "pH",
         "type": "\"double\""
        },
        {
         "metadata": "{}",
         "name": "suplhates",
         "type": "\"double\""
        },
        {
         "metadata": "{}",
         "name": "alcohol",
         "type": "\"double\""
        },
        {
         "metadata": "{}",
         "name": "quality",
         "type": "\"long\""
        }
       ],
       "type": "table"
      }
     },
     "output_type": "display_data"
    }
   ],
   "source": [
    "dropped_df = df.drop('fixed acidity')\n",
    "display(dropped_df.head(5))"
   ]
  },
  {
   "cell_type": "code",
   "execution_count": 0,
   "metadata": {
    "application/vnd.databricks.v1+cell": {
     "cellMetadata": {
      "byteLimit": 2048000,
      "rowLimit": 10000
     },
     "inputWidgets": {},
     "nuid": "747ab254-fd2c-42cc-aa61-dc238a82744c",
     "showTitle": false,
     "tableResultSettingsMap": {},
     "title": ""
    }
   },
   "outputs": [
    {
     "output_type": "display_data",
     "data": {
      "text/html": [
       "<style scoped>\n",
       "  .table-result-container {\n",
       "    max-height: 300px;\n",
       "    overflow: auto;\n",
       "  }\n",
       "  table, th, td {\n",
       "    border: 1px solid black;\n",
       "    border-collapse: collapse;\n",
       "  }\n",
       "  th, td {\n",
       "    padding: 5px;\n",
       "  }\n",
       "  th {\n",
       "    text-align: left;\n",
       "  }\n",
       "</style><div class='table-result-container'><table class='table-result'><thead style='background-color: white'><tr><th>fixed acidity</th><th>volatile acidity</th><th>citric acid</th><th>residual sugar</th><th>chlorides</th><th>free sulfur dioxide</th><th>total sulfur dioxide</th><th>density</th><th>pH</th><th>suplhates</th><th>alcohol</th><th>quality</th></tr></thead><tbody><tr><td>7.0</td><td>0.27</td><td>0.59</td><td>20.7</td><td>0.045</td><td>45</td><td>170</td><td>1.001</td><td>3.0</td><td>0.45</td><td>8.8</td><td>6</td></tr><tr><td>6.3</td><td>0.3</td><td>0.34</td><td>1.6</td><td>0.049</td><td>14</td><td>132</td><td>0.994</td><td>3.3</td><td>0.49</td><td>9.5</td><td>6</td></tr><tr><td>8.1</td><td>0.28</td><td>0.4</td><td>6.9</td><td>0.05</td><td>30</td><td>97</td><td>0.9951</td><td>3.26</td><td>0.44</td><td>10.1</td><td>6</td></tr><tr><td>7.2</td><td>0.23</td><td>0.32</td><td>8.5</td><td>0.058</td><td>47</td><td>186</td><td>0.9956</td><td>3.19</td><td>0.4</td><td>9.9</td><td>6</td></tr><tr><td>7.2</td><td>0.23</td><td>0.32</td><td>8.5</td><td>0.058</td><td>47</td><td>186</td><td>0.9956</td><td>3.19</td><td>0.4</td><td>9.9</td><td>6</td></tr></tbody></table></div>"
      ]
     },
     "metadata": {
      "application/vnd.databricks.v1+output": {
       "addedWidgets": {},
       "aggData": [],
       "aggError": "",
       "aggOverflow": false,
       "aggSchema": [],
       "aggSeriesLimitReached": false,
       "aggType": "",
       "arguments": {},
       "columnCustomDisplayInfos": {},
       "data": [
        [
         7.0,
         0.27,
         "0.59",
         20.7,
         0.045,
         45,
         170,
         1.001,
         3.0,
         0.45,
         8.8,
         6
        ],
        [
         6.3,
         0.3,
         "0.34",
         1.6,
         0.049,
         14,
         132,
         0.994,
         3.3,
         0.49,
         9.5,
         6
        ],
        [
         8.1,
         0.28,
         "0.4",
         6.9,
         0.05,
         30,
         97,
         0.9951,
         3.26,
         0.44,
         10.1,
         6
        ],
        [
         7.2,
         0.23,
         "0.32",
         8.5,
         0.058,
         47,
         186,
         0.9956,
         3.19,
         0.4,
         9.9,
         6
        ],
        [
         7.2,
         0.23,
         "0.32",
         8.5,
         0.058,
         47,
         186,
         0.9956,
         3.19,
         0.4,
         9.9,
         6
        ]
       ],
       "datasetInfos": [],
       "dbfsResultPath": null,
       "isJsonSchema": true,
       "metadata": {},
       "overflow": false,
       "plotOptions": {
        "customPlotOptions": {},
        "displayType": "table",
        "pivotAggregation": null,
        "pivotColumns": null,
        "xColumns": null,
        "yColumns": null
       },
       "removedWidgets": [],
       "schema": [
        {
         "metadata": "{}",
         "name": "fixed acidity",
         "type": "\"double\""
        },
        {
         "metadata": "{}",
         "name": "volatile acidity",
         "type": "\"double\""
        },
        {
         "metadata": "{}",
         "name": "citric acid",
         "type": "\"string\""
        },
        {
         "metadata": "{}",
         "name": "residual sugar",
         "type": "\"double\""
        },
        {
         "metadata": "{}",
         "name": "chlorides",
         "type": "\"double\""
        },
        {
         "metadata": "{}",
         "name": "free sulfur dioxide",
         "type": "\"long\""
        },
        {
         "metadata": "{}",
         "name": "total sulfur dioxide",
         "type": "\"long\""
        },
        {
         "metadata": "{}",
         "name": "density",
         "type": "\"double\""
        },
        {
         "metadata": "{}",
         "name": "pH",
         "type": "\"double\""
        },
        {
         "metadata": "{}",
         "name": "suplhates",
         "type": "\"double\""
        },
        {
         "metadata": "{}",
         "name": "alcohol",
         "type": "\"double\""
        },
        {
         "metadata": "{}",
         "name": "quality",
         "type": "\"long\""
        }
       ],
       "type": "table"
      }
     },
     "output_type": "display_data"
    }
   ],
   "source": [
    "regex_df = df.withColumn('citric acid', regexp_replace('citric acid', r'^.*6$', '0.59'))\n",
    "display(regex_df.head(5))"
   ]
  },
  {
   "cell_type": "code",
   "execution_count": 0,
   "metadata": {
    "application/vnd.databricks.v1+cell": {
     "cellMetadata": {
      "byteLimit": 2048000,
      "rowLimit": 10000
     },
     "inputWidgets": {},
     "nuid": "fdac7b25-7180-4480-8815-71fe854511f5",
     "showTitle": false,
     "tableResultSettingsMap": {},
     "title": ""
    }
   },
   "outputs": [
    {
     "output_type": "display_data",
     "data": {
      "text/html": [
       "<style scoped>\n",
       "  .table-result-container {\n",
       "    max-height: 300px;\n",
       "    overflow: auto;\n",
       "  }\n",
       "  table, th, td {\n",
       "    border: 1px solid black;\n",
       "    border-collapse: collapse;\n",
       "  }\n",
       "  th, td {\n",
       "    padding: 5px;\n",
       "  }\n",
       "  th {\n",
       "    text-align: left;\n",
       "  }\n",
       "</style><div class='table-result-container'><table class='table-result'><thead style='background-color: white'><tr><th>fixed acidity</th><th>volatile acidity</th><th>citric acid</th><th>residual sugar</th><th>chlorides</th><th>free sulfur dioxide</th><th>total sulfur dioxide</th><th>density</th><th>pH</th><th>suplhates</th><th>alcohol</th><th>quality</th></tr></thead><tbody><tr><td>7.0</td><td>0.27</td><td>0.36</td><td>20.7</td><td>0.045</td><td>45</td><td>170</td><td>1.001</td><td>3.0</td><td>0.45</td><td>8.8</td><td>6</td></tr><tr><td>6.3</td><td>0.3</td><td></td><td>1.6</td><td>0.049</td><td>14</td><td>132</td><td>0.994</td><td>3.3</td><td>0.49</td><td>9.5</td><td>6</td></tr><tr><td>8.1</td><td>0.28</td><td></td><td>6.9</td><td>0.05</td><td>30</td><td>97</td><td>0.9951</td><td>3.26</td><td>0.44</td><td>10.1</td><td>6</td></tr><tr><td>7.2</td><td>0.23</td><td></td><td>8.5</td><td>0.058</td><td>47</td><td>186</td><td>0.9956</td><td>3.19</td><td>0.4</td><td>9.9</td><td>6</td></tr><tr><td>7.2</td><td>0.23</td><td></td><td>8.5</td><td>0.058</td><td>47</td><td>186</td><td>0.9956</td><td>3.19</td><td>0.4</td><td>9.9</td><td>6</td></tr></tbody></table></div>"
      ]
     },
     "metadata": {
      "application/vnd.databricks.v1+output": {
       "addedWidgets": {},
       "aggData": [],
       "aggError": "",
       "aggOverflow": false,
       "aggSchema": [],
       "aggSeriesLimitReached": false,
       "aggType": "",
       "arguments": {},
       "columnCustomDisplayInfos": {},
       "data": [
        [
         7.0,
         0.27,
         "0.36",
         20.7,
         0.045,
         45,
         170,
         1.001,
         3.0,
         0.45,
         8.8,
         6
        ],
        [
         6.3,
         0.3,
         "",
         1.6,
         0.049,
         14,
         132,
         0.994,
         3.3,
         0.49,
         9.5,
         6
        ],
        [
         8.1,
         0.28,
         "",
         6.9,
         0.05,
         30,
         97,
         0.9951,
         3.26,
         0.44,
         10.1,
         6
        ],
        [
         7.2,
         0.23,
         "",
         8.5,
         0.058,
         47,
         186,
         0.9956,
         3.19,
         0.4,
         9.9,
         6
        ],
        [
         7.2,
         0.23,
         "",
         8.5,
         0.058,
         47,
         186,
         0.9956,
         3.19,
         0.4,
         9.9,
         6
        ]
       ],
       "datasetInfos": [],
       "dbfsResultPath": null,
       "isJsonSchema": true,
       "metadata": {},
       "overflow": false,
       "plotOptions": {
        "customPlotOptions": {},
        "displayType": "table",
        "pivotAggregation": null,
        "pivotColumns": null,
        "xColumns": null,
        "yColumns": null
       },
       "removedWidgets": [],
       "schema": [
        {
         "metadata": "{}",
         "name": "fixed acidity",
         "type": "\"double\""
        },
        {
         "metadata": "{}",
         "name": "volatile acidity",
         "type": "\"double\""
        },
        {
         "metadata": "{}",
         "name": "citric acid",
         "type": "\"string\""
        },
        {
         "metadata": "{}",
         "name": "residual sugar",
         "type": "\"double\""
        },
        {
         "metadata": "{}",
         "name": "chlorides",
         "type": "\"double\""
        },
        {
         "metadata": "{}",
         "name": "free sulfur dioxide",
         "type": "\"long\""
        },
        {
         "metadata": "{}",
         "name": "total sulfur dioxide",
         "type": "\"long\""
        },
        {
         "metadata": "{}",
         "name": "density",
         "type": "\"double\""
        },
        {
         "metadata": "{}",
         "name": "pH",
         "type": "\"double\""
        },
        {
         "metadata": "{}",
         "name": "suplhates",
         "type": "\"double\""
        },
        {
         "metadata": "{}",
         "name": "alcohol",
         "type": "\"double\""
        },
        {
         "metadata": "{}",
         "name": "quality",
         "type": "\"long\""
        }
       ],
       "type": "table"
      }
     },
     "output_type": "display_data"
    }
   ],
   "source": [
    "extracted_df = df.withColumn('citric acid', regexp_extract('citric acid', r'^.*6$', 0))\n",
    "display(extracted_df.head(5))"
   ]
  },
  {
   "cell_type": "code",
   "execution_count": 0,
   "metadata": {
    "application/vnd.databricks.v1+cell": {
     "cellMetadata": {
      "byteLimit": 2048000,
      "rowLimit": 10000
     },
     "inputWidgets": {},
     "nuid": "c6271efc-8fe6-4e39-b3aa-5868a69af2b9",
     "showTitle": false,
     "tableResultSettingsMap": {},
     "title": ""
    }
   },
   "outputs": [
    {
     "output_type": "display_data",
     "data": {
      "text/html": [
       "<style scoped>\n",
       "  .table-result-container {\n",
       "    max-height: 300px;\n",
       "    overflow: auto;\n",
       "  }\n",
       "  table, th, td {\n",
       "    border: 1px solid black;\n",
       "    border-collapse: collapse;\n",
       "  }\n",
       "  th, td {\n",
       "    padding: 5px;\n",
       "  }\n",
       "  th {\n",
       "    text-align: left;\n",
       "  }\n",
       "</style><div class='table-result-container'><table class='table-result'><thead style='background-color: white'><tr><th>fixed acidity</th><th>volatile acidity</th><th>citric acid</th><th>residual sugar</th><th>chlorides</th><th>free sulfur dioxide</th><th>total sulfur dioxide</th><th>density</th><th>pH</th><th>suplhates</th><th>alcohol</th><th>quality</th></tr></thead><tbody><tr><td>7.0</td><td>0.27</td><td>0.36</td><td>20.7</td><td>0.045</td><td>45</td><td>170</td><td>1.001</td><td>3.0</td><td>0.45</td><td>8.8</td><td>6</td></tr><tr><td>6.3</td><td>0.3</td><td>0.34</td><td>1.6</td><td>0.049</td><td>14</td><td>132</td><td>0.994</td><td>3.3</td><td>0.49</td><td>9.5</td><td>6</td></tr><tr><td>8.1</td><td>0.28</td><td>0.4</td><td>6.9</td><td>0.05</td><td>30</td><td>97</td><td>0.9951</td><td>3.26</td><td>0.44</td><td>10.1</td><td>6</td></tr><tr><td>7.2</td><td>0.23</td><td>0.32</td><td>8.5</td><td>0.058</td><td>47</td><td>186</td><td>0.9956</td><td>3.19</td><td>0.4</td><td>9.9</td><td>6</td></tr><tr><td>7.2</td><td>0.23</td><td>0.32</td><td>8.5</td><td>0.058</td><td>47</td><td>186</td><td>0.9956</td><td>3.19</td><td>0.4</td><td>9.9</td><td>6</td></tr></tbody></table></div>"
      ]
     },
     "metadata": {
      "application/vnd.databricks.v1+output": {
       "addedWidgets": {},
       "aggData": [],
       "aggError": "",
       "aggOverflow": false,
       "aggSchema": [],
       "aggSeriesLimitReached": false,
       "aggType": "",
       "arguments": {},
       "columnCustomDisplayInfos": {},
       "data": [
        [
         7.0,
         0.27,
         0.36,
         20.7,
         0.045,
         45,
         170,
         1.001,
         3.0,
         0.45,
         8.8,
         6
        ],
        [
         6.3,
         0.3,
         0.34,
         1.6,
         0.049,
         14,
         132,
         0.994,
         3.3,
         0.49,
         9.5,
         6
        ],
        [
         8.1,
         0.28,
         0.4,
         6.9,
         0.05,
         30,
         97,
         0.9951,
         3.26,
         0.44,
         10.1,
         6
        ],
        [
         7.2,
         0.23,
         0.32,
         8.5,
         0.058,
         47,
         186,
         0.9956,
         3.19,
         0.4,
         9.9,
         6
        ],
        [
         7.2,
         0.23,
         0.32,
         8.5,
         0.058,
         47,
         186,
         0.9956,
         3.19,
         0.4,
         9.9,
         6
        ]
       ],
       "datasetInfos": [],
       "dbfsResultPath": null,
       "isJsonSchema": true,
       "metadata": {},
       "overflow": false,
       "plotOptions": {
        "customPlotOptions": {},
        "displayType": "table",
        "pivotAggregation": null,
        "pivotColumns": null,
        "xColumns": null,
        "yColumns": null
       },
       "removedWidgets": [],
       "schema": [
        {
         "metadata": "{}",
         "name": "fixed acidity",
         "type": "\"double\""
        },
        {
         "metadata": "{}",
         "name": "volatile acidity",
         "type": "\"double\""
        },
        {
         "metadata": "{}",
         "name": "citric acid",
         "type": "\"double\""
        },
        {
         "metadata": "{}",
         "name": "residual sugar",
         "type": "\"double\""
        },
        {
         "metadata": "{}",
         "name": "chlorides",
         "type": "\"double\""
        },
        {
         "metadata": "{}",
         "name": "free sulfur dioxide",
         "type": "\"long\""
        },
        {
         "metadata": "{}",
         "name": "total sulfur dioxide",
         "type": "\"long\""
        },
        {
         "metadata": "{}",
         "name": "density",
         "type": "\"double\""
        },
        {
         "metadata": "{}",
         "name": "pH",
         "type": "\"double\""
        },
        {
         "metadata": "{}",
         "name": "suplhates",
         "type": "\"double\""
        },
        {
         "metadata": "{}",
         "name": "alcohol",
         "type": "\"double\""
        },
        {
         "metadata": "{}",
         "name": "quality",
         "type": "\"long\""
        }
       ],
       "type": "table"
      }
     },
     "output_type": "display_data"
    }
   ],
   "source": [
    "ifnull_df = df.withColumn('alcohol', ifnull(df.alcohol, lit(5)))\n",
    "display(ifnull_df.head(5))"
   ]
  },
  {
   "cell_type": "code",
   "execution_count": 0,
   "metadata": {
    "application/vnd.databricks.v1+cell": {
     "cellMetadata": {
      "byteLimit": 2048000,
      "rowLimit": 10000
     },
     "inputWidgets": {},
     "nuid": "83a7f337-09d7-4046-a0f4-692e1c4fca8d",
     "showTitle": false,
     "tableResultSettingsMap": {},
     "title": ""
    }
   },
   "outputs": [
    {
     "output_type": "display_data",
     "data": {
      "text/html": [
       "<style scoped>\n",
       "  .table-result-container {\n",
       "    max-height: 300px;\n",
       "    overflow: auto;\n",
       "  }\n",
       "  table, th, td {\n",
       "    border: 1px solid black;\n",
       "    border-collapse: collapse;\n",
       "  }\n",
       "  th, td {\n",
       "    padding: 5px;\n",
       "  }\n",
       "  th {\n",
       "    text-align: left;\n",
       "  }\n",
       "</style><div class='table-result-container'><table class='table-result'><thead style='background-color: white'><tr><th>fixed acidity</th><th>volatile acidity</th><th>citric acid</th><th>residual sugar</th><th>chlorides</th><th>free sulfur dioxide</th><th>total sulfur dioxide</th><th>density</th><th>pH</th><th>suplhates</th><th>alcohol</th><th>quality</th><th>nullif</th></tr></thead><tbody><tr><td>7.0</td><td>0.27</td><td>0.36</td><td>20.7</td><td>0.045</td><td>45</td><td>170</td><td>1.001</td><td>3.0</td><td>0.45</td><td>8.8</td><td>6</td><td>0.27</td></tr><tr><td>6.3</td><td>0.3</td><td>0.34</td><td>1.6</td><td>0.049</td><td>14</td><td>132</td><td>0.994</td><td>3.3</td><td>0.49</td><td>9.5</td><td>6</td><td>0.3</td></tr><tr><td>8.1</td><td>0.28</td><td>0.4</td><td>6.9</td><td>0.05</td><td>30</td><td>97</td><td>0.9951</td><td>3.26</td><td>0.44</td><td>10.1</td><td>6</td><td>0.28</td></tr><tr><td>7.2</td><td>0.23</td><td>0.32</td><td>8.5</td><td>0.058</td><td>47</td><td>186</td><td>0.9956</td><td>3.19</td><td>0.4</td><td>9.9</td><td>6</td><td>0.23</td></tr><tr><td>7.2</td><td>0.23</td><td>0.32</td><td>8.5</td><td>0.058</td><td>47</td><td>186</td><td>0.9956</td><td>3.19</td><td>0.4</td><td>9.9</td><td>6</td><td>0.23</td></tr></tbody></table></div>"
      ]
     },
     "metadata": {
      "application/vnd.databricks.v1+output": {
       "addedWidgets": {},
       "aggData": [],
       "aggError": "",
       "aggOverflow": false,
       "aggSchema": [],
       "aggSeriesLimitReached": false,
       "aggType": "",
       "arguments": {},
       "columnCustomDisplayInfos": {},
       "data": [
        [
         7.0,
         0.27,
         0.36,
         20.7,
         0.045,
         45,
         170,
         1.001,
         3.0,
         0.45,
         8.8,
         6,
         0.27
        ],
        [
         6.3,
         0.3,
         0.34,
         1.6,
         0.049,
         14,
         132,
         0.994,
         3.3,
         0.49,
         9.5,
         6,
         0.3
        ],
        [
         8.1,
         0.28,
         0.4,
         6.9,
         0.05,
         30,
         97,
         0.9951,
         3.26,
         0.44,
         10.1,
         6,
         0.28
        ],
        [
         7.2,
         0.23,
         0.32,
         8.5,
         0.058,
         47,
         186,
         0.9956,
         3.19,
         0.4,
         9.9,
         6,
         0.23
        ],
        [
         7.2,
         0.23,
         0.32,
         8.5,
         0.058,
         47,
         186,
         0.9956,
         3.19,
         0.4,
         9.9,
         6,
         0.23
        ]
       ],
       "datasetInfos": [],
       "dbfsResultPath": null,
       "isJsonSchema": true,
       "metadata": {},
       "overflow": false,
       "plotOptions": {
        "customPlotOptions": {},
        "displayType": "table",
        "pivotAggregation": null,
        "pivotColumns": null,
        "xColumns": null,
        "yColumns": null
       },
       "removedWidgets": [],
       "schema": [
        {
         "metadata": "{}",
         "name": "fixed acidity",
         "type": "\"double\""
        },
        {
         "metadata": "{}",
         "name": "volatile acidity",
         "type": "\"double\""
        },
        {
         "metadata": "{}",
         "name": "citric acid",
         "type": "\"double\""
        },
        {
         "metadata": "{}",
         "name": "residual sugar",
         "type": "\"double\""
        },
        {
         "metadata": "{}",
         "name": "chlorides",
         "type": "\"double\""
        },
        {
         "metadata": "{}",
         "name": "free sulfur dioxide",
         "type": "\"long\""
        },
        {
         "metadata": "{}",
         "name": "total sulfur dioxide",
         "type": "\"long\""
        },
        {
         "metadata": "{}",
         "name": "density",
         "type": "\"double\""
        },
        {
         "metadata": "{}",
         "name": "pH",
         "type": "\"double\""
        },
        {
         "metadata": "{}",
         "name": "suplhates",
         "type": "\"double\""
        },
        {
         "metadata": "{}",
         "name": "alcohol",
         "type": "\"double\""
        },
        {
         "metadata": "{}",
         "name": "quality",
         "type": "\"long\""
        },
        {
         "metadata": "{}",
         "name": "nullif",
         "type": "\"double\""
        }
       ],
       "type": "table"
      }
     },
     "output_type": "display_data"
    }
   ],
   "source": [
    "nullif_df = df.withColumn('nullif', nullif(col('volatile acidity'), col('citric acid')))\n",
    "display(nullif_df.head(5))"
   ]
  },
  {
   "cell_type": "code",
   "execution_count": 0,
   "metadata": {
    "application/vnd.databricks.v1+cell": {
     "cellMetadata": {
      "byteLimit": 2048000,
      "rowLimit": 10000
     },
     "inputWidgets": {},
     "nuid": "7d5a2efa-dfa0-404a-a55b-73811493623b",
     "showTitle": false,
     "tableResultSettingsMap": {},
     "title": ""
    }
   },
   "outputs": [
    {
     "output_type": "display_data",
     "data": {
      "text/html": [
       "<style scoped>\n",
       "  .table-result-container {\n",
       "    max-height: 300px;\n",
       "    overflow: auto;\n",
       "  }\n",
       "  table, th, td {\n",
       "    border: 1px solid black;\n",
       "    border-collapse: collapse;\n",
       "  }\n",
       "  th, td {\n",
       "    padding: 5px;\n",
       "  }\n",
       "  th {\n",
       "    text-align: left;\n",
       "  }\n",
       "</style><div class='table-result-container'><table class='table-result'><thead style='background-color: white'><tr><th>fixed acidity</th><th>volatile acidity</th><th>citric acid</th><th>residual sugar</th><th>chlorides</th><th>free sulfur dioxide</th><th>total sulfur dioxide</th><th>density</th><th>pH</th><th>suplhates</th><th>alcohol</th><th>quality</th></tr></thead><tbody><tr><td>700.0</td><td>0.27</td><td>0.36</td><td>20.7</td><td>0.045</td><td>45</td><td>170</td><td>1.001</td><td>3.0</td><td>0.45</td><td>8.8</td><td>6</td></tr><tr><td>6.3</td><td>0.3</td><td>0.34</td><td>1.6</td><td>0.049</td><td>14</td><td>132</td><td>0.994</td><td>3.3</td><td>0.49</td><td>9.5</td><td>6</td></tr><tr><td>8.1</td><td>0.28</td><td>0.4</td><td>6.9</td><td>0.05</td><td>30</td><td>97</td><td>0.9951</td><td>3.26</td><td>0.44</td><td>10.1</td><td>6</td></tr><tr><td>700.2</td><td>0.23</td><td>0.32</td><td>8.5</td><td>0.058</td><td>47</td><td>186</td><td>0.9956</td><td>3.19</td><td>0.4</td><td>9.9</td><td>6</td></tr><tr><td>700.2</td><td>0.23</td><td>0.32</td><td>8.5</td><td>0.058</td><td>47</td><td>186</td><td>0.9956</td><td>3.19</td><td>0.4</td><td>9.9</td><td>6</td></tr></tbody></table></div>"
      ]
     },
     "metadata": {
      "application/vnd.databricks.v1+output": {
       "addedWidgets": {},
       "aggData": [],
       "aggError": "",
       "aggOverflow": false,
       "aggSchema": [],
       "aggSeriesLimitReached": false,
       "aggType": "",
       "arguments": {},
       "columnCustomDisplayInfos": {},
       "data": [
        [
         "700.0",
         0.27,
         0.36,
         20.7,
         0.045,
         45,
         170,
         1.001,
         3.0,
         0.45,
         8.8,
         6
        ],
        [
         "6.3",
         0.3,
         0.34,
         1.6,
         0.049,
         14,
         132,
         0.994,
         3.3,
         0.49,
         9.5,
         6
        ],
        [
         "8.1",
         0.28,
         0.4,
         6.9,
         0.05,
         30,
         97,
         0.9951,
         3.26,
         0.44,
         10.1,
         6
        ],
        [
         "700.2",
         0.23,
         0.32,
         8.5,
         0.058,
         47,
         186,
         0.9956,
         3.19,
         0.4,
         9.9,
         6
        ],
        [
         "700.2",
         0.23,
         0.32,
         8.5,
         0.058,
         47,
         186,
         0.9956,
         3.19,
         0.4,
         9.9,
         6
        ]
       ],
       "datasetInfos": [],
       "dbfsResultPath": null,
       "isJsonSchema": true,
       "metadata": {},
       "overflow": false,
       "plotOptions": {
        "customPlotOptions": {},
        "displayType": "table",
        "pivotAggregation": null,
        "pivotColumns": null,
        "xColumns": null,
        "yColumns": null
       },
       "removedWidgets": [],
       "schema": [
        {
         "metadata": "{}",
         "name": "fixed acidity",
         "type": "\"string\""
        },
        {
         "metadata": "{}",
         "name": "volatile acidity",
         "type": "\"double\""
        },
        {
         "metadata": "{}",
         "name": "citric acid",
         "type": "\"double\""
        },
        {
         "metadata": "{}",
         "name": "residual sugar",
         "type": "\"double\""
        },
        {
         "metadata": "{}",
         "name": "chlorides",
         "type": "\"double\""
        },
        {
         "metadata": "{}",
         "name": "free sulfur dioxide",
         "type": "\"long\""
        },
        {
         "metadata": "{}",
         "name": "total sulfur dioxide",
         "type": "\"long\""
        },
        {
         "metadata": "{}",
         "name": "density",
         "type": "\"double\""
        },
        {
         "metadata": "{}",
         "name": "pH",
         "type": "\"double\""
        },
        {
         "metadata": "{}",
         "name": "suplhates",
         "type": "\"double\""
        },
        {
         "metadata": "{}",
         "name": "alcohol",
         "type": "\"double\""
        },
        {
         "metadata": "{}",
         "name": "quality",
         "type": "\"long\""
        }
       ],
       "type": "table"
      }
     },
     "output_type": "display_data"
    }
   ],
   "source": [
    "replace_df = df.withColumn('fixed acidity', replace(col('fixed acidity'), lit(7), lit(700)))\n",
    "display(replace_df.head(5))"
   ]
  },
  {
   "cell_type": "code",
   "execution_count": 0,
   "metadata": {
    "application/vnd.databricks.v1+cell": {
     "cellMetadata": {
      "byteLimit": 2048000,
      "rowLimit": 10000
     },
     "inputWidgets": {},
     "nuid": "8d80aa90-bed6-4957-a8c2-a5ed7e8f3867",
     "showTitle": false,
     "tableResultSettingsMap": {},
     "title": ""
    }
   },
   "outputs": [
    {
     "output_type": "display_data",
     "data": {
      "text/html": [
       "<style scoped>\n",
       "  .table-result-container {\n",
       "    max-height: 300px;\n",
       "    overflow: auto;\n",
       "  }\n",
       "  table, th, td {\n",
       "    border: 1px solid black;\n",
       "    border-collapse: collapse;\n",
       "  }\n",
       "  th, td {\n",
       "    padding: 5px;\n",
       "  }\n",
       "  th {\n",
       "    text-align: left;\n",
       "  }\n",
       "</style><div class='table-result-container'><table class='table-result'><thead style='background-color: white'><tr><th>fixed acidity</th><th>volatile acidity</th><th>citric acid</th><th>residual sugar</th><th>chlorides</th><th>free sulfur dioxide</th><th>total sulfur dioxide</th><th>density</th><th>pH</th><th>suplhates</th><th>alcohol</th><th>quality</th><th>list</th><th>array contains</th></tr></thead><tbody><tr><td>7.0</td><td>0.27</td><td>0.36</td><td>20.7</td><td>0.045</td><td>45</td><td>170</td><td>1.001</td><td>3.0</td><td>0.45</td><td>8.8</td><td>6</td><td>List(0, ., 3, 6)</td><td>true</td></tr><tr><td>6.3</td><td>0.3</td><td>0.34</td><td>1.6</td><td>0.049</td><td>14</td><td>132</td><td>0.994</td><td>3.3</td><td>0.49</td><td>9.5</td><td>6</td><td>List(0, ., 3, 4)</td><td>true</td></tr><tr><td>8.1</td><td>0.28</td><td>0.4</td><td>6.9</td><td>0.05</td><td>30</td><td>97</td><td>0.9951</td><td>3.26</td><td>0.44</td><td>10.1</td><td>6</td><td>List(0, ., 4)</td><td>false</td></tr><tr><td>7.2</td><td>0.23</td><td>0.32</td><td>8.5</td><td>0.058</td><td>47</td><td>186</td><td>0.9956</td><td>3.19</td><td>0.4</td><td>9.9</td><td>6</td><td>List(0, ., 3, 2)</td><td>true</td></tr><tr><td>7.2</td><td>0.23</td><td>0.32</td><td>8.5</td><td>0.058</td><td>47</td><td>186</td><td>0.9956</td><td>3.19</td><td>0.4</td><td>9.9</td><td>6</td><td>List(0, ., 3, 2)</td><td>true</td></tr></tbody></table></div>"
      ]
     },
     "metadata": {
      "application/vnd.databricks.v1+output": {
       "addedWidgets": {},
       "aggData": [],
       "aggError": "",
       "aggOverflow": false,
       "aggSchema": [],
       "aggSeriesLimitReached": false,
       "aggType": "",
       "arguments": {},
       "columnCustomDisplayInfos": {},
       "data": [
        [
         7.0,
         0.27,
         0.36,
         20.7,
         0.045,
         45,
         170,
         1.001,
         3.0,
         0.45,
         8.8,
         6,
         [
          "0",
          ".",
          "3",
          "6"
         ],
         true
        ],
        [
         6.3,
         0.3,
         0.34,
         1.6,
         0.049,
         14,
         132,
         0.994,
         3.3,
         0.49,
         9.5,
         6,
         [
          "0",
          ".",
          "3",
          "4"
         ],
         true
        ],
        [
         8.1,
         0.28,
         0.4,
         6.9,
         0.05,
         30,
         97,
         0.9951,
         3.26,
         0.44,
         10.1,
         6,
         [
          "0",
          ".",
          "4"
         ],
         false
        ],
        [
         7.2,
         0.23,
         0.32,
         8.5,
         0.058,
         47,
         186,
         0.9956,
         3.19,
         0.4,
         9.9,
         6,
         [
          "0",
          ".",
          "3",
          "2"
         ],
         true
        ],
        [
         7.2,
         0.23,
         0.32,
         8.5,
         0.058,
         47,
         186,
         0.9956,
         3.19,
         0.4,
         9.9,
         6,
         [
          "0",
          ".",
          "3",
          "2"
         ],
         true
        ]
       ],
       "datasetInfos": [],
       "dbfsResultPath": null,
       "isJsonSchema": true,
       "metadata": {},
       "overflow": false,
       "plotOptions": {
        "customPlotOptions": {},
        "displayType": "table",
        "pivotAggregation": null,
        "pivotColumns": null,
        "xColumns": null,
        "yColumns": null
       },
       "removedWidgets": [],
       "schema": [
        {
         "metadata": "{}",
         "name": "fixed acidity",
         "type": "\"double\""
        },
        {
         "metadata": "{}",
         "name": "volatile acidity",
         "type": "\"double\""
        },
        {
         "metadata": "{}",
         "name": "citric acid",
         "type": "\"double\""
        },
        {
         "metadata": "{}",
         "name": "residual sugar",
         "type": "\"double\""
        },
        {
         "metadata": "{}",
         "name": "chlorides",
         "type": "\"double\""
        },
        {
         "metadata": "{}",
         "name": "free sulfur dioxide",
         "type": "\"long\""
        },
        {
         "metadata": "{}",
         "name": "total sulfur dioxide",
         "type": "\"long\""
        },
        {
         "metadata": "{}",
         "name": "density",
         "type": "\"double\""
        },
        {
         "metadata": "{}",
         "name": "pH",
         "type": "\"double\""
        },
        {
         "metadata": "{}",
         "name": "suplhates",
         "type": "\"double\""
        },
        {
         "metadata": "{}",
         "name": "alcohol",
         "type": "\"double\""
        },
        {
         "metadata": "{}",
         "name": "quality",
         "type": "\"long\""
        },
        {
         "metadata": "{}",
         "name": "list",
         "type": "{\"type\":\"array\",\"elementType\":\"string\",\"containsNull\":true}"
        },
        {
         "metadata": "{}",
         "name": "array contains",
         "type": "\"boolean\""
        }
       ],
       "type": "table"
      }
     },
     "output_type": "display_data"
    }
   ],
   "source": [
    "temp_df = df.withColumn('list', split('citric acid', ''))\n",
    "array_df = temp_df.withColumn('array contains', array_contains('list', '3'))\n",
    "display(array_df.head(5))"
   ]
  },
  {
   "cell_type": "code",
   "execution_count": 0,
   "metadata": {
    "application/vnd.databricks.v1+cell": {
     "cellMetadata": {
      "byteLimit": 2048000,
      "rowLimit": 10000
     },
     "inputWidgets": {},
     "nuid": "31b5e5e6-25fb-48b0-9158-2bd4dd61500a",
     "showTitle": false,
     "tableResultSettingsMap": {},
     "title": ""
    }
   },
   "outputs": [
    {
     "output_type": "display_data",
     "data": {
      "text/html": [
       "<style scoped>\n",
       "  .table-result-container {\n",
       "    max-height: 300px;\n",
       "    overflow: auto;\n",
       "  }\n",
       "  table, th, td {\n",
       "    border: 1px solid black;\n",
       "    border-collapse: collapse;\n",
       "  }\n",
       "  th, td {\n",
       "    padding: 5px;\n",
       "  }\n",
       "  th {\n",
       "    text-align: left;\n",
       "  }\n",
       "</style><div class='table-result-container'><table class='table-result'><thead style='background-color: white'><tr><th>avg(alcohol)</th></tr></thead><tbody><tr><td>10.514267047774638</td></tr></tbody></table></div>"
      ]
     },
     "metadata": {
      "application/vnd.databricks.v1+output": {
       "addedWidgets": {},
       "aggData": [],
       "aggError": "",
       "aggOverflow": false,
       "aggSchema": [],
       "aggSeriesLimitReached": false,
       "aggType": "",
       "arguments": {},
       "columnCustomDisplayInfos": {},
       "data": [
        [
         10.514267047774638
        ]
       ],
       "datasetInfos": [],
       "dbfsResultPath": null,
       "isJsonSchema": true,
       "metadata": {},
       "overflow": false,
       "plotOptions": {
        "customPlotOptions": {},
        "displayType": "table",
        "pivotAggregation": null,
        "pivotColumns": null,
        "xColumns": null,
        "yColumns": null
       },
       "removedWidgets": [],
       "schema": [
        {
         "metadata": "{}",
         "name": "avg(alcohol)",
         "type": "\"double\""
        }
       ],
       "type": "table"
      }
     },
     "output_type": "display_data"
    }
   ],
   "source": [
    "avg_alcohol = df.select(avg('alcohol')).collect()\n",
    "display(avg_alcohol)"
   ]
  },
  {
   "cell_type": "code",
   "execution_count": 0,
   "metadata": {
    "application/vnd.databricks.v1+cell": {
     "cellMetadata": {
      "byteLimit": 2048000,
      "rowLimit": 10000
     },
     "inputWidgets": {},
     "nuid": "6b925f78-344e-4b77-9c0b-addd0bcd6491",
     "showTitle": false,
     "tableResultSettingsMap": {},
     "title": ""
    }
   },
   "outputs": [
    {
     "output_type": "display_data",
     "data": {
      "text/html": [
       "<style scoped>\n",
       "  .table-result-container {\n",
       "    max-height: 300px;\n",
       "    overflow: auto;\n",
       "  }\n",
       "  table, th, td {\n",
       "    border: 1px solid black;\n",
       "    border-collapse: collapse;\n",
       "  }\n",
       "  th, td {\n",
       "    padding: 5px;\n",
       "  }\n",
       "  th {\n",
       "    text-align: left;\n",
       "  }\n",
       "</style><div class='table-result-container'><table class='table-result'><thead style='background-color: white'><tr><th>max(alcohol)</th></tr></thead><tbody><tr><td>14.2</td></tr></tbody></table></div>"
      ]
     },
     "metadata": {
      "application/vnd.databricks.v1+output": {
       "addedWidgets": {},
       "aggData": [],
       "aggError": "",
       "aggOverflow": false,
       "aggSchema": [],
       "aggSeriesLimitReached": false,
       "aggType": "",
       "arguments": {},
       "columnCustomDisplayInfos": {},
       "data": [
        [
         14.2
        ]
       ],
       "datasetInfos": [],
       "dbfsResultPath": null,
       "isJsonSchema": true,
       "metadata": {},
       "overflow": false,
       "plotOptions": {
        "customPlotOptions": {},
        "displayType": "table",
        "pivotAggregation": null,
        "pivotColumns": null,
        "xColumns": null,
        "yColumns": null
       },
       "removedWidgets": [],
       "schema": [
        {
         "metadata": "{}",
         "name": "max(alcohol)",
         "type": "\"double\""
        }
       ],
       "type": "table"
      }
     },
     "output_type": "display_data"
    }
   ],
   "source": [
    "max_alcohol = df.select(max('alcohol')).collect()\n",
    "display(max_alcohol)"
   ]
  },
  {
   "cell_type": "code",
   "execution_count": 0,
   "metadata": {
    "application/vnd.databricks.v1+cell": {
     "cellMetadata": {
      "byteLimit": 2048000,
      "rowLimit": 10000
     },
     "inputWidgets": {},
     "nuid": "440f5a86-9938-47d6-9c65-ca124e313c1f",
     "showTitle": false,
     "tableResultSettingsMap": {},
     "title": ""
    }
   },
   "outputs": [
    {
     "output_type": "display_data",
     "data": {
      "text/html": [
       "<style scoped>\n",
       "  .table-result-container {\n",
       "    max-height: 300px;\n",
       "    overflow: auto;\n",
       "  }\n",
       "  table, th, td {\n",
       "    border: 1px solid black;\n",
       "    border-collapse: collapse;\n",
       "  }\n",
       "  th, td {\n",
       "    padding: 5px;\n",
       "  }\n",
       "  th {\n",
       "    text-align: left;\n",
       "  }\n",
       "</style><div class='table-result-container'><table class='table-result'><thead style='background-color: white'><tr><th>min(alcohol)</th></tr></thead><tbody><tr><td>8.0</td></tr></tbody></table></div>"
      ]
     },
     "metadata": {
      "application/vnd.databricks.v1+output": {
       "addedWidgets": {},
       "aggData": [],
       "aggError": "",
       "aggOverflow": false,
       "aggSchema": [],
       "aggSeriesLimitReached": false,
       "aggType": "",
       "arguments": {},
       "columnCustomDisplayInfos": {},
       "data": [
        [
         8.0
        ]
       ],
       "datasetInfos": [],
       "dbfsResultPath": null,
       "isJsonSchema": true,
       "metadata": {},
       "overflow": false,
       "plotOptions": {
        "customPlotOptions": {},
        "displayType": "table",
        "pivotAggregation": null,
        "pivotColumns": null,
        "xColumns": null,
        "yColumns": null
       },
       "removedWidgets": [],
       "schema": [
        {
         "metadata": "{}",
         "name": "min(alcohol)",
         "type": "\"double\""
        }
       ],
       "type": "table"
      }
     },
     "output_type": "display_data"
    }
   ],
   "source": [
    "min_alcohol = df.select(min('alcohol')).collect()\n",
    "display(min_alcohol)"
   ]
  },
  {
   "cell_type": "code",
   "execution_count": 0,
   "metadata": {
    "application/vnd.databricks.v1+cell": {
     "cellMetadata": {
      "byteLimit": 2048000,
      "rowLimit": 10000
     },
     "inputWidgets": {},
     "nuid": "5058306d-90a5-4d5f-af93-4ab9ad7b6252",
     "showTitle": false,
     "tableResultSettingsMap": {},
     "title": ""
    }
   },
   "outputs": [
    {
     "output_type": "display_data",
     "data": {
      "text/html": [
       "<style scoped>\n",
       "  .table-result-container {\n",
       "    max-height: 300px;\n",
       "    overflow: auto;\n",
       "  }\n",
       "  table, th, td {\n",
       "    border: 1px solid black;\n",
       "    border-collapse: collapse;\n",
       "  }\n",
       "  th, td {\n",
       "    padding: 5px;\n",
       "  }\n",
       "  th {\n",
       "    text-align: left;\n",
       "  }\n",
       "</style><div class='table-result-container'><table class='table-result'><thead style='background-color: white'><tr><th>fixed acidity</th><th>volatile acidity</th><th>citric acid</th><th>residual sugar</th><th>chlorides</th><th>free sulfur dioxide</th><th>total sulfur dioxide</th><th>density</th><th>pH</th><th>suplhates</th><th>alcohol</th><th>quality</th><th>alcohol * 10</th></tr></thead><tbody><tr><td>7.0</td><td>0.27</td><td>0.36</td><td>20.7</td><td>0.045</td><td>45</td><td>170</td><td>1.001</td><td>3.0</td><td>0.45</td><td>8.8</td><td>6</td><td>88.0</td></tr><tr><td>6.3</td><td>0.3</td><td>0.34</td><td>1.6</td><td>0.049</td><td>14</td><td>132</td><td>0.994</td><td>3.3</td><td>0.49</td><td>9.5</td><td>6</td><td>95.0</td></tr><tr><td>8.1</td><td>0.28</td><td>0.4</td><td>6.9</td><td>0.05</td><td>30</td><td>97</td><td>0.9951</td><td>3.26</td><td>0.44</td><td>10.1</td><td>6</td><td>101.0</td></tr><tr><td>7.2</td><td>0.23</td><td>0.32</td><td>8.5</td><td>0.058</td><td>47</td><td>186</td><td>0.9956</td><td>3.19</td><td>0.4</td><td>9.9</td><td>6</td><td>99.0</td></tr><tr><td>7.2</td><td>0.23</td><td>0.32</td><td>8.5</td><td>0.058</td><td>47</td><td>186</td><td>0.9956</td><td>3.19</td><td>0.4</td><td>9.9</td><td>6</td><td>99.0</td></tr></tbody></table></div>"
      ]
     },
     "metadata": {
      "application/vnd.databricks.v1+output": {
       "addedWidgets": {},
       "aggData": [],
       "aggError": "",
       "aggOverflow": false,
       "aggSchema": [],
       "aggSeriesLimitReached": false,
       "aggType": "",
       "arguments": {},
       "columnCustomDisplayInfos": {},
       "data": [
        [
         7.0,
         0.27,
         0.36,
         20.7,
         0.045,
         45,
         170,
         1.001,
         3.0,
         0.45,
         8.8,
         6,
         88.0
        ],
        [
         6.3,
         0.3,
         0.34,
         1.6,
         0.049,
         14,
         132,
         0.994,
         3.3,
         0.49,
         9.5,
         6,
         95.0
        ],
        [
         8.1,
         0.28,
         0.4,
         6.9,
         0.05,
         30,
         97,
         0.9951,
         3.26,
         0.44,
         10.1,
         6,
         101.0
        ],
        [
         7.2,
         0.23,
         0.32,
         8.5,
         0.058,
         47,
         186,
         0.9956,
         3.19,
         0.4,
         9.9,
         6,
         99.0
        ],
        [
         7.2,
         0.23,
         0.32,
         8.5,
         0.058,
         47,
         186,
         0.9956,
         3.19,
         0.4,
         9.9,
         6,
         99.0
        ]
       ],
       "datasetInfos": [],
       "dbfsResultPath": null,
       "isJsonSchema": true,
       "metadata": {},
       "overflow": false,
       "plotOptions": {
        "customPlotOptions": {},
        "displayType": "table",
        "pivotAggregation": null,
        "pivotColumns": null,
        "xColumns": null,
        "yColumns": null
       },
       "removedWidgets": [],
       "schema": [
        {
         "metadata": "{}",
         "name": "fixed acidity",
         "type": "\"double\""
        },
        {
         "metadata": "{}",
         "name": "volatile acidity",
         "type": "\"double\""
        },
        {
         "metadata": "{}",
         "name": "citric acid",
         "type": "\"double\""
        },
        {
         "metadata": "{}",
         "name": "residual sugar",
         "type": "\"double\""
        },
        {
         "metadata": "{}",
         "name": "chlorides",
         "type": "\"double\""
        },
        {
         "metadata": "{}",
         "name": "free sulfur dioxide",
         "type": "\"long\""
        },
        {
         "metadata": "{}",
         "name": "total sulfur dioxide",
         "type": "\"long\""
        },
        {
         "metadata": "{}",
         "name": "density",
         "type": "\"double\""
        },
        {
         "metadata": "{}",
         "name": "pH",
         "type": "\"double\""
        },
        {
         "metadata": "{}",
         "name": "suplhates",
         "type": "\"double\""
        },
        {
         "metadata": "{}",
         "name": "alcohol",
         "type": "\"double\""
        },
        {
         "metadata": "{}",
         "name": "quality",
         "type": "\"long\""
        },
        {
         "metadata": "{}",
         "name": "alcohol * 10",
         "type": "\"double\""
        }
       ],
       "type": "table"
      }
     },
     "output_type": "display_data"
    }
   ],
   "source": [
    "def multiply_by_ten(number):\n",
    "    return number*10\n",
    "\n",
    "multiply_udf = df.withColumn('alcohol * 10', multiply_by_ten(col('alcohol')))\n",
    "display(multiply_udf.head(5))"
   ]
  },
  {
   "cell_type": "code",
   "execution_count": 0,
   "metadata": {
    "application/vnd.databricks.v1+cell": {
     "cellMetadata": {
      "byteLimit": 2048000,
      "rowLimit": 10000
     },
     "inputWidgets": {},
     "nuid": "27127210-111d-4789-9861-aa9b0b6867e0",
     "showTitle": false,
     "tableResultSettingsMap": {},
     "title": ""
    }
   },
   "outputs": [
    {
     "output_type": "display_data",
     "data": {
      "text/html": [
       "<style scoped>\n",
       "  .table-result-container {\n",
       "    max-height: 300px;\n",
       "    overflow: auto;\n",
       "  }\n",
       "  table, th, td {\n",
       "    border: 1px solid black;\n",
       "    border-collapse: collapse;\n",
       "  }\n",
       "  th, td {\n",
       "    padding: 5px;\n",
       "  }\n",
       "  th {\n",
       "    text-align: left;\n",
       "  }\n",
       "</style><div class='table-result-container'><table class='table-result'><thead style='background-color: white'><tr><th>fixed acidity</th><th>volatile acidity</th><th>citric acid</th><th>residual sugar</th><th>chlorides</th><th>free sulfur dioxide</th><th>total sulfur dioxide</th><th>density</th><th>pH</th><th>suplhates</th><th>alcohol</th><th>quality</th><th>string udf</th></tr></thead><tbody><tr><td>7.0</td><td>0.27</td><td>0.36</td><td>20.7</td><td>0.045</td><td>45</td><td>170</td><td>1.001</td><td>3.0</td><td>0.45</td><td>8.8</td><td>6</td><td>8.8%</td></tr><tr><td>6.3</td><td>0.3</td><td>0.34</td><td>1.6</td><td>0.049</td><td>14</td><td>132</td><td>0.994</td><td>3.3</td><td>0.49</td><td>9.5</td><td>6</td><td>9.5%</td></tr><tr><td>8.1</td><td>0.28</td><td>0.4</td><td>6.9</td><td>0.05</td><td>30</td><td>97</td><td>0.9951</td><td>3.26</td><td>0.44</td><td>10.1</td><td>6</td><td>10.1%</td></tr><tr><td>7.2</td><td>0.23</td><td>0.32</td><td>8.5</td><td>0.058</td><td>47</td><td>186</td><td>0.9956</td><td>3.19</td><td>0.4</td><td>9.9</td><td>6</td><td>9.9%</td></tr><tr><td>7.2</td><td>0.23</td><td>0.32</td><td>8.5</td><td>0.058</td><td>47</td><td>186</td><td>0.9956</td><td>3.19</td><td>0.4</td><td>9.9</td><td>6</td><td>9.9%</td></tr></tbody></table></div>"
      ]
     },
     "metadata": {
      "application/vnd.databricks.v1+output": {
       "addedWidgets": {},
       "aggData": [],
       "aggError": "",
       "aggOverflow": false,
       "aggSchema": [],
       "aggSeriesLimitReached": false,
       "aggType": "",
       "arguments": {},
       "columnCustomDisplayInfos": {},
       "data": [
        [
         7.0,
         0.27,
         0.36,
         20.7,
         0.045,
         45,
         170,
         1.001,
         3.0,
         0.45,
         8.8,
         6,
         "8.8%"
        ],
        [
         6.3,
         0.3,
         0.34,
         1.6,
         0.049,
         14,
         132,
         0.994,
         3.3,
         0.49,
         9.5,
         6,
         "9.5%"
        ],
        [
         8.1,
         0.28,
         0.4,
         6.9,
         0.05,
         30,
         97,
         0.9951,
         3.26,
         0.44,
         10.1,
         6,
         "10.1%"
        ],
        [
         7.2,
         0.23,
         0.32,
         8.5,
         0.058,
         47,
         186,
         0.9956,
         3.19,
         0.4,
         9.9,
         6,
         "9.9%"
        ],
        [
         7.2,
         0.23,
         0.32,
         8.5,
         0.058,
         47,
         186,
         0.9956,
         3.19,
         0.4,
         9.9,
         6,
         "9.9%"
        ]
       ],
       "datasetInfos": [],
       "dbfsResultPath": null,
       "isJsonSchema": true,
       "metadata": {},
       "overflow": false,
       "plotOptions": {
        "customPlotOptions": {},
        "displayType": "table",
        "pivotAggregation": null,
        "pivotColumns": null,
        "xColumns": null,
        "yColumns": null
       },
       "removedWidgets": [],
       "schema": [
        {
         "metadata": "{}",
         "name": "fixed acidity",
         "type": "\"double\""
        },
        {
         "metadata": "{}",
         "name": "volatile acidity",
         "type": "\"double\""
        },
        {
         "metadata": "{}",
         "name": "citric acid",
         "type": "\"double\""
        },
        {
         "metadata": "{}",
         "name": "residual sugar",
         "type": "\"double\""
        },
        {
         "metadata": "{}",
         "name": "chlorides",
         "type": "\"double\""
        },
        {
         "metadata": "{}",
         "name": "free sulfur dioxide",
         "type": "\"long\""
        },
        {
         "metadata": "{}",
         "name": "total sulfur dioxide",
         "type": "\"long\""
        },
        {
         "metadata": "{}",
         "name": "density",
         "type": "\"double\""
        },
        {
         "metadata": "{}",
         "name": "pH",
         "type": "\"double\""
        },
        {
         "metadata": "{}",
         "name": "suplhates",
         "type": "\"double\""
        },
        {
         "metadata": "{}",
         "name": "alcohol",
         "type": "\"double\""
        },
        {
         "metadata": "{}",
         "name": "quality",
         "type": "\"long\""
        },
        {
         "metadata": "{}",
         "name": "string udf",
         "type": "\"string\""
        }
       ],
       "type": "table"
      }
     },
     "output_type": "display_data"
    }
   ],
   "source": [
    "@udf(StringType())\n",
    "def add_percent(value):\n",
    "    return str(value) + '%'\n",
    "\n",
    "string_udf = df.withColumn('string udf', add_percent(col('alcohol')))\n",
    "display(string_udf.head(5))"
   ]
  },
  {
   "cell_type": "code",
   "execution_count": 0,
   "metadata": {
    "application/vnd.databricks.v1+cell": {
     "cellMetadata": {},
     "inputWidgets": {},
     "nuid": "86044e07-5c2e-426f-b6fb-8d1f98750748",
     "showTitle": false,
     "tableResultSettingsMap": {},
     "title": ""
    }
   },
   "outputs": [],
   "source": []
  }
 ],
 "metadata": {
  "application/vnd.databricks.v1+notebook": {
   "computePreferences": null,
   "dashboards": [],
   "environmentMetadata": {
    "base_environment": "",
    "environment_version": "1"
   },
   "inputWidgetPreferences": null,
   "language": "python",
   "notebookMetadata": {
    "pythonIndentUnit": 4
   },
   "notebookName": "cw1,2",
   "widgets": {}
  }
 },
 "nbformat": 4,
 "nbformat_minor": 0
}